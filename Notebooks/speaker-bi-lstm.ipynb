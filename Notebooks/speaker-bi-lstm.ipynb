{
 "metadata": {
  "kernelspec": {
   "language": "python",
   "display_name": "Python 3",
   "name": "python3"
  },
  "language_info": {
   "name": "python",
   "version": "3.7.12",
   "mimetype": "text/x-python",
   "codemirror_mode": {
    "name": "ipython",
    "version": 3
   },
   "pygments_lexer": "ipython3",
   "nbconvert_exporter": "python",
   "file_extension": ".py"
  }
 },
 "nbformat_minor": 4,
 "nbformat": 4,
 "cells": [
  {
   "cell_type": "code",
   "source": [
    "from transformers import BertTokenizer, BertModel\n",
    "from torch.utils.data import DataLoader, TensorDataset\n",
    "from datasets import load_dataset\n",
    "import pandas as pd\n",
    "import torch\n"
   ],
   "metadata": {
    "execution": {
     "iopub.status.busy": "2023-03-17T14:49:24.422779Z",
     "iopub.execute_input": "2023-03-17T14:49:24.423269Z",
     "iopub.status.idle": "2023-03-17T14:49:37.187664Z",
     "shell.execute_reply.started": "2023-03-17T14:49:24.423225Z",
     "shell.execute_reply": "2023-03-17T14:49:37.186559Z"
    },
    "trusted": true
   },
   "execution_count": 1,
   "outputs": []
  },
  {
   "cell_type": "markdown",
   "source": [
    "## Data"
   ],
   "metadata": {}
  },
  {
   "cell_type": "markdown",
   "source": [
    "### Data loading"
   ],
   "metadata": {}
  },
  {
   "cell_type": "code",
   "source": [
    "swda = load_dataset(\"swda\")"
   ],
   "metadata": {
    "execution": {
     "iopub.status.busy": "2023-03-17T14:50:40.470719Z",
     "iopub.execute_input": "2023-03-17T14:50:40.471194Z",
     "iopub.status.idle": "2023-03-17T14:52:07.539054Z",
     "shell.execute_reply.started": "2023-03-17T14:50:40.471151Z",
     "shell.execute_reply": "2023-03-17T14:52:07.537991Z"
    },
    "trusted": true
   },
   "execution_count": 3,
   "outputs": [
    {
     "output_type": "display_data",
     "data": {
      "text/plain": "Downloading builder script:   0%|          | 0.00/7.11k [00:00<?, ?B/s]",
      "application/vnd.jupyter.widget-view+json": {
       "version_major": 2,
       "version_minor": 0,
       "model_id": "a57a60c5a2644825849c25bdf2dd0e86"
      }
     },
     "metadata": {}
    },
    {
     "output_type": "display_data",
     "data": {
      "text/plain": "Downloading metadata:   0%|          | 0.00/2.54k [00:00<?, ?B/s]",
      "application/vnd.jupyter.widget-view+json": {
       "version_major": 2,
       "version_minor": 0,
       "model_id": "aa3f2cbaded44fcd8b2db5c06afb467a"
      }
     },
     "metadata": {}
    },
    {
     "name": "stdout",
     "text": "Downloading and preparing dataset swda/default (download: 13.79 MiB, generated: 158.13 MiB, post-processed: Unknown size, total: 171.91 MiB) to /root/.cache/huggingface/datasets/swda/default/0.0.0/b53d17ec4c6e31d0921591dd2d8e86d15850822209a980fcddb2983fc948e499...\n",
     "output_type": "stream"
    },
    {
     "output_type": "display_data",
     "data": {
      "text/plain": "Downloading data:   0%|          | 0.00/14.4M [00:00<?, ?B/s]",
      "application/vnd.jupyter.widget-view+json": {
       "version_major": 2,
       "version_minor": 0,
       "model_id": "7b46fa8fa4204f88bae3d3d50bac767a"
      }
     },
     "metadata": {}
    },
    {
     "output_type": "display_data",
     "data": {
      "text/plain": "Downloading data files:   0%|          | 0/3 [00:00<?, ?it/s]",
      "application/vnd.jupyter.widget-view+json": {
       "version_major": 2,
       "version_minor": 0,
       "model_id": "1abaea995ae5401e8107a4235a0474b1"
      }
     },
     "metadata": {}
    },
    {
     "output_type": "display_data",
     "data": {
      "text/plain": "Downloading data:   0%|          | 0.00/2.24k [00:00<?, ?B/s]",
      "application/vnd.jupyter.widget-view+json": {
       "version_major": 2,
       "version_minor": 0,
       "model_id": "37d3b177cb50438197748e4f86b3504d"
      }
     },
     "metadata": {}
    },
    {
     "output_type": "display_data",
     "data": {
      "text/plain": "Downloading data:   0%|          | 0.00/579 [00:00<?, ?B/s]",
      "application/vnd.jupyter.widget-view+json": {
       "version_major": 2,
       "version_minor": 0,
       "model_id": "2a41a7612b66421e901f976f463fb1cd"
      }
     },
     "metadata": {}
    },
    {
     "output_type": "display_data",
     "data": {
      "text/plain": "Downloading data:   0%|          | 0.00/75.0 [00:00<?, ?B/s]",
      "application/vnd.jupyter.widget-view+json": {
       "version_major": 2,
       "version_minor": 0,
       "model_id": "221bf43dc8d04004851accc5ff4f0f96"
      }
     },
     "metadata": {}
    },
    {
     "output_type": "display_data",
     "data": {
      "text/plain": "Extracting data files:   0%|          | 0/3 [00:00<?, ?it/s]",
      "application/vnd.jupyter.widget-view+json": {
       "version_major": 2,
       "version_minor": 0,
       "model_id": "6aaa0b2549cd4ab68f1340746cdceef3"
      }
     },
     "metadata": {}
    },
    {
     "output_type": "display_data",
     "data": {
      "text/plain": "Generating train split:   0%|          | 0/213543 [00:00<?, ? examples/s]",
      "application/vnd.jupyter.widget-view+json": {
       "version_major": 2,
       "version_minor": 0,
       "model_id": ""
      }
     },
     "metadata": {}
    },
    {
     "output_type": "display_data",
     "data": {
      "text/plain": "Generating validation split:   0%|          | 0/56729 [00:00<?, ? examples/s]",
      "application/vnd.jupyter.widget-view+json": {
       "version_major": 2,
       "version_minor": 0,
       "model_id": ""
      }
     },
     "metadata": {}
    },
    {
     "output_type": "display_data",
     "data": {
      "text/plain": "Generating test split:   0%|          | 0/4514 [00:00<?, ? examples/s]",
      "application/vnd.jupyter.widget-view+json": {
       "version_major": 2,
       "version_minor": 0,
       "model_id": ""
      }
     },
     "metadata": {}
    },
    {
     "name": "stdout",
     "text": "Dataset swda downloaded and prepared to /root/.cache/huggingface/datasets/swda/default/0.0.0/b53d17ec4c6e31d0921591dd2d8e86d15850822209a980fcddb2983fc948e499. Subsequent calls will reuse this data.\n",
     "output_type": "stream"
    },
    {
     "output_type": "display_data",
     "data": {
      "text/plain": "  0%|          | 0/3 [00:00<?, ?it/s]",
      "application/vnd.jupyter.widget-view+json": {
       "version_major": 2,
       "version_minor": 0,
       "model_id": "0ebf529531b14a2fb52bba9da75fd7aa"
      }
     },
     "metadata": {}
    }
   ]
  },
  {
   "cell_type": "markdown",
   "source": [
    "### Data cleaning"
   ],
   "metadata": {}
  },
  {
   "cell_type": "code",
   "source": [
    "import re\n",
    "\n",
    "def clean_swda_utterance(text):\n",
    "    \"\"\"\n",
    "    This function takes a string of SWDA utterance text and returns a cleaned version of the text.\n",
    "    \"\"\"\n",
    "    # Remove square brackets and anything inside them\n",
    "    text = re.sub(r'\\[.*?\\]', '', text)\n",
    "    \n",
    "    # Remove leading and trailing whitespaces\n",
    "    text = text.strip()\n",
    "    \n",
    "    # Remove any remaining parentheses and their contents\n",
    "    text = re.sub(r'\\(.*?\\)', '', text)\n",
    "    \n",
    "    # Remove any remaining non-alphanumeric characters except for spaces\n",
    "    text = re.sub(r'[^a-zA-Z0-9\\s]', '', text)\n",
    "    \n",
    "    # Convert all letters to lowercase\n",
    "    text = text.lower()\n",
    "    \n",
    "    # Remove any residual spaces\n",
    "    text = ' '.join(text.split())\n",
    "    \n",
    "    return {\"text\": text}\n"
   ],
   "metadata": {
    "execution": {
     "iopub.status.busy": "2023-03-17T14:52:07.541207Z",
     "iopub.execute_input": "2023-03-17T14:52:07.541888Z",
     "iopub.status.idle": "2023-03-17T14:52:07.549696Z",
     "shell.execute_reply.started": "2023-03-17T14:52:07.541848Z",
     "shell.execute_reply": "2023-03-17T14:52:07.548709Z"
    },
    "trusted": true
   },
   "execution_count": 4,
   "outputs": []
  },
  {
   "cell_type": "code",
   "source": [
    "swda = swda.map(lambda x : clean_swda_utterance(x['text']))\n"
   ],
   "metadata": {
    "execution": {
     "iopub.status.busy": "2023-03-17T14:52:07.551395Z",
     "iopub.execute_input": "2023-03-17T14:52:07.551775Z",
     "iopub.status.idle": "2023-03-17T14:53:26.073577Z",
     "shell.execute_reply.started": "2023-03-17T14:52:07.551740Z",
     "shell.execute_reply": "2023-03-17T14:53:26.072519Z"
    },
    "trusted": true
   },
   "execution_count": 5,
   "outputs": [
    {
     "output_type": "display_data",
     "data": {
      "text/plain": "  0%|          | 0/213543 [00:00<?, ?ex/s]",
      "application/vnd.jupyter.widget-view+json": {
       "version_major": 2,
       "version_minor": 0,
       "model_id": "23fbdf0bc93f4d1a85acc7ff34994361"
      }
     },
     "metadata": {}
    },
    {
     "output_type": "display_data",
     "data": {
      "text/plain": "  0%|          | 0/56729 [00:00<?, ?ex/s]",
      "application/vnd.jupyter.widget-view+json": {
       "version_major": 2,
       "version_minor": 0,
       "model_id": "d575f136882240a3bcc7a0942b1fb339"
      }
     },
     "metadata": {}
    },
    {
     "output_type": "display_data",
     "data": {
      "text/plain": "  0%|          | 0/4514 [00:00<?, ?ex/s]",
      "application/vnd.jupyter.widget-view+json": {
       "version_major": 2,
       "version_minor": 0,
       "model_id": "165bf66c574c4b0cbba21e081ba27c62"
      }
     },
     "metadata": {}
    }
   ]
  },
  {
   "cell_type": "code",
   "source": [
    "# Define the data preprocessing function\n",
    "def preprocess_data(utterance):\n",
    "    text = utterance['text']\n",
    "    speaker = utterance['caller']\n",
    "    label = utterance['damsl_act_tag']\n",
    "\n",
    "    return {'text': text, 'speaker': speaker, 'label': label}\n",
    "# Preprocess the data\n",
    "swda = swda.map(preprocess_data)"
   ],
   "metadata": {
    "execution": {
     "iopub.status.busy": "2023-03-17T14:53:26.076754Z",
     "iopub.execute_input": "2023-03-17T14:53:26.077060Z",
     "iopub.status.idle": "2023-03-17T14:54:35.235187Z",
     "shell.execute_reply.started": "2023-03-17T14:53:26.077030Z",
     "shell.execute_reply": "2023-03-17T14:54:35.234159Z"
    },
    "trusted": true
   },
   "execution_count": 6,
   "outputs": [
    {
     "output_type": "display_data",
     "data": {
      "text/plain": "  0%|          | 0/213543 [00:00<?, ?ex/s]",
      "application/vnd.jupyter.widget-view+json": {
       "version_major": 2,
       "version_minor": 0,
       "model_id": "17a1f954c3b048ec8ddd825395702d80"
      }
     },
     "metadata": {}
    },
    {
     "output_type": "display_data",
     "data": {
      "text/plain": "  0%|          | 0/56729 [00:00<?, ?ex/s]",
      "application/vnd.jupyter.widget-view+json": {
       "version_major": 2,
       "version_minor": 0,
       "model_id": "b5310227d6034f1da86bf129067f0a18"
      }
     },
     "metadata": {}
    },
    {
     "output_type": "display_data",
     "data": {
      "text/plain": "  0%|          | 0/4514 [00:00<?, ?ex/s]",
      "application/vnd.jupyter.widget-view+json": {
       "version_major": 2,
       "version_minor": 0,
       "model_id": "df3f367dc0b3467b9928b3fe227fd6eb"
      }
     },
     "metadata": {}
    }
   ]
  },
  {
   "cell_type": "code",
   "source": [
    "swda.remove_columns(['swda_filename', 'ptb_basename', 'conversation_no', 'transcript_index', 'act_tag', 'damsl_act_tag', 'caller', 'utterance_index', 'subutterance_index','pos', 'trees', 'ptb_treenumbers', 'talk_day', 'length', 'topic_description', 'prompt', 'from_caller', 'from_caller_sex', 'from_caller_education', 'from_caller_birth_year', 'from_caller_dialect_area', 'to_caller', 'to_caller_sex', 'to_caller_education', 'to_caller_birth_year', 'to_caller_dialect_area'])"
   ],
   "metadata": {
    "execution": {
     "iopub.status.busy": "2023-03-17T14:54:35.238784Z",
     "iopub.execute_input": "2023-03-17T14:54:35.239090Z",
     "iopub.status.idle": "2023-03-17T14:54:35.267154Z",
     "shell.execute_reply.started": "2023-03-17T14:54:35.239062Z",
     "shell.execute_reply": "2023-03-17T14:54:35.266081Z"
    },
    "trusted": true
   },
   "execution_count": 7,
   "outputs": [
    {
     "execution_count": 7,
     "output_type": "execute_result",
     "data": {
      "text/plain": "DatasetDict({\n    train: Dataset({\n        features: ['text', 'speaker', 'label'],\n        num_rows: 213543\n    })\n    validation: Dataset({\n        features: ['text', 'speaker', 'label'],\n        num_rows: 56729\n    })\n    test: Dataset({\n        features: ['text', 'speaker', 'label'],\n        num_rows: 4514\n    })\n})"
     },
     "metadata": {}
    }
   ]
  },
  {
   "cell_type": "code",
   "source": [
    "def map_speaker_to_int(data):\n",
    "    \"\"\"\n",
    "    This function maps the speaker information in an example to 0 or 1.\n",
    "    \"\"\"\n",
    "    # Get the caller information from the example\n",
    "    caller = data[\"caller\"]\n",
    "    \n",
    "    # Map the caller to 0 or 1\n",
    "    if caller == \"A\":\n",
    "        data[\"speaker\"] = 0\n",
    "    elif caller == \"B\":\n",
    "        data[\"speaker\"] = 1\n",
    "    \n",
    "    return data"
   ],
   "metadata": {
    "execution": {
     "iopub.status.busy": "2023-03-17T14:54:35.269723Z",
     "iopub.execute_input": "2023-03-17T14:54:35.271336Z",
     "iopub.status.idle": "2023-03-17T14:54:35.328152Z",
     "shell.execute_reply.started": "2023-03-17T14:54:35.271293Z",
     "shell.execute_reply": "2023-03-17T14:54:35.327072Z"
    },
    "trusted": true
   },
   "execution_count": 8,
   "outputs": []
  },
  {
   "cell_type": "code",
   "source": [
    "swda = swda.map(map_speaker_to_int)"
   ],
   "metadata": {
    "execution": {
     "iopub.status.busy": "2023-03-17T14:54:35.331688Z",
     "iopub.execute_input": "2023-03-17T14:54:35.332602Z",
     "iopub.status.idle": "2023-03-17T14:55:43.343230Z",
     "shell.execute_reply.started": "2023-03-17T14:54:35.332562Z",
     "shell.execute_reply": "2023-03-17T14:55:43.342322Z"
    },
    "trusted": true
   },
   "execution_count": 9,
   "outputs": [
    {
     "output_type": "display_data",
     "data": {
      "text/plain": "  0%|          | 0/213543 [00:00<?, ?ex/s]",
      "application/vnd.jupyter.widget-view+json": {
       "version_major": 2,
       "version_minor": 0,
       "model_id": "f710c1d0001347c6acacf78126531c86"
      }
     },
     "metadata": {}
    },
    {
     "output_type": "display_data",
     "data": {
      "text/plain": "  0%|          | 0/56729 [00:00<?, ?ex/s]",
      "application/vnd.jupyter.widget-view+json": {
       "version_major": 2,
       "version_minor": 0,
       "model_id": "bbae15cff571440a8fa78bcba12ecd61"
      }
     },
     "metadata": {}
    },
    {
     "output_type": "display_data",
     "data": {
      "text/plain": "  0%|          | 0/4514 [00:00<?, ?ex/s]",
      "application/vnd.jupyter.widget-view+json": {
       "version_major": 2,
       "version_minor": 0,
       "model_id": "c668c89543ac4426bc1579d326cb54ac"
      }
     },
     "metadata": {}
    }
   ]
  },
  {
   "cell_type": "code",
   "source": [
    "train_dataset = pd.DataFrame(swda['train'])\n",
    "val_dataset = pd.DataFrame(swda['validation'])"
   ],
   "metadata": {
    "execution": {
     "iopub.status.busy": "2023-03-17T14:55:43.345116Z",
     "iopub.execute_input": "2023-03-17T14:55:43.345499Z",
     "iopub.status.idle": "2023-03-17T14:56:53.331396Z",
     "shell.execute_reply.started": "2023-03-17T14:55:43.345461Z",
     "shell.execute_reply": "2023-03-17T14:56:53.330330Z"
    },
    "trusted": true
   },
   "execution_count": 10,
   "outputs": []
  },
  {
   "cell_type": "code",
   "source": [
    "test_dataset = pd.DataFrame(swda['test'])\n",
    "test_dataset = test_dataset[['conversation_no','speaker','text','damsl_act_tag']]"
   ],
   "metadata": {
    "execution": {
     "iopub.status.busy": "2023-03-17T14:56:53.334128Z",
     "iopub.execute_input": "2023-03-17T14:56:53.334809Z",
     "iopub.status.idle": "2023-03-17T14:56:54.473913Z",
     "shell.execute_reply.started": "2023-03-17T14:56:53.334758Z",
     "shell.execute_reply": "2023-03-17T14:56:54.472777Z"
    },
    "trusted": true
   },
   "execution_count": 11,
   "outputs": []
  },
  {
   "cell_type": "code",
   "source": [
    "train_dataset = train_dataset[['conversation_no','speaker','text','damsl_act_tag']]\n",
    "val_dataset = val_dataset[['conversation_no','speaker','text','damsl_act_tag']]\n"
   ],
   "metadata": {
    "execution": {
     "iopub.status.busy": "2023-03-17T14:56:54.478353Z",
     "iopub.execute_input": "2023-03-17T14:56:54.478756Z",
     "iopub.status.idle": "2023-03-17T14:56:54.614816Z",
     "shell.execute_reply.started": "2023-03-17T14:56:54.478716Z",
     "shell.execute_reply": "2023-03-17T14:56:54.613550Z"
    },
    "trusted": true
   },
   "execution_count": 12,
   "outputs": []
  },
  {
   "cell_type": "markdown",
   "source": [
    "### Data Processing"
   ],
   "metadata": {}
  },
  {
   "cell_type": "code",
   "source": [
    "# Load BERT tokenizer\n",
    "tokenizer = BertTokenizer.from_pretrained('bert-base-uncased')"
   ],
   "metadata": {
    "execution": {
     "iopub.status.busy": "2023-03-17T14:56:54.616471Z",
     "iopub.execute_input": "2023-03-17T14:56:54.617020Z",
     "iopub.status.idle": "2023-03-17T14:56:57.084763Z",
     "shell.execute_reply.started": "2023-03-17T14:56:54.616979Z",
     "shell.execute_reply": "2023-03-17T14:56:57.083711Z"
    },
    "trusted": true
   },
   "execution_count": 13,
   "outputs": [
    {
     "output_type": "display_data",
     "data": {
      "text/plain": "Downloading (…)solve/main/vocab.txt:   0%|          | 0.00/232k [00:00<?, ?B/s]",
      "application/vnd.jupyter.widget-view+json": {
       "version_major": 2,
       "version_minor": 0,
       "model_id": "0c0d83576d064b11a248fc09219608e8"
      }
     },
     "metadata": {}
    },
    {
     "output_type": "display_data",
     "data": {
      "text/plain": "Downloading (…)okenizer_config.json:   0%|          | 0.00/28.0 [00:00<?, ?B/s]",
      "application/vnd.jupyter.widget-view+json": {
       "version_major": 2,
       "version_minor": 0,
       "model_id": "26773510c7df41d8a15489a06cc06425"
      }
     },
     "metadata": {}
    },
    {
     "output_type": "display_data",
     "data": {
      "text/plain": "Downloading (…)lve/main/config.json:   0%|          | 0.00/570 [00:00<?, ?B/s]",
      "application/vnd.jupyter.widget-view+json": {
       "version_major": 2,
       "version_minor": 0,
       "model_id": "f9699b2132b2463494c86cfd8996a947"
      }
     },
     "metadata": {}
    }
   ]
  },
  {
   "cell_type": "code",
   "source": [
    "def pre_process(data):\n",
    "    \n",
    "    # Create mapping of speaker IDs\n",
    "    speakers = data[\"speaker\"].unique()\n",
    "    speaker_to_id = {speaker: i for i, speaker in enumerate(speakers)}\n",
    "\n",
    "    # Group utterances by conversation ID\n",
    "    conversations = data.groupby(\"conversation_no\")\n",
    "    \n",
    "\n",
    "    # Create input sequences for each conversation\n",
    "    inputs = []\n",
    "    speakers_id = []\n",
    "    da_labels_all = []\n",
    "    for _, conversation in conversations:\n",
    "        \n",
    "        # Select conversation with more than 30 utterances\n",
    "        if len(conversation[\"text\"]) >= 30:\n",
    "\n",
    "            # Tokenize text\n",
    "            tokenized_text = [[tokenizer.encode(utterance)[:128] + [tokenizer.pad_token_id] * (128 - len(tokenizer.encode(utterance)[:128])) for utterance in conversation[\"text\"][:30]]]\n",
    "\n",
    "            # Add [SEP] tokens between utterances\n",
    "            tokenized_text = [token for seq in tokenized_text for token in seq]\n",
    "\n",
    "            # Convert speaker IDs\n",
    "            speaker_ids = [speaker_to_id[speaker] for speaker in conversation[\"speaker\"][:30]]\n",
    "\n",
    "            # Convert DA labels\n",
    "            da_labels = torch.tensor(conversation[\"damsl_act_tag\"][:30].values)\n",
    "\n",
    "\n",
    "            # Convert to PyTorch tensors and add to inputs list\n",
    "            inputs.append(torch.tensor(tokenized_text))\n",
    "            speakers_id.append(torch.tensor(speaker_ids))\n",
    "            da_labels_all.append(da_labels)\n",
    "            \n",
    "         \n",
    "        \n",
    "    \n",
    "    return torch.stack(inputs),  torch.stack(speakers_id), torch.stack(da_labels_all)\n"
   ],
   "metadata": {
    "execution": {
     "iopub.status.busy": "2023-03-17T14:56:57.086159Z",
     "iopub.execute_input": "2023-03-17T14:56:57.086821Z",
     "iopub.status.idle": "2023-03-17T14:56:57.097489Z",
     "shell.execute_reply.started": "2023-03-17T14:56:57.086781Z",
     "shell.execute_reply": "2023-03-17T14:56:57.096404Z"
    },
    "trusted": true
   },
   "execution_count": 14,
   "outputs": []
  },
  {
   "cell_type": "code",
   "source": [
    "inputs, speakers, labels = pre_process(train_dataset)\n",
    "val_inputs, val_speakers, val_labels = pre_process(val_dataset)"
   ],
   "metadata": {
    "execution": {
     "iopub.status.busy": "2023-03-17T14:56:57.098925Z",
     "iopub.execute_input": "2023-03-17T14:56:57.099382Z",
     "iopub.status.idle": "2023-03-17T14:57:23.345006Z",
     "shell.execute_reply.started": "2023-03-17T14:56:57.099342Z",
     "shell.execute_reply": "2023-03-17T14:57:23.343932Z"
    },
    "trusted": true
   },
   "execution_count": 15,
   "outputs": []
  },
  {
   "cell_type": "code",
   "source": [
    "train_df = TensorDataset(inputs, speakers, labels)\n",
    "val_df = TensorDataset(val_inputs, val_speakers, val_labels)"
   ],
   "metadata": {
    "execution": {
     "iopub.status.busy": "2023-03-17T14:57:23.346954Z",
     "iopub.execute_input": "2023-03-17T14:57:23.347351Z",
     "iopub.status.idle": "2023-03-17T14:57:23.354546Z",
     "shell.execute_reply.started": "2023-03-17T14:57:23.347312Z",
     "shell.execute_reply": "2023-03-17T14:57:23.353328Z"
    },
    "trusted": true
   },
   "execution_count": 16,
   "outputs": []
  },
  {
   "cell_type": "code",
   "source": [
    "bert_model = BertModel.from_pretrained('bert-base-uncased')\n",
    "\n",
    "train_loader = DataLoader(train_df, batch_size=4, shuffle=True)\n",
    "val_loader = DataLoader(val_df, batch_size=4, shuffle=True)"
   ],
   "metadata": {
    "execution": {
     "iopub.status.busy": "2023-03-17T14:57:23.356240Z",
     "iopub.execute_input": "2023-03-17T14:57:23.356755Z",
     "iopub.status.idle": "2023-03-17T14:57:27.192413Z",
     "shell.execute_reply.started": "2023-03-17T14:57:23.356711Z",
     "shell.execute_reply": "2023-03-17T14:57:27.191467Z"
    },
    "trusted": true
   },
   "execution_count": 17,
   "outputs": [
    {
     "output_type": "display_data",
     "data": {
      "text/plain": "Downloading (…)\"pytorch_model.bin\";:   0%|          | 0.00/440M [00:00<?, ?B/s]",
      "application/vnd.jupyter.widget-view+json": {
       "version_major": 2,
       "version_minor": 0,
       "model_id": "fc27360b9f9e4edebedff545ec4815c9"
      }
     },
     "metadata": {}
    },
    {
     "name": "stderr",
     "text": "Some weights of the model checkpoint at bert-base-uncased were not used when initializing BertModel: ['cls.predictions.bias', 'cls.predictions.transform.LayerNorm.weight', 'cls.predictions.transform.LayerNorm.bias', 'cls.predictions.decoder.weight', 'cls.predictions.transform.dense.weight', 'cls.seq_relationship.weight', 'cls.predictions.transform.dense.bias', 'cls.seq_relationship.bias']\n- This IS expected if you are initializing BertModel from the checkpoint of a model trained on another task or with another architecture (e.g. initializing a BertForSequenceClassification model from a BertForPreTraining model).\n- This IS NOT expected if you are initializing BertModel from the checkpoint of a model that you expect to be exactly identical (initializing a BertForSequenceClassification model from a BertForSequenceClassification model).\n",
     "output_type": "stream"
    }
   ]
  },
  {
   "cell_type": "code",
   "source": [
    "import gc\n",
    "torch.cuda.empty_cache()\n",
    "gc.collect()"
   ],
   "metadata": {
    "execution": {
     "iopub.status.busy": "2023-03-17T14:57:27.193982Z",
     "iopub.execute_input": "2023-03-17T14:57:27.194375Z",
     "iopub.status.idle": "2023-03-17T14:57:27.428687Z",
     "shell.execute_reply.started": "2023-03-17T14:57:27.194335Z",
     "shell.execute_reply": "2023-03-17T14:57:27.427423Z"
    },
    "trusted": true
   },
   "execution_count": 18,
   "outputs": [
    {
     "execution_count": 18,
     "output_type": "execute_result",
     "data": {
      "text/plain": "322"
     },
     "metadata": {}
    }
   ]
  },
  {
   "cell_type": "code",
   "source": [
    "!nvidia-smi"
   ],
   "metadata": {
    "execution": {
     "iopub.status.busy": "2023-03-17T15:04:34.559534Z",
     "iopub.execute_input": "2023-03-17T15:04:34.560487Z",
     "iopub.status.idle": "2023-03-17T15:04:35.585093Z",
     "shell.execute_reply.started": "2023-03-17T15:04:34.560449Z",
     "shell.execute_reply": "2023-03-17T15:04:35.583607Z"
    },
    "trusted": true
   },
   "execution_count": 21,
   "outputs": [
    {
     "name": "stdout",
     "text": "Fri Mar 17 15:04:35 2023       \n+-----------------------------------------------------------------------------+\n| NVIDIA-SMI 470.82.01    Driver Version: 470.82.01    CUDA Version: 11.4     |\n|-------------------------------+----------------------+----------------------+\n| GPU  Name        Persistence-M| Bus-Id        Disp.A | Volatile Uncorr. ECC |\n| Fan  Temp  Perf  Pwr:Usage/Cap|         Memory-Usage | GPU-Util  Compute M. |\n|                               |                      |               MIG M. |\n|===============================+======================+======================|\n|   0  Tesla P100-PCIE...  Off  | 00000000:00:04.0 Off |                    0 |\n| N/A   38C    P0    27W / 250W |      0MiB / 16280MiB |      0%      Default |\n|                               |                      |                  N/A |\n+-------------------------------+----------------------+----------------------+\n                                                                               \n+-----------------------------------------------------------------------------+\n| Processes:                                                                  |\n|  GPU   GI   CI        PID   Type   Process name                  GPU Memory |\n|        ID   ID                                                   Usage      |\n|=============================================================================|\n|  No running processes found                                                 |\n+-----------------------------------------------------------------------------+\n",
     "output_type": "stream"
    }
   ]
  },
  {
   "cell_type": "markdown",
   "source": [
    "## Bi-LSTM_cls Model with speaker"
   ],
   "metadata": {}
  },
  {
   "cell_type": "markdown",
   "source": [
    "### Model definition"
   ],
   "metadata": {}
  },
  {
   "cell_type": "code",
   "source": [
    "import torch\n",
    "from transformers import BertModel\n",
    "\n",
    "class SpeakerTurnDialogueActClassifier(torch.nn.Module):\n",
    "    def __init__(self, bert_model, num_speakers, num_labels):\n",
    "        super(SpeakerTurnDialogueActClassifier, self).__init__()\n",
    "        \n",
    "        self.bert = bert_model\n",
    "        \n",
    "        self.speaker_embedding = torch.nn.Embedding(num_speakers, 768)\n",
    "                \n",
    "        self.lstm = torch.nn.LSTM(input_size=768, hidden_size=256, num_layers=2, bidirectional=True, batch_first=True)\n",
    "                \n",
    "        self.fc = torch.nn.Linear(512, num_labels)\n",
    "    \n",
    "    def forward(self, input_ids, speaker_ids):\n",
    "        \n",
    "        # shape (batch_size, max_num_utterances, max_seq_length)\n",
    "        batch_size, max_num_utterances, max_seq_length = input_ids.size()\n",
    "        \n",
    "        input_ids = input_ids.view(-1, max_seq_length)\n",
    "\n",
    "        # empty list to store the output of each chunk\n",
    "        outputs = []\n",
    "\n",
    "        if batch_size < 2:\n",
    "            chunk_size = 1\n",
    "        else:\n",
    "            chunk_size = batch_size//2\n",
    "        #loop through the input_ids and attention_mask tensors by chunk_size\n",
    "        for i in range(0, len(input_ids), chunk_size):\n",
    "            input_ids_chunk = input_ids[i:i+chunk_size]\n",
    "            bert_output = self.bert(input_ids=input_ids_chunk)[0][:,0]\n",
    "            outputs.append(bert_output)\n",
    "\n",
    "        # Concatenate the outputs of each chunk\n",
    "        bert_output = torch.cat(outputs, dim=0)\n",
    "\n",
    "        # reshape to (batch_size* max_num_utterances, 768)\n",
    "        bert_output = bert_output.view(batch_size* max_num_utterances, -1)\n",
    "\n",
    "        # reshape to (batch_size * max_num_utterances)\n",
    "        speaker_ids = speaker_ids.reshape(-1)\n",
    "        speaker_embeddings = self.speaker_embedding(speaker_ids.to(input_ids.device))\n",
    "        speaker_embeddings = speaker_embeddings # shape (batch_size * max_num_utterances, 768)\n",
    "\n",
    "\n",
    "        # add speaker embeddings\n",
    "        encoder_inputs = bert_output + speaker_embeddings # shape (batch_size * max_num_utterances, 768)\n",
    "\n",
    "        encoder_inputs = encoder_inputs.reshape(batch_size,max_num_utterances,-1)\n",
    "\n",
    "        lstm_output, _ = self.lstm(encoder_inputs) # shape (batch_size, max_num_utterances, 512)\n",
    "        \n",
    "        logits = self.fc(lstm_output) \n",
    "        \n",
    "        logits = logits.view(batch_size, max_num_utterances, -1) # shape (batch_size, max_num_utterances, num_labels)\n",
    "        return logits\n"
   ],
   "metadata": {
    "_uuid": "8f2839f25d086af736a60e9eeb907d3b93b6e0e5",
    "_cell_guid": "b1076dfc-b9ad-4769-8c92-a6c4dae69d19",
    "execution": {
     "iopub.status.busy": "2023-03-17T15:06:46.877478Z",
     "iopub.execute_input": "2023-03-17T15:06:46.878145Z",
     "iopub.status.idle": "2023-03-17T15:06:46.889347Z",
     "shell.execute_reply.started": "2023-03-17T15:06:46.878108Z",
     "shell.execute_reply": "2023-03-17T15:06:46.888149Z"
    },
    "trusted": true
   },
   "execution_count": 26,
   "outputs": []
  },
  {
   "cell_type": "code",
   "source": [
    "device = torch.device('cuda' if torch.cuda.is_available() else 'cpu')\n",
    "device"
   ],
   "metadata": {
    "execution": {
     "iopub.status.busy": "2023-03-17T15:04:48.364383Z",
     "iopub.execute_input": "2023-03-17T15:04:48.364788Z",
     "iopub.status.idle": "2023-03-17T15:04:48.373683Z",
     "shell.execute_reply.started": "2023-03-17T15:04:48.364747Z",
     "shell.execute_reply": "2023-03-17T15:04:48.372517Z"
    },
    "trusted": true
   },
   "execution_count": 24,
   "outputs": [
    {
     "execution_count": 24,
     "output_type": "execute_result",
     "data": {
      "text/plain": "device(type='cuda')"
     },
     "metadata": {}
    }
   ]
  },
  {
   "cell_type": "markdown",
   "source": [
    "### Initialization"
   ],
   "metadata": {}
  },
  {
   "cell_type": "code",
   "source": [
    "import torch.optim as optim\n",
    "\n",
    "# define hyperparameters\n",
    "num_epochs = 10\n",
    "learning_rate = 1e-4\n",
    "num_labels = 43 \n",
    "\n",
    "# initialize the model and optimizer\n",
    "model = SpeakerTurnDialogueActClassifier(bert_model = bert_model, num_speakers=2, num_labels=num_labels)\n",
    "model.to(device)\n",
    "optimizer = optim.Adam(model.parameters(), lr=learning_rate)\n",
    "\n",
    "# define the loss function\n",
    "criterion = torch.nn.CrossEntropyLoss().to(device)"
   ],
   "metadata": {
    "execution": {
     "iopub.status.busy": "2023-03-17T15:06:51.530045Z",
     "iopub.execute_input": "2023-03-17T15:06:51.530472Z",
     "iopub.status.idle": "2023-03-17T15:06:51.598888Z",
     "shell.execute_reply.started": "2023-03-17T15:06:51.530436Z",
     "shell.execute_reply": "2023-03-17T15:06:51.597884Z"
    },
    "trusted": true
   },
   "execution_count": 27,
   "outputs": []
  },
  {
   "cell_type": "markdown",
   "source": [
    "### Training"
   ],
   "metadata": {}
  },
  {
   "cell_type": "code",
   "source": [
    "# create an empty dataframe to store the loss and accuracy values\n",
    "results_df = pd.DataFrame(columns=['epoch', 'train_loss', 'train_accuracy', 'val_loss', 'val_accuracy'])\n",
    "\n",
    "# start the training loop\n",
    "for epoch in range(num_epochs):\n",
    "    # train the model\n",
    "    model.train()\n",
    "    train_loss = 0.0\n",
    "    train_correct = 0\n",
    "    train_total = 0\n",
    "    for i, (input_ids, speaker_ids, labels) in enumerate(train_loader):\n",
    "        optimizer.zero_grad()\n",
    "        input_ids = input_ids.to(device)\n",
    "        labels = labels.to(device)\n",
    "        speaker_ids= speaker_ids.to(device)\n",
    "        logits = model(input_ids, speaker_ids)\n",
    "        logits = logits.view(-1, num_labels) # shape (batch_size * num_utterances, num_labels)\n",
    "        labels = labels.view(-1) # shape (batch_size * num_utterances,)\n",
    "        loss = criterion(logits, labels)\n",
    "        loss.backward()\n",
    "        optimizer.step()\n",
    "        train_loss += loss.item()\n",
    "        _, predicted = torch.max(logits, 1)\n",
    "        train_total += labels.size(0)\n",
    "        train_correct += (predicted == labels).sum().item()\n",
    "        if (i+1) % 10 == 0:\n",
    "            print(f'Epoch [{epoch+1}/{num_epochs}], Step [{i+1}/{len(train_loader)}], Train Loss: {loss.item():.4f}')\n",
    "    \n",
    "    # compute the average train loss and accuracy for the entire epoch\n",
    "    train_accuracy = 100 * train_correct / train_total\n",
    "    train_loss = train_loss / len(train_loader.dataset)\n",
    "    print('[%d] training loss: %.3f, training accuracy: %.3f%%' %\n",
    "          (epoch + 1, train_loss, train_accuracy))\n",
    "    \n",
    "    # save the train loss and accuracy after each epoch\n",
    "    results_df = results_df.append({'epoch': epoch+1, \n",
    "                                    'train_loss': train_loss,\n",
    "                                    'train_accuracy': train_accuracy,\n",
    "                                    'val_loss': None,\n",
    "                                    'val_accuracy': None}, ignore_index=True)\n",
    "    \n",
    "    # evaluate the model on the validation set\n",
    "    model.eval()\n",
    "    val_loss = 0.0\n",
    "    val_correct = 0\n",
    "    val_total = 0\n",
    "    with torch.no_grad():\n",
    "        for input_ids, speaker_ids, labels in val_loader:\n",
    "            input_ids = input_ids.to(device)\n",
    "            labels = labels.to(device)\n",
    "            speaker_ids= speaker_ids.to(device)\n",
    "            logits = model(input_ids, speaker_ids)\n",
    "            logits = logits.view(-1, num_labels)\n",
    "            labels = labels.view(-1)\n",
    "            loss = criterion(logits, labels)\n",
    "            val_loss += loss.item()\n",
    "            _, predicted = torch.max(logits, 1)\n",
    "            val_total += labels.size(0)\n",
    "            val_correct += (predicted == labels).sum().item()\n",
    "    val_accuracy = 100 * val_correct / val_total\n",
    "    val_loss = val_loss / len(val_loader.dataset)\n",
    "    print('[%d] validation loss: %.3f, validation accuracy: %.3f%%' %\n",
    "          (epoch + 1, val_loss, val_accuracy))\n",
    "    \n",
    "    # save the val loss and accuracy after each epoch\n",
    "    results_df.loc[results_df.epoch == epoch+1, 'val_loss'] = val_loss\n",
    "    results_df.loc[results_df.epoch == epoch+1, 'val_accuracy'] = val_accuracy\n"
   ],
   "metadata": {
    "execution": {
     "iopub.status.busy": "2023-03-17T15:07:02.025467Z",
     "iopub.execute_input": "2023-03-17T15:07:02.025870Z",
     "iopub.status.idle": "2023-03-17T16:36:08.883131Z",
     "shell.execute_reply.started": "2023-03-17T15:07:02.025835Z",
     "shell.execute_reply": "2023-03-17T16:36:08.881692Z"
    },
    "trusted": true
   },
   "execution_count": 28,
   "outputs": [
    {
     "name": "stdout",
     "text": "Epoch [1/10], Step [10/279], Train Loss: 2.9585\nEpoch [1/10], Step [20/279], Train Loss: 2.6194\nEpoch [1/10], Step [30/279], Train Loss: 2.4518\nEpoch [1/10], Step [40/279], Train Loss: 2.2613\nEpoch [1/10], Step [50/279], Train Loss: 2.6990\nEpoch [1/10], Step [60/279], Train Loss: 2.1311\nEpoch [1/10], Step [70/279], Train Loss: 1.8656\nEpoch [1/10], Step [80/279], Train Loss: 2.4470\nEpoch [1/10], Step [90/279], Train Loss: 2.5842\nEpoch [1/10], Step [100/279], Train Loss: 2.1268\nEpoch [1/10], Step [110/279], Train Loss: 2.1650\nEpoch [1/10], Step [120/279], Train Loss: 1.8904\nEpoch [1/10], Step [130/279], Train Loss: 2.1494\nEpoch [1/10], Step [140/279], Train Loss: 2.0413\nEpoch [1/10], Step [150/279], Train Loss: 1.8039\nEpoch [1/10], Step [160/279], Train Loss: 1.9849\nEpoch [1/10], Step [170/279], Train Loss: 1.6313\nEpoch [1/10], Step [180/279], Train Loss: 1.9796\nEpoch [1/10], Step [190/279], Train Loss: 1.9119\nEpoch [1/10], Step [200/279], Train Loss: 2.3035\nEpoch [1/10], Step [210/279], Train Loss: 2.2744\nEpoch [1/10], Step [220/279], Train Loss: 1.6688\nEpoch [1/10], Step [230/279], Train Loss: 2.0685\nEpoch [1/10], Step [240/279], Train Loss: 2.2765\nEpoch [1/10], Step [250/279], Train Loss: 1.8206\nEpoch [1/10], Step [260/279], Train Loss: 1.7554\nEpoch [1/10], Step [270/279], Train Loss: 1.6901\n[1] training loss: 0.529, training accuracy: 44.834%\n[1] validation loss: 0.419, validation accuracy: 53.578%\nEpoch [2/10], Step [10/279], Train Loss: 2.0863\nEpoch [2/10], Step [20/279], Train Loss: 1.4725\nEpoch [2/10], Step [30/279], Train Loss: 1.3660\nEpoch [2/10], Step [40/279], Train Loss: 1.7997\nEpoch [2/10], Step [50/279], Train Loss: 1.6017\nEpoch [2/10], Step [60/279], Train Loss: 1.4477\nEpoch [2/10], Step [70/279], Train Loss: 1.0879\nEpoch [2/10], Step [80/279], Train Loss: 1.8256\nEpoch [2/10], Step [90/279], Train Loss: 1.3030\nEpoch [2/10], Step [100/279], Train Loss: 1.8131\nEpoch [2/10], Step [110/279], Train Loss: 1.5238\nEpoch [2/10], Step [120/279], Train Loss: 1.0574\nEpoch [2/10], Step [130/279], Train Loss: 1.3981\nEpoch [2/10], Step [140/279], Train Loss: 1.5529\nEpoch [2/10], Step [150/279], Train Loss: 1.2240\nEpoch [2/10], Step [160/279], Train Loss: 1.7803\nEpoch [2/10], Step [170/279], Train Loss: 1.0184\nEpoch [2/10], Step [180/279], Train Loss: 1.6669\nEpoch [2/10], Step [190/279], Train Loss: 1.4684\nEpoch [2/10], Step [200/279], Train Loss: 1.2628\nEpoch [2/10], Step [210/279], Train Loss: 1.7011\nEpoch [2/10], Step [220/279], Train Loss: 1.3810\nEpoch [2/10], Step [230/279], Train Loss: 1.1601\nEpoch [2/10], Step [240/279], Train Loss: 1.1802\nEpoch [2/10], Step [250/279], Train Loss: 1.4207\nEpoch [2/10], Step [260/279], Train Loss: 1.2378\nEpoch [2/10], Step [270/279], Train Loss: 1.3696\n[2] training loss: 0.373, training accuracy: 57.019%\n[2] validation loss: 0.329, validation accuracy: 61.422%\nEpoch [3/10], Step [10/279], Train Loss: 1.3903\nEpoch [3/10], Step [20/279], Train Loss: 1.3901\nEpoch [3/10], Step [30/279], Train Loss: 1.1671\nEpoch [3/10], Step [40/279], Train Loss: 1.1211\nEpoch [3/10], Step [50/279], Train Loss: 1.1523\nEpoch [3/10], Step [60/279], Train Loss: 1.3348\nEpoch [3/10], Step [70/279], Train Loss: 1.4055\nEpoch [3/10], Step [80/279], Train Loss: 1.5455\nEpoch [3/10], Step [90/279], Train Loss: 1.6967\nEpoch [3/10], Step [100/279], Train Loss: 1.3627\nEpoch [3/10], Step [110/279], Train Loss: 1.5497\nEpoch [3/10], Step [120/279], Train Loss: 1.3193\nEpoch [3/10], Step [130/279], Train Loss: 1.0740\nEpoch [3/10], Step [140/279], Train Loss: 1.5899\nEpoch [3/10], Step [150/279], Train Loss: 1.2612\nEpoch [3/10], Step [160/279], Train Loss: 0.8648\nEpoch [3/10], Step [170/279], Train Loss: 1.0876\nEpoch [3/10], Step [180/279], Train Loss: 1.1462\nEpoch [3/10], Step [190/279], Train Loss: 1.5796\nEpoch [3/10], Step [200/279], Train Loss: 1.2295\nEpoch [3/10], Step [210/279], Train Loss: 1.1805\nEpoch [3/10], Step [220/279], Train Loss: 0.9910\nEpoch [3/10], Step [230/279], Train Loss: 1.4198\nEpoch [3/10], Step [240/279], Train Loss: 0.9666\nEpoch [3/10], Step [250/279], Train Loss: 0.9908\nEpoch [3/10], Step [260/279], Train Loss: 1.2994\nEpoch [3/10], Step [270/279], Train Loss: 0.8645\n[3] training loss: 0.308, training accuracy: 63.396%\n[3] validation loss: 0.277, validation accuracy: 67.111%\nEpoch [4/10], Step [10/279], Train Loss: 1.2565\nEpoch [4/10], Step [20/279], Train Loss: 1.0300\nEpoch [4/10], Step [30/279], Train Loss: 1.0826\nEpoch [4/10], Step [40/279], Train Loss: 1.1501\nEpoch [4/10], Step [50/279], Train Loss: 0.9364\nEpoch [4/10], Step [60/279], Train Loss: 1.1421\nEpoch [4/10], Step [70/279], Train Loss: 1.9495\nEpoch [4/10], Step [80/279], Train Loss: 1.1646\nEpoch [4/10], Step [90/279], Train Loss: 1.3139\nEpoch [4/10], Step [100/279], Train Loss: 1.0766\nEpoch [4/10], Step [110/279], Train Loss: 0.7711\nEpoch [4/10], Step [120/279], Train Loss: 1.2626\nEpoch [4/10], Step [130/279], Train Loss: 1.3615\nEpoch [4/10], Step [140/279], Train Loss: 0.7994\nEpoch [4/10], Step [150/279], Train Loss: 0.9885\nEpoch [4/10], Step [160/279], Train Loss: 1.0573\nEpoch [4/10], Step [170/279], Train Loss: 0.7743\nEpoch [4/10], Step [180/279], Train Loss: 1.0505\nEpoch [4/10], Step [190/279], Train Loss: 1.2979\nEpoch [4/10], Step [200/279], Train Loss: 0.8654\nEpoch [4/10], Step [210/279], Train Loss: 1.1931\nEpoch [4/10], Step [220/279], Train Loss: 1.3397\nEpoch [4/10], Step [230/279], Train Loss: 1.0067\nEpoch [4/10], Step [240/279], Train Loss: 1.0696\nEpoch [4/10], Step [250/279], Train Loss: 1.0867\nEpoch [4/10], Step [260/279], Train Loss: 1.1574\nEpoch [4/10], Step [270/279], Train Loss: 0.7667\n[4] training loss: 0.275, training accuracy: 67.244%\n[4] validation loss: 0.240, validation accuracy: 72.422%\nEpoch [5/10], Step [10/279], Train Loss: 0.8268\nEpoch [5/10], Step [20/279], Train Loss: 0.9814\nEpoch [5/10], Step [30/279], Train Loss: 1.0878\nEpoch [5/10], Step [40/279], Train Loss: 1.1754\nEpoch [5/10], Step [50/279], Train Loss: 0.7464\nEpoch [5/10], Step [60/279], Train Loss: 1.0521\nEpoch [5/10], Step [70/279], Train Loss: 0.9587\nEpoch [5/10], Step [80/279], Train Loss: 0.9783\nEpoch [5/10], Step [90/279], Train Loss: 0.9222\nEpoch [5/10], Step [100/279], Train Loss: 1.2616\nEpoch [5/10], Step [110/279], Train Loss: 0.6405\nEpoch [5/10], Step [120/279], Train Loss: 0.6623\nEpoch [5/10], Step [130/279], Train Loss: 0.7451\nEpoch [5/10], Step [140/279], Train Loss: 0.8888\nEpoch [5/10], Step [150/279], Train Loss: 0.7624\nEpoch [5/10], Step [160/279], Train Loss: 0.8662\nEpoch [5/10], Step [170/279], Train Loss: 0.8216\nEpoch [5/10], Step [180/279], Train Loss: 0.6092\nEpoch [5/10], Step [190/279], Train Loss: 1.3773\nEpoch [5/10], Step [200/279], Train Loss: 0.8281\nEpoch [5/10], Step [210/279], Train Loss: 0.8139\nEpoch [5/10], Step [220/279], Train Loss: 0.9236\nEpoch [5/10], Step [230/279], Train Loss: 0.9759\nEpoch [5/10], Step [240/279], Train Loss: 1.1720\nEpoch [5/10], Step [250/279], Train Loss: 0.7942\nEpoch [5/10], Step [260/279], Train Loss: 1.0363\nEpoch [5/10], Step [270/279], Train Loss: 1.0059\n[5] training loss: 0.228, training accuracy: 73.280%\n[5] validation loss: 0.201, validation accuracy: 78.011%\nEpoch [6/10], Step [10/279], Train Loss: 0.5704\nEpoch [6/10], Step [20/279], Train Loss: 0.4843\nEpoch [6/10], Step [30/279], Train Loss: 0.8252\nEpoch [6/10], Step [40/279], Train Loss: 0.7720\nEpoch [6/10], Step [50/279], Train Loss: 0.8598\nEpoch [6/10], Step [60/279], Train Loss: 0.8646\nEpoch [6/10], Step [70/279], Train Loss: 0.8876\nEpoch [6/10], Step [80/279], Train Loss: 0.9194\nEpoch [6/10], Step [90/279], Train Loss: 0.7467\nEpoch [6/10], Step [100/279], Train Loss: 0.8662\nEpoch [6/10], Step [110/279], Train Loss: 1.1291\nEpoch [6/10], Step [120/279], Train Loss: 0.7790\nEpoch [6/10], Step [130/279], Train Loss: 0.8845\nEpoch [6/10], Step [140/279], Train Loss: 0.8168\nEpoch [6/10], Step [150/279], Train Loss: 0.5624\nEpoch [6/10], Step [160/279], Train Loss: 0.9071\nEpoch [6/10], Step [170/279], Train Loss: 1.1545\nEpoch [6/10], Step [180/279], Train Loss: 0.8751\nEpoch [6/10], Step [190/279], Train Loss: 1.1055\nEpoch [6/10], Step [200/279], Train Loss: 0.9789\nEpoch [6/10], Step [210/279], Train Loss: 0.7823\nEpoch [6/10], Step [220/279], Train Loss: 0.7930\nEpoch [6/10], Step [230/279], Train Loss: 0.4861\nEpoch [6/10], Step [240/279], Train Loss: 0.9926\nEpoch [6/10], Step [250/279], Train Loss: 0.9103\nEpoch [6/10], Step [260/279], Train Loss: 0.6380\nEpoch [6/10], Step [270/279], Train Loss: 0.7853\n[6] training loss: 0.201, training accuracy: 76.395%\n[6] validation loss: 0.176, validation accuracy: 79.433%\nEpoch [7/10], Step [10/279], Train Loss: 0.5594\nEpoch [7/10], Step [20/279], Train Loss: 0.8000\nEpoch [7/10], Step [30/279], Train Loss: 0.7003\nEpoch [7/10], Step [40/279], Train Loss: 0.4860\nEpoch [7/10], Step [50/279], Train Loss: 0.5095\nEpoch [7/10], Step [60/279], Train Loss: 0.7825\nEpoch [7/10], Step [70/279], Train Loss: 0.8715\nEpoch [7/10], Step [80/279], Train Loss: 0.7703\nEpoch [7/10], Step [90/279], Train Loss: 0.8808\nEpoch [7/10], Step [100/279], Train Loss: 0.8394\nEpoch [7/10], Step [110/279], Train Loss: 1.0244\nEpoch [7/10], Step [120/279], Train Loss: 0.6181\nEpoch [7/10], Step [130/279], Train Loss: 0.9441\nEpoch [7/10], Step [140/279], Train Loss: 0.6634\nEpoch [7/10], Step [150/279], Train Loss: 0.4094\nEpoch [7/10], Step [160/279], Train Loss: 0.5275\nEpoch [7/10], Step [170/279], Train Loss: 0.9004\nEpoch [7/10], Step [180/279], Train Loss: 0.6146\nEpoch [7/10], Step [190/279], Train Loss: 0.6970\nEpoch [7/10], Step [200/279], Train Loss: 0.4020\nEpoch [7/10], Step [210/279], Train Loss: 0.8957\nEpoch [7/10], Step [220/279], Train Loss: 0.8850\nEpoch [7/10], Step [230/279], Train Loss: 0.7498\nEpoch [7/10], Step [240/279], Train Loss: 0.6995\nEpoch [7/10], Step [250/279], Train Loss: 0.5750\nEpoch [7/10], Step [260/279], Train Loss: 0.6345\nEpoch [7/10], Step [270/279], Train Loss: 0.7424\n[7] training loss: 0.176, training accuracy: 79.268%\n[7] validation loss: 0.154, validation accuracy: 82.333%\nEpoch [8/10], Step [10/279], Train Loss: 0.5351\nEpoch [8/10], Step [20/279], Train Loss: 0.5883\nEpoch [8/10], Step [30/279], Train Loss: 0.6552\nEpoch [8/10], Step [40/279], Train Loss: 0.5521\nEpoch [8/10], Step [50/279], Train Loss: 0.6965\nEpoch [8/10], Step [60/279], Train Loss: 0.7159\nEpoch [8/10], Step [70/279], Train Loss: 0.6654\nEpoch [8/10], Step [80/279], Train Loss: 0.4600\nEpoch [8/10], Step [90/279], Train Loss: 0.6837\nEpoch [8/10], Step [100/279], Train Loss: 0.6790\nEpoch [8/10], Step [110/279], Train Loss: 0.7534\nEpoch [8/10], Step [120/279], Train Loss: 0.5547\nEpoch [8/10], Step [130/279], Train Loss: 0.3873\nEpoch [8/10], Step [140/279], Train Loss: 0.6485\nEpoch [8/10], Step [150/279], Train Loss: 0.6309\nEpoch [8/10], Step [160/279], Train Loss: 0.8384\nEpoch [8/10], Step [170/279], Train Loss: 0.7213\nEpoch [8/10], Step [180/279], Train Loss: 0.5517\nEpoch [8/10], Step [190/279], Train Loss: 0.4449\nEpoch [8/10], Step [200/279], Train Loss: 0.5162\nEpoch [8/10], Step [210/279], Train Loss: 0.6596\nEpoch [8/10], Step [220/279], Train Loss: 0.8220\nEpoch [8/10], Step [230/279], Train Loss: 0.5480\nEpoch [8/10], Step [240/279], Train Loss: 0.4609\nEpoch [8/10], Step [250/279], Train Loss: 0.5106\nEpoch [8/10], Step [260/279], Train Loss: 0.7161\nEpoch [8/10], Step [270/279], Train Loss: 0.4499\n[8] training loss: 0.155, training accuracy: 82.051%\n[8] validation loss: 0.133, validation accuracy: 85.356%\nEpoch [9/10], Step [10/279], Train Loss: 0.5257\nEpoch [9/10], Step [20/279], Train Loss: 0.5244\nEpoch [9/10], Step [30/279], Train Loss: 0.3437\nEpoch [9/10], Step [40/279], Train Loss: 0.6745\n",
     "output_type": "stream"
    },
    {
     "traceback": [
      "\u001B[0;31m---------------------------------------------------------------------------\u001B[0m",
      "\u001B[0;31mKeyboardInterrupt\u001B[0m                         Traceback (most recent call last)",
      "\u001B[0;32m/tmp/ipykernel_24/843734846.py\u001B[0m in \u001B[0;36m<module>\u001B[0;34m\u001B[0m\n\u001B[1;32m     18\u001B[0m         \u001B[0mlabels\u001B[0m \u001B[0;34m=\u001B[0m \u001B[0mlabels\u001B[0m\u001B[0;34m.\u001B[0m\u001B[0mview\u001B[0m\u001B[0;34m(\u001B[0m\u001B[0;34m-\u001B[0m\u001B[0;36m1\u001B[0m\u001B[0;34m)\u001B[0m \u001B[0;31m# shape (batch_size * num_utterances,)\u001B[0m\u001B[0;34m\u001B[0m\u001B[0;34m\u001B[0m\u001B[0m\n\u001B[1;32m     19\u001B[0m         \u001B[0mloss\u001B[0m \u001B[0;34m=\u001B[0m \u001B[0mcriterion\u001B[0m\u001B[0;34m(\u001B[0m\u001B[0mlogits\u001B[0m\u001B[0;34m,\u001B[0m \u001B[0mlabels\u001B[0m\u001B[0;34m)\u001B[0m\u001B[0;34m\u001B[0m\u001B[0;34m\u001B[0m\u001B[0m\n\u001B[0;32m---> 20\u001B[0;31m         \u001B[0mloss\u001B[0m\u001B[0;34m.\u001B[0m\u001B[0mbackward\u001B[0m\u001B[0;34m(\u001B[0m\u001B[0;34m)\u001B[0m\u001B[0;34m\u001B[0m\u001B[0;34m\u001B[0m\u001B[0m\n\u001B[0m\u001B[1;32m     21\u001B[0m         \u001B[0moptimizer\u001B[0m\u001B[0;34m.\u001B[0m\u001B[0mstep\u001B[0m\u001B[0;34m(\u001B[0m\u001B[0;34m)\u001B[0m\u001B[0;34m\u001B[0m\u001B[0;34m\u001B[0m\u001B[0m\n\u001B[1;32m     22\u001B[0m         \u001B[0mtrain_loss\u001B[0m \u001B[0;34m+=\u001B[0m \u001B[0mloss\u001B[0m\u001B[0;34m.\u001B[0m\u001B[0mitem\u001B[0m\u001B[0;34m(\u001B[0m\u001B[0;34m)\u001B[0m\u001B[0;34m\u001B[0m\u001B[0;34m\u001B[0m\u001B[0m\n",
      "\u001B[0;32m/opt/conda/lib/python3.7/site-packages/torch/_tensor.py\u001B[0m in \u001B[0;36mbackward\u001B[0;34m(self, gradient, retain_graph, create_graph, inputs)\u001B[0m\n\u001B[1;32m    486\u001B[0m             )\n\u001B[1;32m    487\u001B[0m         torch.autograd.backward(\n\u001B[0;32m--> 488\u001B[0;31m             \u001B[0mself\u001B[0m\u001B[0;34m,\u001B[0m \u001B[0mgradient\u001B[0m\u001B[0;34m,\u001B[0m \u001B[0mretain_graph\u001B[0m\u001B[0;34m,\u001B[0m \u001B[0mcreate_graph\u001B[0m\u001B[0;34m,\u001B[0m \u001B[0minputs\u001B[0m\u001B[0;34m=\u001B[0m\u001B[0minputs\u001B[0m\u001B[0;34m\u001B[0m\u001B[0;34m\u001B[0m\u001B[0m\n\u001B[0m\u001B[1;32m    489\u001B[0m         )\n\u001B[1;32m    490\u001B[0m \u001B[0;34m\u001B[0m\u001B[0m\n",
      "\u001B[0;32m/opt/conda/lib/python3.7/site-packages/torch/autograd/__init__.py\u001B[0m in \u001B[0;36mbackward\u001B[0;34m(tensors, grad_tensors, retain_graph, create_graph, grad_variables, inputs)\u001B[0m\n\u001B[1;32m    197\u001B[0m     Variable._execution_engine.run_backward(  # Calls into the C++ engine to run the backward pass\n\u001B[1;32m    198\u001B[0m         \u001B[0mtensors\u001B[0m\u001B[0;34m,\u001B[0m \u001B[0mgrad_tensors_\u001B[0m\u001B[0;34m,\u001B[0m \u001B[0mretain_graph\u001B[0m\u001B[0;34m,\u001B[0m \u001B[0mcreate_graph\u001B[0m\u001B[0;34m,\u001B[0m \u001B[0minputs\u001B[0m\u001B[0;34m,\u001B[0m\u001B[0;34m\u001B[0m\u001B[0;34m\u001B[0m\u001B[0m\n\u001B[0;32m--> 199\u001B[0;31m         allow_unreachable=True, accumulate_grad=True)  # Calls into the C++ engine to run the backward pass\n\u001B[0m\u001B[1;32m    200\u001B[0m \u001B[0;34m\u001B[0m\u001B[0m\n\u001B[1;32m    201\u001B[0m def grad(\n",
      "\u001B[0;31mKeyboardInterrupt\u001B[0m: "
     ],
     "ename": "KeyboardInterrupt",
     "evalue": "",
     "output_type": "error"
    }
   ]
  },
  {
   "cell_type": "markdown",
   "source": [
    "#### Evaluation"
   ],
   "metadata": {}
  },
  {
   "cell_type": "code",
   "source": [
    "import matplotlib.pyplot as plt\n",
    "\n",
    "# plot train and validation losses\n",
    "plt.plot(results_df.epoch, results_df.train_loss, label='train')\n",
    "plt.plot(results_df.epoch, results_df.val_loss, label='validation')\n",
    "plt.title('Training and Validation Loss')\n",
    "plt.xlabel('Epoch')\n",
    "plt.ylabel('Loss')\n",
    "plt.legend()\n",
    "plt.show()"
   ],
   "metadata": {
    "execution": {
     "iopub.status.busy": "2023-03-17T16:36:14.988161Z",
     "iopub.execute_input": "2023-03-17T16:36:14.988788Z",
     "iopub.status.idle": "2023-03-17T16:36:15.413995Z",
     "shell.execute_reply.started": "2023-03-17T16:36:14.988746Z",
     "shell.execute_reply": "2023-03-17T16:36:15.413023Z"
    },
    "trusted": true
   },
   "execution_count": 29,
   "outputs": [
    {
     "output_type": "display_data",
     "data": {
      "text/plain": "<Figure size 640x480 with 1 Axes>",
      "image/png": "[encoded data removed]"
     },
     "metadata": {}
    }
   ]
  },
  {
   "cell_type": "code",
   "source": [
    "\n",
    "# plot train and validation accuracies\n",
    "plt.plot(results_df.epoch, results_df.train_accuracy, label='train')\n",
    "plt.plot(results_df.epoch, results_df.val_accuracy, label='validation')\n",
    "plt.title('Training and Validation Accuracy')\n",
    "plt.xlabel('Epoch')\n",
    "plt.ylabel('Accuracy (%)')\n",
    "plt.legend()\n",
    "plt.show()\n"
   ],
   "metadata": {
    "execution": {
     "iopub.status.busy": "2023-03-17T16:36:18.979043Z",
     "iopub.execute_input": "2023-03-17T16:36:18.980034Z",
     "iopub.status.idle": "2023-03-17T16:36:19.223928Z",
     "shell.execute_reply.started": "2023-03-17T16:36:18.979997Z",
     "shell.execute_reply": "2023-03-17T16:36:19.222697Z"
    },
    "trusted": true
   },
   "execution_count": 30,
   "outputs": [
    {
     "output_type": "display_data",
     "data": {
      "text/plain": "<Figure size 640x480 with 1 Axes>",
      "image/png": "[encoded data removed]"
     },
     "metadata": {}
    }
   ]
  },
  {
   "cell_type": "markdown",
   "source": [
    "### Model Saving"
   ],
   "metadata": {}
  },
  {
   "cell_type": "code",
   "source": [
    "torch.save(model.state_dict(), 'speaker_cls_lstm_model.pt')"
   ],
   "metadata": {
    "execution": {
     "iopub.status.busy": "2023-03-17T16:36:29.277401Z",
     "iopub.execute_input": "2023-03-17T16:36:29.277815Z",
     "iopub.status.idle": "2023-03-17T16:36:29.970093Z",
     "shell.execute_reply.started": "2023-03-17T16:36:29.277771Z",
     "shell.execute_reply": "2023-03-17T16:36:29.969017Z"
    },
    "trusted": true
   },
   "execution_count": 31,
   "outputs": []
  },
  {
   "cell_type": "markdown",
   "source": [
    "#### Inference"
   ],
   "metadata": {}
  },
  {
   "cell_type": "code",
   "source": [
    "test_input, test_speakers, test_labels = pre_process(test_dataset)\n",
    "test_df = TensorDataset(test_input, test_speakers, test_labels)\n",
    "\n",
    "test_loader = DataLoader(train_df, batch_size=2, shuffle=True)"
   ],
   "metadata": {
    "execution": {
     "iopub.status.busy": "2023-03-17T16:42:31.534728Z",
     "iopub.execute_input": "2023-03-17T16:42:31.535125Z",
     "iopub.status.idle": "2023-03-17T16:42:31.940700Z",
     "shell.execute_reply.started": "2023-03-17T16:42:31.535089Z",
     "shell.execute_reply": "2023-03-17T16:42:31.939456Z"
    },
    "trusted": true
   },
   "execution_count": 32,
   "outputs": []
  },
  {
   "cell_type": "code",
   "source": [
    "model.eval()\n",
    "test_loss = 0.0\n",
    "test_correct = 0\n",
    "test_total = 0\n",
    "with torch.no_grad():\n",
    "    all_predicted_labels = []\n",
    "    all_true_labels = []\n",
    "    for input_ids, speaker_ids, labels in test_loader:\n",
    "        input_ids = input_ids.to(device)\n",
    "        speaker_ids =  speaker_ids.to(device)\n",
    "        labels = labels.to(device)\n",
    "        logits = model(input_ids, speaker_ids)\n",
    "        logits = logits.view(-1, num_labels)\n",
    "        labels = labels.view(-1)\n",
    "        loss = criterion(logits, labels)\n",
    "        test_loss += loss.item()\n",
    "        _, predicted = torch.max(logits, 1)\n",
    "        test_total += labels.size(0)\n",
    "        test_correct += (predicted == labels).sum().item()\n",
    "        \n",
    "        all_predicted_labels.extend(predicted.cpu().numpy())\n",
    "        all_true_labels.extend(labels.cpu().numpy())\n",
    "        \n",
    "test_accuracy = 100 * test_correct / test_total\n",
    "test_loss = test_loss / len(test_loader.dataset)\n",
    "print('[%d] test loss: %.3f, test accuracy: %.3f%%' %\n",
    "      (epoch + 1, test_loss, test_accuracy))"
   ],
   "metadata": {
    "execution": {
     "iopub.status.busy": "2023-03-17T16:42:33.399972Z",
     "iopub.execute_input": "2023-03-17T16:42:33.400414Z",
     "iopub.status.idle": "2023-03-17T16:47:13.605863Z",
     "shell.execute_reply.started": "2023-03-17T16:42:33.400376Z",
     "shell.execute_reply": "2023-03-17T16:47:13.604719Z"
    },
    "trusted": true
   },
   "execution_count": 33,
   "outputs": [
    {
     "name": "stdout",
     "text": "[9] test loss: 0.256, test accuracy: 85.465%\n",
     "output_type": "stream"
    }
   ]
  },
  {
   "cell_type": "code",
   "source": [
    "from sklearn.metrics import precision_recall_fscore_support"
   ],
   "metadata": {
    "execution": {
     "iopub.status.busy": "2023-03-17T16:48:10.015683Z",
     "iopub.execute_input": "2023-03-17T16:48:10.016132Z",
     "iopub.status.idle": "2023-03-17T16:48:10.465030Z",
     "shell.execute_reply.started": "2023-03-17T16:48:10.016092Z",
     "shell.execute_reply": "2023-03-17T16:48:10.463721Z"
    },
    "trusted": true
   },
   "execution_count": 35,
   "outputs": []
  },
  {
   "cell_type": "code",
   "source": [
    "# Calculate precision, recall, F1-score, and support\n",
    "precision, recall, f1_score, support = precision_recall_fscore_support(all_true_labels, all_predicted_labels, average='weighted',zero_division=1)\n",
    "# Create a DataFrame with the metrics\n",
    "metrics_data = { 'Weighted Avg Precision': [precision],\n",
    "                'Weighted Avg Recall': [recall],\n",
    "                'Weighted Avg F1-score': [f1_score]\n",
    "               }\n",
    "metrics_df = pd.DataFrame(metrics_data)\n",
    "\n",
    "# Display the metrics DataFrame\n",
    "print(metrics_df)"
   ],
   "metadata": {
    "execution": {
     "iopub.status.busy": "2023-03-17T16:48:10.828564Z",
     "iopub.execute_input": "2023-03-17T16:48:10.829051Z",
     "iopub.status.idle": "2023-03-17T16:48:10.907801Z",
     "shell.execute_reply.started": "2023-03-17T16:48:10.829008Z",
     "shell.execute_reply": "2023-03-17T16:48:10.906569Z"
    },
    "trusted": true
   },
   "execution_count": 36,
   "outputs": [
    {
     "name": "stdout",
     "text": "   Weighted Avg Precision  Weighted Avg Recall  Weighted Avg F1-score\n0                0.851033             0.854649               0.839771\n",
     "output_type": "stream"
    }
   ]
  },
  {
   "cell_type": "markdown",
   "source": [
    "# Bi-LSTM_avg model"
   ],
   "metadata": {}
  },
  {
   "cell_type": "markdown",
   "source": [
    "### Model definition"
   ],
   "metadata": {}
  },
  {
   "cell_type": "code",
   "source": [
    "import torch\n",
    "from transformers import BertModel\n",
    "\n",
    "class BaseDialogueActClassifier(torch.nn.Module):\n",
    "    def __init__(self, bert_model, num_labels):\n",
    "        super(BaseDialogueActClassifier, self).__init__()\n",
    "        \n",
    "        self.bert = bert_model\n",
    "                \n",
    "        self.lstm = torch.nn.LSTM(input_size=768, hidden_size=256, num_layers=2, bidirectional=True, batch_first=True)\n",
    "                \n",
    "        self.fc = torch.nn.Linear(512, num_labels)\n",
    "    \n",
    "    def forward(self, input_ids):\n",
    "        \n",
    "        # input_ids and attention_mask have shape (batch_size, max_num_utterances, max_seq_length)\n",
    "        batch_size, max_num_utterances, max_seq_length = input_ids.size()\n",
    "        \n",
    "        input_ids = input_ids.view(-1, max_seq_length) # shape (batch_size * max_num_utterances, max_seq_length)\n",
    "        \n",
    "        bert_output = self.bert(input_ids=input_ids)[0] # shape (batch_size * max_num_utterances, max_seq_length, 768)\n",
    "        \n",
    "        lstm_output, _ = self.lstm(bert_output) # shape (batch_size * max_num_utterances, max_seq_length, 512)\n",
    "                \n",
    "        pooled_output = lstm_output.mean(dim=1)  # shape (batch_size * max_num_utterances, 512)\n",
    "        \n",
    "        logits = self.fc(pooled_output) # shape (batch_size * max_num_utterances, num_labels)\n",
    "        \n",
    "        logits = logits.view(batch_size, max_num_utterances, -1) # shape (batch_size, max_num_utterances, num_labels)\n",
    "        return logits\n",
    "\n"
   ],
   "metadata": {
    "execution": {
     "iopub.status.busy": "2023-03-16T19:39:40.159509Z",
     "iopub.execute_input": "2023-03-16T19:39:40.159913Z",
     "iopub.status.idle": "2023-03-16T19:39:40.169180Z",
     "shell.execute_reply.started": "2023-03-16T19:39:40.159876Z",
     "shell.execute_reply": "2023-03-16T19:39:40.168059Z"
    },
    "trusted": true
   },
   "execution_count": 18,
   "outputs": []
  },
  {
   "cell_type": "code",
   "source": [
    "import torch.optim as optim\n",
    "\n",
    "# define hyperparameters\n",
    "num_epochs = 10\n",
    "learning_rate = 1e-4\n",
    "num_labels = 43 \n",
    "\n",
    "# initialize the model and optimizer\n",
    "model_2 = BaseDialogueActClassifier(bert_model = bert_model, num_labels=num_labels)\n",
    "model_2.to(device)\n",
    "optimizer = optim.Adam(model_2.parameters(), lr=learning_rate)\n",
    "\n",
    "# define the loss function\n",
    "criterion = torch.nn.CrossEntropyLoss().to(device)"
   ],
   "metadata": {
    "execution": {
     "iopub.status.busy": "2023-03-16T20:01:40.014868Z",
     "iopub.execute_input": "2023-03-16T20:01:40.015436Z",
     "iopub.status.idle": "2023-03-16T20:01:40.087733Z",
     "shell.execute_reply.started": "2023-03-16T20:01:40.015391Z",
     "shell.execute_reply": "2023-03-16T20:01:40.086698Z"
    },
    "trusted": true
   },
   "execution_count": 27,
   "outputs": []
  },
  {
   "cell_type": "code",
   "source": [
    "# create an empty dataframe to store the loss and accuracy values\n",
    "base_results_df = pd.DataFrame(columns=['epoch', 'train_loss', 'train_accuracy', 'val_loss', 'val_accuracy'])\n",
    "\n",
    "# start the training loop\n",
    "for epoch in range(num_epochs):\n",
    "    # train the model\n",
    "    model_2.train()\n",
    "    train_loss = 0.0\n",
    "    train_correct = 0\n",
    "    train_total = 0\n",
    "    for i, (input_ids, _ , labels) in enumerate(train_loader):\n",
    "        optimizer.zero_grad()\n",
    "        input_ids = input_ids.to(device)\n",
    "        labels = labels.to(device)\n",
    "        logits = model_2(input_ids)\n",
    "        logits = logits.view(-1, num_labels) # shape (batch_size * num_utterances, num_labels)\n",
    "        labels = labels.view(-1) # shape (batch_size * num_utterances,)\n",
    "        loss = criterion(logits, labels)\n",
    "        loss.backward()\n",
    "        optimizer.step()\n",
    "        train_loss += loss.item()\n",
    "        _, predicted = torch.max(logits, 1)\n",
    "        train_total += labels.size(0)\n",
    "        train_correct += (predicted == labels).sum().item()\n",
    "        if (i+1) % 10 == 0:\n",
    "            print(f'Epoch [{epoch+1}/{num_epochs}], Step [{i+1}/{len(train_loader)}], Train Loss: {loss.item():.4f}')\n",
    "    \n",
    "    # compute the average train loss and accuracy for the entire epoch\n",
    "    train_accuracy = 100 * train_correct / train_total\n",
    "    train_loss = train_loss / len(train_loader.dataset)\n",
    "    print('[%d] training loss: %.3f, training accuracy: %.3f%%' %\n",
    "          (epoch + 1, train_loss, train_accuracy))\n",
    "    \n",
    "    # save the train loss and accuracy after each epoch\n",
    "    base_results_df = base_results_df.append({'epoch': epoch+1, \n",
    "                                    'train_loss': train_loss,\n",
    "                                    'train_accuracy': train_accuracy,\n",
    "                                    'val_loss': None,\n",
    "                                    'val_accuracy': None}, ignore_index=True)\n",
    "    \n",
    "    # evaluate the model on the validation set\n",
    "    model_2.eval()\n",
    "    val_loss = 0.0\n",
    "    val_correct = 0\n",
    "    val_total = 0\n",
    "    with torch.no_grad():\n",
    "        for input_ids, _, labels in val_loader:\n",
    "            input_ids = input_ids.to(device)\n",
    "            labels = labels.to(device)\n",
    "            logits = model_2(input_ids)\n",
    "            logits = logits.view(-1, num_labels)\n",
    "            labels = labels.view(-1)\n",
    "            loss = criterion(logits, labels)\n",
    "            val_loss += loss.item()\n",
    "            _, predicted = torch.max(logits, 1)\n",
    "            val_total += labels.size(0)\n",
    "            val_correct += (predicted == labels).sum().item()\n",
    "    val_accuracy = 100 * val_correct / val_total\n",
    "    val_loss = val_loss / len(val_loader.dataset)\n",
    "    print('[%d] validation loss: %.3f, validation accuracy: %.3f%%' %\n",
    "          (epoch + 1, val_loss, val_accuracy))\n",
    "    \n",
    "    # save the val loss and accuracy after each epoch\n",
    "    base_results_df.loc[base_results_df.epoch == epoch+1, 'val_loss'] = val_loss\n",
    "    base_results_df.loc[base_results_df.epoch == epoch+1, 'val_accuracy'] = val_accuracy"
   ],
   "metadata": {
    "execution": {
     "iopub.status.busy": "2023-03-16T20:01:47.579853Z",
     "iopub.execute_input": "2023-03-16T20:01:47.580582Z",
     "iopub.status.idle": "2023-03-16T21:09:41.279466Z",
     "shell.execute_reply.started": "2023-03-16T20:01:47.580531Z",
     "shell.execute_reply": "2023-03-16T21:09:41.278293Z"
    },
    "trusted": true
   },
   "execution_count": 28,
   "outputs": [
    {
     "name": "stdout",
     "text": "Epoch [1/10], Step [10/279], Train Loss: 2.8803\nEpoch [1/10], Step [20/279], Train Loss: 2.1759\nEpoch [1/10], Step [30/279], Train Loss: 1.6957\nEpoch [1/10], Step [40/279], Train Loss: 1.5460\nEpoch [1/10], Step [50/279], Train Loss: 1.4100\nEpoch [1/10], Step [60/279], Train Loss: 1.4565\nEpoch [1/10], Step [70/279], Train Loss: 1.5650\nEpoch [1/10], Step [80/279], Train Loss: 1.2281\nEpoch [1/10], Step [90/279], Train Loss: 1.1226\nEpoch [1/10], Step [100/279], Train Loss: 1.1726\nEpoch [1/10], Step [110/279], Train Loss: 1.2014\nEpoch [1/10], Step [120/279], Train Loss: 1.6221\nEpoch [1/10], Step [130/279], Train Loss: 1.1010\nEpoch [1/10], Step [140/279], Train Loss: 1.3224\nEpoch [1/10], Step [150/279], Train Loss: 1.9464\nEpoch [1/10], Step [160/279], Train Loss: 1.4836\nEpoch [1/10], Step [170/279], Train Loss: 0.8342\nEpoch [1/10], Step [180/279], Train Loss: 1.2440\nEpoch [1/10], Step [190/279], Train Loss: 1.5241\nEpoch [1/10], Step [200/279], Train Loss: 1.1370\nEpoch [1/10], Step [210/279], Train Loss: 1.4441\nEpoch [1/10], Step [220/279], Train Loss: 1.2468\nEpoch [1/10], Step [230/279], Train Loss: 1.3351\nEpoch [1/10], Step [240/279], Train Loss: 1.3349\nEpoch [1/10], Step [250/279], Train Loss: 0.9194\nEpoch [1/10], Step [260/279], Train Loss: 1.0497\nEpoch [1/10], Step [270/279], Train Loss: 1.0394\n[1] training loss: 0.359, training accuracy: 61.862%\n[1] validation loss: 0.287, validation accuracy: 67.567%\nEpoch [2/10], Step [10/279], Train Loss: 0.9662\nEpoch [2/10], Step [20/279], Train Loss: 0.9883\nEpoch [2/10], Step [30/279], Train Loss: 1.0528\nEpoch [2/10], Step [40/279], Train Loss: 1.2914\nEpoch [2/10], Step [50/279], Train Loss: 1.5871\nEpoch [2/10], Step [60/279], Train Loss: 1.0633\nEpoch [2/10], Step [70/279], Train Loss: 0.9305\nEpoch [2/10], Step [80/279], Train Loss: 0.9140\nEpoch [2/10], Step [90/279], Train Loss: 1.0698\nEpoch [2/10], Step [100/279], Train Loss: 1.1636\nEpoch [2/10], Step [110/279], Train Loss: 0.9663\nEpoch [2/10], Step [120/279], Train Loss: 1.1046\nEpoch [2/10], Step [130/279], Train Loss: 1.2933\nEpoch [2/10], Step [140/279], Train Loss: 1.4090\nEpoch [2/10], Step [150/279], Train Loss: 1.0861\nEpoch [2/10], Step [160/279], Train Loss: 1.2363\nEpoch [2/10], Step [170/279], Train Loss: 1.1214\nEpoch [2/10], Step [180/279], Train Loss: 0.9716\nEpoch [2/10], Step [190/279], Train Loss: 0.8846\nEpoch [2/10], Step [200/279], Train Loss: 0.8613\nEpoch [2/10], Step [210/279], Train Loss: 1.2919\nEpoch [2/10], Step [220/279], Train Loss: 0.9707\nEpoch [2/10], Step [230/279], Train Loss: 0.9532\nEpoch [2/10], Step [240/279], Train Loss: 1.2163\nEpoch [2/10], Step [250/279], Train Loss: 1.1202\nEpoch [2/10], Step [260/279], Train Loss: 1.2881\nEpoch [2/10], Step [270/279], Train Loss: 1.3618\n[2] training loss: 0.284, training accuracy: 67.399%\n[2] validation loss: 0.262, validation accuracy: 70.767%\nEpoch [3/10], Step [10/279], Train Loss: 0.9456\nEpoch [3/10], Step [20/279], Train Loss: 1.1320\nEpoch [3/10], Step [30/279], Train Loss: 1.1042\nEpoch [3/10], Step [40/279], Train Loss: 1.2045\nEpoch [3/10], Step [50/279], Train Loss: 0.8488\nEpoch [3/10], Step [60/279], Train Loss: 0.9387\nEpoch [3/10], Step [70/279], Train Loss: 1.2038\nEpoch [3/10], Step [80/279], Train Loss: 1.1943\nEpoch [3/10], Step [90/279], Train Loss: 1.2872\nEpoch [3/10], Step [100/279], Train Loss: 0.9961\nEpoch [3/10], Step [110/279], Train Loss: 0.7960\nEpoch [3/10], Step [120/279], Train Loss: 1.0501\nEpoch [3/10], Step [130/279], Train Loss: 0.9351\nEpoch [3/10], Step [140/279], Train Loss: 1.0635\nEpoch [3/10], Step [150/279], Train Loss: 1.3837\nEpoch [3/10], Step [160/279], Train Loss: 1.2909\nEpoch [3/10], Step [170/279], Train Loss: 0.7418\nEpoch [3/10], Step [180/279], Train Loss: 0.8604\nEpoch [3/10], Step [190/279], Train Loss: 1.1510\nEpoch [3/10], Step [200/279], Train Loss: 1.4189\nEpoch [3/10], Step [210/279], Train Loss: 1.3145\nEpoch [3/10], Step [220/279], Train Loss: 1.0724\nEpoch [3/10], Step [230/279], Train Loss: 0.8601\nEpoch [3/10], Step [240/279], Train Loss: 0.7688\nEpoch [3/10], Step [250/279], Train Loss: 0.6325\nEpoch [3/10], Step [260/279], Train Loss: 1.2006\nEpoch [3/10], Step [270/279], Train Loss: 0.7917\n[3] training loss: 0.266, training accuracy: 69.525%\n[3] validation loss: 0.242, validation accuracy: 73.233%\nEpoch [4/10], Step [10/279], Train Loss: 1.1714\nEpoch [4/10], Step [20/279], Train Loss: 0.7666\nEpoch [4/10], Step [30/279], Train Loss: 1.1074\nEpoch [4/10], Step [40/279], Train Loss: 1.0034\nEpoch [4/10], Step [50/279], Train Loss: 0.9311\nEpoch [4/10], Step [60/279], Train Loss: 1.1580\nEpoch [4/10], Step [70/279], Train Loss: 0.8512\nEpoch [4/10], Step [80/279], Train Loss: 0.9708\nEpoch [4/10], Step [90/279], Train Loss: 1.0488\nEpoch [4/10], Step [100/279], Train Loss: 0.7074\nEpoch [4/10], Step [110/279], Train Loss: 0.8479\nEpoch [4/10], Step [120/279], Train Loss: 1.2098\nEpoch [4/10], Step [130/279], Train Loss: 1.3056\nEpoch [4/10], Step [140/279], Train Loss: 0.8726\nEpoch [4/10], Step [150/279], Train Loss: 1.2235\nEpoch [4/10], Step [160/279], Train Loss: 1.1819\nEpoch [4/10], Step [170/279], Train Loss: 0.9797\nEpoch [4/10], Step [180/279], Train Loss: 0.6895\nEpoch [4/10], Step [190/279], Train Loss: 0.8429\nEpoch [4/10], Step [200/279], Train Loss: 0.8664\nEpoch [4/10], Step [210/279], Train Loss: 0.8938\nEpoch [4/10], Step [220/279], Train Loss: 1.2865\nEpoch [4/10], Step [230/279], Train Loss: 0.8992\nEpoch [4/10], Step [240/279], Train Loss: 1.1217\nEpoch [4/10], Step [250/279], Train Loss: 0.6301\nEpoch [4/10], Step [260/279], Train Loss: 0.9900\nEpoch [4/10], Step [270/279], Train Loss: 0.8940\n[4] training loss: 0.247, training accuracy: 72.111%\n[4] validation loss: 0.238, validation accuracy: 74.633%\nEpoch [5/10], Step [10/279], Train Loss: 0.9272\nEpoch [5/10], Step [20/279], Train Loss: 0.9739\nEpoch [5/10], Step [30/279], Train Loss: 0.6772\nEpoch [5/10], Step [40/279], Train Loss: 0.9870\nEpoch [5/10], Step [50/279], Train Loss: 0.9995\nEpoch [5/10], Step [60/279], Train Loss: 0.7689\nEpoch [5/10], Step [70/279], Train Loss: 0.7361\nEpoch [5/10], Step [80/279], Train Loss: 1.0558\nEpoch [5/10], Step [90/279], Train Loss: 0.7762\nEpoch [5/10], Step [100/279], Train Loss: 0.8223\nEpoch [5/10], Step [110/279], Train Loss: 1.0699\nEpoch [5/10], Step [120/279], Train Loss: 1.1362\nEpoch [5/10], Step [130/279], Train Loss: 0.8144\nEpoch [5/10], Step [140/279], Train Loss: 0.8091\nEpoch [5/10], Step [150/279], Train Loss: 1.0131\nEpoch [5/10], Step [160/279], Train Loss: 1.0891\nEpoch [5/10], Step [170/279], Train Loss: 1.2275\nEpoch [5/10], Step [180/279], Train Loss: 1.0913\nEpoch [5/10], Step [190/279], Train Loss: 0.8867\nEpoch [5/10], Step [200/279], Train Loss: 1.1723\nEpoch [5/10], Step [210/279], Train Loss: 0.9413\nEpoch [5/10], Step [220/279], Train Loss: 0.8712\nEpoch [5/10], Step [230/279], Train Loss: 0.9674\nEpoch [5/10], Step [240/279], Train Loss: 1.0495\nEpoch [5/10], Step [250/279], Train Loss: 0.9973\nEpoch [5/10], Step [260/279], Train Loss: 0.8516\nEpoch [5/10], Step [270/279], Train Loss: 0.8538\n[5] training loss: 0.244, training accuracy: 72.149%\n[5] validation loss: 0.225, validation accuracy: 74.533%\nEpoch [6/10], Step [10/279], Train Loss: 0.7631\nEpoch [6/10], Step [20/279], Train Loss: 0.7571\nEpoch [6/10], Step [30/279], Train Loss: 0.6706\nEpoch [6/10], Step [40/279], Train Loss: 0.8654\nEpoch [6/10], Step [50/279], Train Loss: 0.8981\nEpoch [6/10], Step [60/279], Train Loss: 1.2839\nEpoch [6/10], Step [70/279], Train Loss: 1.1696\nEpoch [6/10], Step [80/279], Train Loss: 1.1246\nEpoch [6/10], Step [90/279], Train Loss: 1.2250\nEpoch [6/10], Step [100/279], Train Loss: 1.0142\nEpoch [6/10], Step [110/279], Train Loss: 1.3455\nEpoch [6/10], Step [120/279], Train Loss: 1.0250\nEpoch [6/10], Step [130/279], Train Loss: 1.1220\nEpoch [6/10], Step [140/279], Train Loss: 1.1830\nEpoch [6/10], Step [150/279], Train Loss: 1.1135\nEpoch [6/10], Step [160/279], Train Loss: 0.9715\nEpoch [6/10], Step [170/279], Train Loss: 1.4879\nEpoch [6/10], Step [180/279], Train Loss: 0.8236\nEpoch [6/10], Step [190/279], Train Loss: 1.3248\nEpoch [6/10], Step [200/279], Train Loss: 1.1104\nEpoch [6/10], Step [210/279], Train Loss: 1.2220\nEpoch [6/10], Step [220/279], Train Loss: 1.0140\nEpoch [6/10], Step [230/279], Train Loss: 1.0967\nEpoch [6/10], Step [240/279], Train Loss: 0.6508\nEpoch [6/10], Step [250/279], Train Loss: 0.9563\nEpoch [6/10], Step [260/279], Train Loss: 1.2022\nEpoch [6/10], Step [270/279], Train Loss: 0.8742\n[6] training loss: 0.264, training accuracy: 70.993%\n[6] validation loss: 0.211, validation accuracy: 75.656%\nEpoch [7/10], Step [10/279], Train Loss: 0.9273\nEpoch [7/10], Step [20/279], Train Loss: 0.9919\nEpoch [7/10], Step [30/279], Train Loss: 0.8746\nEpoch [7/10], Step [40/279], Train Loss: 1.1686\nEpoch [7/10], Step [50/279], Train Loss: 0.7956\nEpoch [7/10], Step [60/279], Train Loss: 0.7815\nEpoch [7/10], Step [70/279], Train Loss: 1.3972\nEpoch [7/10], Step [80/279], Train Loss: 0.9648\nEpoch [7/10], Step [90/279], Train Loss: 0.7607\nEpoch [7/10], Step [100/279], Train Loss: 1.1708\nEpoch [7/10], Step [110/279], Train Loss: 1.0382\nEpoch [7/10], Step [120/279], Train Loss: 0.7942\nEpoch [7/10], Step [130/279], Train Loss: 0.8466\nEpoch [7/10], Step [140/279], Train Loss: 1.2059\nEpoch [7/10], Step [150/279], Train Loss: 0.8640\nEpoch [7/10], Step [160/279], Train Loss: 0.9975\nEpoch [7/10], Step [170/279], Train Loss: 1.0432\nEpoch [7/10], Step [180/279], Train Loss: 1.3728\nEpoch [7/10], Step [190/279], Train Loss: 1.4800\nEpoch [7/10], Step [200/279], Train Loss: 1.3065\nEpoch [7/10], Step [210/279], Train Loss: 0.7702\nEpoch [7/10], Step [220/279], Train Loss: 0.9398\nEpoch [7/10], Step [230/279], Train Loss: 0.9337\nEpoch [7/10], Step [240/279], Train Loss: 0.7452\nEpoch [7/10], Step [250/279], Train Loss: 0.5994\nEpoch [7/10], Step [260/279], Train Loss: 0.9184\nEpoch [7/10], Step [270/279], Train Loss: 0.9787\n[7] training loss: 0.245, training accuracy: 73.638%\n[7] validation loss: 0.206, validation accuracy: 77.056%\nEpoch [8/10], Step [10/279], Train Loss: 0.8634\nEpoch [8/10], Step [20/279], Train Loss: 0.6891\nEpoch [8/10], Step [30/279], Train Loss: 0.8402\nEpoch [8/10], Step [40/279], Train Loss: 0.8533\nEpoch [8/10], Step [50/279], Train Loss: 0.9403\nEpoch [8/10], Step [60/279], Train Loss: 0.9439\nEpoch [8/10], Step [70/279], Train Loss: 0.9231\nEpoch [8/10], Step [80/279], Train Loss: 0.6204\nEpoch [8/10], Step [90/279], Train Loss: 0.7289\nEpoch [8/10], Step [100/279], Train Loss: 0.9320\nEpoch [8/10], Step [110/279], Train Loss: 1.0623\nEpoch [8/10], Step [120/279], Train Loss: 1.0252\nEpoch [8/10], Step [130/279], Train Loss: 1.0945\nEpoch [8/10], Step [140/279], Train Loss: 1.0903\nEpoch [8/10], Step [150/279], Train Loss: 1.1380\nEpoch [8/10], Step [160/279], Train Loss: 1.7378\nEpoch [8/10], Step [170/279], Train Loss: 1.3270\nEpoch [8/10], Step [180/279], Train Loss: 1.4443\nEpoch [8/10], Step [190/279], Train Loss: 1.2011\nEpoch [8/10], Step [200/279], Train Loss: 0.9307\nEpoch [8/10], Step [210/279], Train Loss: 1.2706\nEpoch [8/10], Step [220/279], Train Loss: 1.2346\nEpoch [8/10], Step [230/279], Train Loss: 0.9538\nEpoch [8/10], Step [240/279], Train Loss: 1.3697\nEpoch [8/10], Step [250/279], Train Loss: 0.9733\nEpoch [8/10], Step [260/279], Train Loss: 1.0405\nEpoch [8/10], Step [270/279], Train Loss: 0.9841\n[8] training loss: 0.263, training accuracy: 71.689%\n[8] validation loss: 0.253, validation accuracy: 73.178%\nEpoch [9/10], Step [10/279], Train Loss: 1.1310\nEpoch [9/10], Step [20/279], Train Loss: 1.1279\nEpoch [9/10], Step [30/279], Train Loss: 1.2033\nEpoch [9/10], Step [40/279], Train Loss: 0.6700\nEpoch [9/10], Step [50/279], Train Loss: 0.8806\nEpoch [9/10], Step [60/279], Train Loss: 0.7013\nEpoch [9/10], Step [70/279], Train Loss: 0.9991\nEpoch [9/10], Step [80/279], Train Loss: 0.8121\nEpoch [9/10], Step [90/279], Train Loss: 0.9450\nEpoch [9/10], Step [100/279], Train Loss: 0.8601\nEpoch [9/10], Step [110/279], Train Loss: 1.3167\nEpoch [9/10], Step [120/279], Train Loss: 0.8626\nEpoch [9/10], Step [130/279], Train Loss: 0.8581\nEpoch [9/10], Step [140/279], Train Loss: 1.0663\nEpoch [9/10], Step [150/279], Train Loss: 0.8457\nEpoch [9/10], Step [160/279], Train Loss: 1.1133\nEpoch [9/10], Step [170/279], Train Loss: 0.8349\nEpoch [9/10], Step [180/279], Train Loss: 0.9915\nEpoch [9/10], Step [190/279], Train Loss: 0.7895\nEpoch [9/10], Step [200/279], Train Loss: 0.7310\nEpoch [9/10], Step [210/279], Train Loss: 0.7903\nEpoch [9/10], Step [220/279], Train Loss: 1.2615\nEpoch [9/10], Step [230/279], Train Loss: 1.3336\nEpoch [9/10], Step [240/279], Train Loss: 0.7448\nEpoch [9/10], Step [250/279], Train Loss: 1.1695\nEpoch [9/10], Step [260/279], Train Loss: 1.1131\nEpoch [9/10], Step [270/279], Train Loss: 0.9150\n[9] training loss: 0.247, training accuracy: 73.596%\n[9] validation loss: 0.207, validation accuracy: 75.022%\nEpoch [10/10], Step [10/279], Train Loss: 0.9336\nEpoch [10/10], Step [20/279], Train Loss: 1.1618\nEpoch [10/10], Step [30/279], Train Loss: 1.1048\nEpoch [10/10], Step [40/279], Train Loss: 1.0699\nEpoch [10/10], Step [50/279], Train Loss: 0.7758\nEpoch [10/10], Step [60/279], Train Loss: 0.7575\nEpoch [10/10], Step [70/279], Train Loss: 0.8905\nEpoch [10/10], Step [80/279], Train Loss: 1.1246\nEpoch [10/10], Step [90/279], Train Loss: 1.0814\nEpoch [10/10], Step [100/279], Train Loss: 1.0329\nEpoch [10/10], Step [110/279], Train Loss: 1.1022\nEpoch [10/10], Step [120/279], Train Loss: 0.9403\nEpoch [10/10], Step [130/279], Train Loss: 0.9551\nEpoch [10/10], Step [140/279], Train Loss: 1.2000\nEpoch [10/10], Step [150/279], Train Loss: 1.1864\nEpoch [10/10], Step [160/279], Train Loss: 1.3113\nEpoch [10/10], Step [170/279], Train Loss: 0.8760\nEpoch [10/10], Step [180/279], Train Loss: 1.1559\nEpoch [10/10], Step [190/279], Train Loss: 1.2280\nEpoch [10/10], Step [200/279], Train Loss: 1.1825\nEpoch [10/10], Step [210/279], Train Loss: 1.1363\nEpoch [10/10], Step [220/279], Train Loss: 1.4736\nEpoch [10/10], Step [230/279], Train Loss: 1.1286\nEpoch [10/10], Step [240/279], Train Loss: 1.9190\nEpoch [10/10], Step [250/279], Train Loss: 1.0147\nEpoch [10/10], Step [260/279], Train Loss: 1.3831\nEpoch [10/10], Step [270/279], Train Loss: 1.1670\n[10] training loss: 0.254, training accuracy: 73.973%\n[10] validation loss: 0.256, validation accuracy: 74.411%\n",
     "output_type": "stream"
    }
   ]
  },
  {
   "cell_type": "markdown",
   "source": [
    "### Evaluation"
   ],
   "metadata": {}
  },
  {
   "cell_type": "code",
   "source": [
    "# plot train and validation losses\n",
    "import matplotlib.pyplot as plt\n",
    "\n",
    "\n",
    "plt.plot(base_results_df.epoch, base_results_df.train_loss, label='train')\n",
    "plt.plot(base_results_df.epoch, base_results_df.val_loss, label='validation')\n",
    "plt.title('Training and Validation Loss')\n",
    "plt.xlabel('Epoch')\n",
    "plt.ylabel('Loss')\n",
    "plt.legend()\n",
    "plt.show()"
   ],
   "metadata": {
    "execution": {
     "iopub.status.busy": "2023-03-16T21:10:09.953040Z",
     "iopub.execute_input": "2023-03-16T21:10:09.953868Z",
     "iopub.status.idle": "2023-03-16T21:10:10.230899Z",
     "shell.execute_reply.started": "2023-03-16T21:10:09.953820Z",
     "shell.execute_reply": "2023-03-16T21:10:10.229905Z"
    },
    "trusted": true
   },
   "execution_count": 29,
   "outputs": [
    {
     "output_type": "display_data",
     "data": {
      "text/plain": "<Figure size 640x480 with 1 Axes>",
      "image/png": "[encoded data removed]"
     },
     "metadata": {}
    }
   ]
  },
  {
   "cell_type": "code",
   "source": [
    "\n",
    "# plot train and validation accuracies\n",
    "plt.plot(base_results_df.epoch, base_results_df.train_accuracy, label='train')\n",
    "plt.plot(base_results_df.epoch, base_results_df.val_accuracy, label='validation')\n",
    "plt.title('Training and Validation Accuracy')\n",
    "plt.xlabel('Epoch')\n",
    "plt.ylabel('Accuracy (%)')\n",
    "plt.legend()\n",
    "plt.show()\n"
   ],
   "metadata": {
    "execution": {
     "iopub.status.busy": "2023-03-16T21:10:12.670980Z",
     "iopub.execute_input": "2023-03-16T21:10:12.671814Z",
     "iopub.status.idle": "2023-03-16T21:10:12.910931Z",
     "shell.execute_reply.started": "2023-03-16T21:10:12.671741Z",
     "shell.execute_reply": "2023-03-16T21:10:12.909732Z"
    },
    "trusted": true
   },
   "execution_count": 30,
   "outputs": [
    {
     "output_type": "display_data",
     "data": {
      "text/plain": "<Figure size 640x480 with 1 Axes>",
      "image/png": "[encoded data removed]"
     },
     "metadata": {}
    }
   ]
  },
  {
   "cell_type": "code",
   "source": [
    "torch.save(model_2.state_dict(), 'avg_lstm_model.pt')"
   ],
   "metadata": {
    "execution": {
     "iopub.status.busy": "2023-03-16T21:10:58.111111Z",
     "iopub.execute_input": "2023-03-16T21:10:58.112051Z",
     "iopub.status.idle": "2023-03-16T21:10:58.750735Z",
     "shell.execute_reply.started": "2023-03-16T21:10:58.111995Z",
     "shell.execute_reply": "2023-03-16T21:10:58.749709Z"
    },
    "trusted": true
   },
   "execution_count": 31,
   "outputs": []
  },
  {
   "cell_type": "markdown",
   "source": [
    "### Inference"
   ],
   "metadata": {}
  },
  {
   "cell_type": "code",
   "source": [
    "model_2.eval()\n",
    "test_loss = 0.0\n",
    "test_correct = 0\n",
    "test_total = 0\n",
    "with torch.no_grad():\n",
    "    for input_ids, _, labels in test_loader:\n",
    "        input_ids = input_ids.to(device)\n",
    "        labels = labels.to(device)\n",
    "        logits = model_2(input_ids)\n",
    "        logits = logits.view(-1, num_labels)\n",
    "        labels = labels.view(-1)\n",
    "        loss = criterion(logits, labels)\n",
    "        test_loss += loss.item()\n",
    "        _, predicted = torch.max(logits, 1)\n",
    "        test_total += labels.size(0)\n",
    "        test_correct += (predicted == labels).sum().item()\n",
    "test_accuracy = 100 * test_correct / test_total\n",
    "test_loss = test_loss / len(test_loader.dataset)\n",
    "print('[%d] test loss: %.3f, test accuracy: %.3f%%' %\n",
    "      (epoch + 1, test_loss, test_accuracy))\n",
    "\n",
    "# save the test loss and accuracy after each epoch\n",
    "base_results_df = base_results_df.append({'epoch': epoch+1, \n",
    "                                'train_loss': None,\n",
    "                                'train_accuracy': None,\n",
    "                                'val_loss': None,\n",
    "                                'val_accuracy': None,\n",
    "                                'test_loss': test_loss,\n",
    "                                'test_accuracy': test_accuracy}, ignore_index=True)\n"
   ],
   "metadata": {
    "execution": {
     "iopub.status.busy": "2023-03-16T21:45:25.677368Z",
     "iopub.execute_input": "2023-03-16T21:45:25.677730Z",
     "iopub.status.idle": "2023-03-16T21:47:31.940113Z",
     "shell.execute_reply.started": "2023-03-16T21:45:25.677697Z",
     "shell.execute_reply": "2023-03-16T21:47:31.938990Z"
    },
    "trusted": true
   },
   "execution_count": 58,
   "outputs": [
    {
     "name": "stdout",
     "text": "[10] test loss: 0.506, test accuracy: 74.610%\n",
     "output_type": "stream"
    }
   ]
  },
  {
   "cell_type": "code",
   "source": [
    "\n",
    "model_2.eval()\n",
    "with torch.no_grad():\n",
    "    all_predicted_labels = []\n",
    "    all_true_labels = []\n",
    "    for input_ids, _, labels in test_loader:\n",
    "        input_ids = input_ids.to(device)\n",
    "        labels = labels.to(device)\n",
    "        logits = model_2(input_ids)\n",
    "        logits = logits.view(-1, num_labels)\n",
    "        labels = labels.view(-1)\n",
    "        _, predicted = torch.max(logits, 1)\n",
    "        all_predicted_labels.extend(predicted.cpu().numpy())\n",
    "        all_true_labels.extend(labels.cpu().numpy())\n"
   ],
   "metadata": {
    "execution": {
     "iopub.status.busy": "2023-03-16T21:42:00.407728Z",
     "iopub.execute_input": "2023-03-16T21:42:00.408454Z",
     "iopub.status.idle": "2023-03-16T21:44:06.616877Z",
     "shell.execute_reply.started": "2023-03-16T21:42:00.408417Z",
     "shell.execute_reply": "2023-03-16T21:44:06.615806Z"
    },
    "trusted": true
   },
   "execution_count": 56,
   "outputs": []
  },
  {
   "cell_type": "code",
   "source": [
    "# Calculate precision, recall, F1-score, and support\n",
    "precision, recall, f1_score, support = precision_recall_fscore_support(all_true_labels, all_predicted_labels, average='weighted',zero_division=1)\n",
    "# Create a DataFrame with the metrics\n",
    "metrics_data = { 'Weighted Avg Precision': [precision],\n",
    "                'Weighted Avg Recall': [recall],\n",
    "                'Weighted Avg F1-score': [f1_score]\n",
    "               }\n",
    "metrics_df = pd.DataFrame(metrics_data)\n",
    "\n",
    "# Display the metrics DataFrame\n",
    "print(metrics_df)"
   ],
   "metadata": {
    "execution": {
     "iopub.status.busy": "2023-03-16T21:45:11.764336Z",
     "iopub.execute_input": "2023-03-16T21:45:11.764716Z",
     "iopub.status.idle": "2023-03-16T21:45:11.814404Z",
     "shell.execute_reply.started": "2023-03-16T21:45:11.764683Z",
     "shell.execute_reply": "2023-03-16T21:45:11.813240Z"
    },
    "trusted": true
   },
   "execution_count": 57,
   "outputs": [
    {
     "name": "stdout",
     "text": "   Weighted Avg Precision  Weighted Avg Recall  Weighted Avg F1-score\n0                0.757491             0.746099               0.716529\n",
     "output_type": "stream"
    }
   ]
  }
 ]
}
