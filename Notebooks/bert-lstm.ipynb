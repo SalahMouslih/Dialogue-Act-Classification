{
 "metadata": {
  "kernelspec": {
   "language": "python",
   "display_name": "Python 3",
   "name": "python3"
  },
  "language_info": {
   "name": "python",
   "version": "3.7.12",
   "mimetype": "text/x-python",
   "codemirror_mode": {
    "name": "ipython",
    "version": 3
   },
   "pygments_lexer": "ipython3",
   "nbconvert_exporter": "python",
   "file_extension": ".py"
  }
 },
 "nbformat_minor": 4,
 "nbformat": 4,
 "cells": [
  {
   "cell_type": "code",
   "source": [
    "from transformers import BertModel, BertTokenizer\n",
    "from datasets import load_dataset\n",
    "import torch.nn as nn\n",
    "\n",
    "# Load the SWDA dataset\n",
    "swda = load_dataset(\"swda\")\n",
    "swda = swda.remove_columns(['swda_filename', 'ptb_basename', 'transcript_index', 'act_tag', 'caller', 'utterance_index', 'subutterance_index', 'pos', 'trees', 'ptb_treenumbers', 'talk_day', 'length', 'topic_description', 'prompt', 'from_caller', 'from_caller_sex', 'from_caller_education', 'from_caller_birth_year', 'from_caller_dialect_area', 'to_caller', 'to_caller_sex', 'to_caller_education', 'to_caller_birth_year', 'to_caller_dialect_area'])\n",
    "swda = swda.rename_column(\"damsl_act_tag\", \"label\")\n",
    "swda\n",
    "\n"
   ],
   "metadata": {
    "execution": {
     "iopub.status.busy": "2023-03-17T16:11:57.362642Z",
     "iopub.execute_input": "2023-03-17T16:11:57.363426Z",
     "iopub.status.idle": "2023-03-17T16:11:58.312780Z",
     "shell.execute_reply.started": "2023-03-17T16:11:57.363386Z",
     "shell.execute_reply": "2023-03-17T16:11:58.311865Z"
    },
    "trusted": true
   },
   "execution_count": 6,
   "outputs": [
    {
     "name": "stderr",
     "output_type": "stream",
     "text": [
      "Found cached dataset swda (/Users/mangrove/.cache/huggingface/datasets/swda/default/0.0.0/9af7f63229aca2a0d84408dd35ceb640b18d13f36d4b6e668f577905f6339ec0)\n"
     ]
    },
    {
     "data": {
      "text/plain": "  0%|          | 0/3 [00:00<?, ?it/s]",
      "application/vnd.jupyter.widget-view+json": {
       "version_major": 2,
       "version_minor": 0,
       "model_id": "9a6ddafb46d4406a94d5228653390651"
      }
     },
     "metadata": {},
     "output_type": "display_data"
    },
    {
     "data": {
      "text/plain": "DatasetDict({\n    train: Dataset({\n        features: ['conversation_no', 'label', 'text'],\n        num_rows: 213543\n    })\n    validation: Dataset({\n        features: ['conversation_no', 'label', 'text'],\n        num_rows: 56729\n    })\n    test: Dataset({\n        features: ['conversation_no', 'label', 'text'],\n        num_rows: 4514\n    })\n})"
     },
     "execution_count": 4,
     "metadata": {},
     "output_type": "execute_result"
    },
    {
     "name": "stderr",
     "output_type": "stream",
     "text": [
      "Found cached dataset swda (/Users/mangrove/.cache/huggingface/datasets/swda/default/0.0.0/9af7f63229aca2a0d84408dd35ceb640b18d13f36d4b6e668f577905f6339ec0)\n"
     ]
    },
    {
     "data": {
      "text/plain": "  0%|          | 0/3 [00:00<?, ?it/s]",
      "application/vnd.jupyter.widget-view+json": {
       "version_major": 2,
       "version_minor": 0,
       "model_id": "5e492e0862864321ba90d9a2a4980d48"
      }
     },
     "metadata": {},
     "output_type": "display_data"
    },
    {
     "data": {
      "text/plain": "DatasetDict({\n    train: Dataset({\n        features: ['conversation_no', 'label', 'text'],\n        num_rows: 213543\n    })\n    validation: Dataset({\n        features: ['conversation_no', 'label', 'text'],\n        num_rows: 56729\n    })\n    test: Dataset({\n        features: ['conversation_no', 'label', 'text'],\n        num_rows: 4514\n    })\n})"
     },
     "execution_count": 5,
     "metadata": {},
     "output_type": "execute_result"
    },
    {
     "name": "stderr",
     "output_type": "stream",
     "text": [
      "Found cached dataset swda (/Users/mangrove/.cache/huggingface/datasets/swda/default/0.0.0/9af7f63229aca2a0d84408dd35ceb640b18d13f36d4b6e668f577905f6339ec0)\n"
     ]
    },
    {
     "data": {
      "text/plain": "  0%|          | 0/3 [00:00<?, ?it/s]",
      "application/vnd.jupyter.widget-view+json": {
       "version_major": 2,
       "version_minor": 0,
       "model_id": "1b06dc34efb34da092d2effa1f516d53"
      }
     },
     "metadata": {},
     "output_type": "display_data"
    },
    {
     "data": {
      "text/plain": "DatasetDict({\n    train: Dataset({\n        features: ['conversation_no', 'label', 'text'],\n        num_rows: 213543\n    })\n    validation: Dataset({\n        features: ['conversation_no', 'label', 'text'],\n        num_rows: 56729\n    })\n    test: Dataset({\n        features: ['conversation_no', 'label', 'text'],\n        num_rows: 4514\n    })\n})"
     },
     "execution_count": 6,
     "metadata": {},
     "output_type": "execute_result"
    }
   ]
  },
  {
   "cell_type": "code",
   "source": [
    "import re \n",
    "\n",
    "def clean_swda_utterance(text):\n",
    "    text = re.sub(r'\\[.*?\\]', '', text)\n",
    "    text = text.strip()\n",
    "    text = re.sub(r'\\(.*?\\)', '', text)\n",
    "    text = re.sub(r'[^a-zA-Z0-9\\s]', '', text)\n",
    "    text = text.lower()\n",
    "    text = ' '.join(text.split())\n",
    "    return {\"text\": text}\n"
   ],
   "metadata": {
    "execution": {
     "iopub.status.busy": "2023-03-17T16:12:00.979221Z",
     "iopub.execute_input": "2023-03-17T16:12:00.979727Z",
     "iopub.status.idle": "2023-03-17T16:12:00.985822Z",
     "shell.execute_reply.started": "2023-03-17T16:12:00.979688Z",
     "shell.execute_reply": "2023-03-17T16:12:00.984681Z"
    },
    "trusted": true
   },
   "execution_count": 70,
   "outputs": []
  },
  {
   "cell_type": "code",
   "source": [
    "swda = swda.map(lambda x : clean_swda_utterance(x['text']))"
   ],
   "metadata": {
    "execution": {
     "iopub.status.busy": "2023-03-17T16:12:03.183785Z",
     "iopub.execute_input": "2023-03-17T16:12:03.184812Z",
     "iopub.status.idle": "2023-03-17T16:12:25.670238Z",
     "shell.execute_reply.started": "2023-03-17T16:12:03.184772Z",
     "shell.execute_reply": "2023-03-17T16:12:25.668081Z"
    },
    "trusted": true
   },
   "execution_count": 71,
   "outputs": [
    {
     "output_type": "display_data",
     "data": {
      "text/plain": "  0%|          | 0/213543 [00:00<?, ?ex/s]",
      "application/vnd.jupyter.widget-view+json": {
       "version_major": 2,
       "version_minor": 0,
       "model_id": "40409b8c68d141d69fb6adcbf87021af"
      }
     },
     "metadata": {}
    },
    {
     "output_type": "display_data",
     "data": {
      "text/plain": "  0%|          | 0/56729 [00:00<?, ?ex/s]",
      "application/vnd.jupyter.widget-view+json": {
       "version_major": 2,
       "version_minor": 0,
       "model_id": "28d82f3da1dc4e4389171422b709b54b"
      }
     },
     "metadata": {}
    },
    {
     "output_type": "display_data",
     "data": {
      "text/plain": "  0%|          | 0/4514 [00:00<?, ?ex/s]",
      "application/vnd.jupyter.widget-view+json": {
       "version_major": 2,
       "version_minor": 0,
       "model_id": "45059edca0d543568358f97c3b1888ba"
      }
     },
     "metadata": {}
    }
   ]
  },
  {
   "cell_type": "code",
   "execution_count": 74,
   "outputs": [],
   "source": [
    "tokenizer = BertTokenizer.from_pretrained('bert-base-uncased')"
   ],
   "metadata": {
    "collapsed": false
   }
  },
  {
   "cell_type": "code",
   "source": [
    "import torch\n",
    "from torch.utils.data import DataLoader, Dataset\n",
    "\n",
    "\n",
    "class SWDADataset(Dataset):\n",
    "    def __init__(self, swda, tokenizer, max_seq_length):\n",
    "        self.swda = swda\n",
    "        self.tokenizer = tokenizer\n",
    "        self.max_seq_length = max_seq_length\n",
    "\n",
    "    def __len__(self):\n",
    "        return len(self.swda)\n",
    "\n",
    "    def __getitem__(self, index):\n",
    "        # Get input text\n",
    "        input_text = self.tokenizer.encode_plus(\n",
    "            self.swda[index]['text'],\n",
    "            add_special_tokens=True,\n",
    "            max_length=self.max_seq_length,\n",
    "            padding='max_length',\n",
    "            truncation=True,\n",
    "            return_tensors='pt'\n",
    "        )\n",
    "\n",
    "        # Get context\n",
    "        context = self.swda[index-1] if index > 0 else self.swda[index]\n",
    "        context = self.tokenizer.encode_plus(\n",
    "            context['text'],\n",
    "            add_special_tokens=True,\n",
    "            max_length=self.max_seq_length,\n",
    "            padding='max_length',\n",
    "            truncation=True,\n",
    "            return_tensors='pt'\n",
    "        )\n",
    "\n",
    "        # Get label\n",
    "        label = self.swda[index]['label']\n",
    "        \n",
    "        return input_text, context, label\n",
    "\n",
    "\n",
    "# Create the train loader\n",
    "train_dataset = SWDADataset(swda['train'], tokenizer, max_seq_length=128)\n",
    "val_dataset = SWDADataset(swda['validation'], tokenizer, max_seq_length=128)\n",
    "test_dataset = SWDADataset(swda['test'], tokenizer, max_seq_length=128)\n",
    "\n",
    "train_loader = DataLoader(train_dataset, batch_size=32, shuffle=True)\n",
    "val_loader = DataLoader(train_dataset, batch_size=32, shuffle=True)\n",
    "test_loader = DataLoader(test_dataset, batch_size=32, shuffle=True)"
   ],
   "metadata": {
    "execution": {
     "iopub.status.busy": "2023-03-17T16:13:39.005711Z",
     "iopub.execute_input": "2023-03-17T16:13:39.006673Z",
     "iopub.status.idle": "2023-03-17T16:13:39.019663Z",
     "shell.execute_reply.started": "2023-03-17T16:13:39.006617Z",
     "shell.execute_reply": "2023-03-17T16:13:39.018550Z"
    },
    "trusted": true
   },
   "execution_count": 72,
   "outputs": []
  },
  {
   "cell_type": "code",
   "source": [
    "device = torch.device(\"cuda\" if torch.cuda.is_available() else \"cpu\")"
   ],
   "metadata": {
    "execution": {
     "iopub.status.busy": "2023-03-17T16:13:45.449118Z",
     "iopub.execute_input": "2023-03-17T16:13:45.450078Z",
     "iopub.status.idle": "2023-03-17T16:13:45.455729Z",
     "shell.execute_reply.started": "2023-03-17T16:13:45.450037Z",
     "shell.execute_reply": "2023-03-17T16:13:45.454528Z"
    },
    "trusted": true
   },
   "execution_count": 73,
   "outputs": []
  },
  {
   "cell_type": "code",
   "source": [
    "class BertLSTM(nn.Module):\n",
    "    def __init__(self, num_labels, hidden_size, lstm_layers, dropout_rate):\n",
    "        super(BertLSTM, self).__init__()\n",
    "        self.bert = BertModel.from_pretrained('bert-base-uncased')\n",
    "        for param in self.bert.parameters():\n",
    "            param.requires_grad = False\n",
    "        self.dropout = nn.Dropout(dropout_rate)\n",
    "        self.lstm = nn.LSTM(input_size=768, hidden_size=hidden_size,\n",
    "                            num_layers=lstm_layers, bidirectional=True, batch_first=True)\n",
    "        self.fc = nn.Linear(hidden_size * 2, num_labels)\n",
    "\n",
    "    def forward(self, input_ids, attention_mask, token_type_ids):\n",
    "        input_ids = input_ids.to(device)\n",
    "        attention_mask = attention_mask.to(device)\n",
    "        token_type_ids = token_type_ids.to(device)\n",
    "        bert_outputs = self.bert(input_ids, attention_mask=attention_mask, token_type_ids=token_type_ids)\n",
    "        \n",
    "        # Use the hidden states from the last layer of BERT\n",
    "        hidden_states = bert_outputs[0] \n",
    "        \n",
    "        # Apply dropout to the hidden states\n",
    "        hidden_states = self.dropout(hidden_states)\n",
    "        \n",
    "        # Pass the hidden states through the LSTM\n",
    "        lstm_output, _ = self.lstm(hidden_states)\n",
    "        \n",
    "        # Apply dropout to the LSTM output\n",
    "        lstm_output = self.dropout(lstm_output)\n",
    "        \n",
    "        # Get the last hidden state of the LSTM for classification\n",
    "        lstm_last_hidden = lstm_output[:, -1, :]\n",
    "        \n",
    "        # Pass the last hidden state through the fully connected layer\n",
    "        logits = self.fc(lstm_last_hidden)\n",
    "        \n",
    "        return logits\n",
    "\n",
    "model = BertLSTM(num_labels=43, hidden_size=512, lstm_layers=2, dropout_rate=0.2)\n",
    "model = model.to(device)"
   ],
   "metadata": {
    "execution": {
     "iopub.status.busy": "2023-03-17T16:14:33.299016Z",
     "iopub.execute_input": "2023-03-17T16:14:33.300079Z",
     "iopub.status.idle": "2023-03-17T16:14:35.248622Z",
     "shell.execute_reply.started": "2023-03-17T16:14:33.300026Z",
     "shell.execute_reply": "2023-03-17T16:14:35.247566Z"
    },
    "trusted": true
   },
   "execution_count": 77,
   "outputs": [
    {
     "name": "stderr",
     "text": "Some weights of the model checkpoint at bert-base-uncased were not used when initializing BertModel: ['cls.predictions.transform.LayerNorm.weight', 'cls.predictions.transform.dense.bias', 'cls.predictions.decoder.weight', 'cls.predictions.transform.dense.weight', 'cls.seq_relationship.bias', 'cls.predictions.transform.LayerNorm.bias', 'cls.seq_relationship.weight', 'cls.predictions.bias']\n- This IS expected if you are initializing BertModel from the checkpoint of a model trained on another task or with another architecture (e.g. initializing a BertForSequenceClassification model from a BertForPreTraining model).\n- This IS NOT expected if you are initializing BertModel from the checkpoint of a model that you expect to be exactly identical (initializing a BertForSequenceClassification model from a BertForSequenceClassification model).\n",
     "output_type": "stream"
    }
   ]
  },
  {
   "cell_type": "code",
   "source": [
    "# Define loss function and optimizer\n",
    "criterion = nn.CrossEntropyLoss()\n",
    "optimizer = torch.optim.Adam(model.parameters(), lr=1e-3)"
   ],
   "metadata": {
    "execution": {
     "iopub.status.busy": "2023-03-17T16:14:35.250838Z",
     "iopub.execute_input": "2023-03-17T16:14:35.251320Z",
     "iopub.status.idle": "2023-03-17T16:14:35.261047Z",
     "shell.execute_reply.started": "2023-03-17T16:14:35.251281Z",
     "shell.execute_reply": "2023-03-17T16:14:35.260012Z"
    },
    "trusted": true
   },
   "execution_count": 78,
   "outputs": []
  },
  {
   "cell_type": "code",
   "source": [
    "train_losses = []\n",
    "val_losses = []\n",
    "\n",
    "train_labels = []\n",
    "val_labels = []\n",
    "\n",
    "train_accuracies = [] \n",
    "val_accuracies = []\n",
    "\n",
    "num_epochs = 6\n",
    "\n",
    "best_val_loss = float('inf')\n",
    "for epoch in range(num_epochs):\n",
    "    epoch_loss = 0\n",
    "    epoch_acc = 0\n",
    "\n",
    "    model.train()\n",
    "\n",
    "    for i, (input_text, context, labels) in enumerate(train_loader):\n",
    "        optimizer.zero_grad()\n",
    "        input_text = {\n",
    "            'input_ids': input_text['input_ids'].squeeze(1),\n",
    "            'attention_mask': input_text['attention_mask'].squeeze(1),\n",
    "            'token_type_ids': input_text['token_type_ids'].squeeze(1)\n",
    "        }\n",
    "        labels = labels.to(device)\n",
    "        output = model(input_ids=input_text['input_ids'].squeeze(1), \n",
    "                       attention_mask=input_text['attention_mask'].squeeze(1), \n",
    "                       token_type_ids=input_text['token_type_ids'].squeeze(1))\n",
    "        loss = criterion(output, labels)\n",
    "\n",
    "        loss.backward()\n",
    "        optimizer.step()\n",
    "\n",
    "        epoch_loss += loss.item() * input_text[\"input_ids\"].size(0)\n",
    "\n",
    "        # Compute accuracy for this batch\n",
    "        predicted_labels = output.argmax(dim=1)\n",
    "        num_correct = (predicted_labels == labels).sum().item()\n",
    "        acc = num_correct / len(labels)\n",
    "        epoch_acc += acc\n",
    "        \n",
    "        \n",
    "        if (i+1) % 1000 == 0:\n",
    "            print(f'Epoch [{epoch+1}/{num_epochs}], Step [{i+1}/{len(train_loader)}], Train Loss: {loss.item():.4f}')\n",
    "\n",
    "    # Compute average loss and accuracy for epoch\n",
    "    epoch_loss /= len(train_loader)\n",
    "    epoch_acc /= len(train_loader)\n",
    "    train_losses.append(epoch_loss)\n",
    "    train_accuracies.append(epoch_acc)\n",
    "\n",
    "\n",
    "    print(f'Epoch {epoch+1}/{num_epochs}, Loss: {epoch_loss:.4f}, Accuracy: {epoch_acc:.4f}')\n",
    "    \n",
    "    # Validation loop\n",
    "    print(\"Validation\")\n",
    "    model.eval()\n",
    "    val_loss = 0\n",
    "    val_acc = 0\n",
    "    with torch.no_grad():\n",
    "        for j, (input_text, context, labels) in enumerate(val_loader):\n",
    "            \n",
    "            input_text = {\n",
    "            'input_ids': input_text['input_ids'].squeeze(1),\n",
    "            'attention_mask': input_text['attention_mask'].squeeze(1),\n",
    "            'token_type_ids': input_text['token_type_ids'].squeeze(1)\n",
    "            }\n",
    "            labels = labels.to(device)\n",
    "            output = model(input_ids=input_text['input_ids'].squeeze(1), \n",
    "                       attention_mask=input_text['attention_mask'].squeeze(1), \n",
    "                       token_type_ids=input_text['token_type_ids'].squeeze(1))\n",
    "            loss = criterion(output, labels)\n",
    "\n",
    "            val_loss += loss.item() * input_text[\"input_ids\"].size(0)\n",
    "\n",
    "            # Compute accuracy for this batch\n",
    "            predicted_labels = output.argmax(dim=1)\n",
    "            num_correct = (predicted_labels == labels).sum().item()\n",
    "            acc = num_correct / len(labels)\n",
    "            val_acc += acc\n",
    "\n",
    "            if (j+1) % 1000 == 0:\n",
    "                print(f'Epoch val [{epoch+1}/{num_epochs}]')\n",
    "\n",
    "    # Compute average validation loss and accuracy\n",
    "    val_loss /= len(val_loader)\n",
    "    val_losses.append(val_loss)\n",
    "    val_acc /= len(val_loader)\n",
    "    val_accuracies.append(val_acc)\n",
    "\n",
    "    \n",
    "    print(f'Epoch {epoch+1}/{num_epochs}, Val Loss: {val_loss:.4f}, Val Accuracy: {val_acc:.4f}')\n",
    "\n",
    "    # Save best model\n",
    "    if val_loss < best_val_loss:\n",
    "        best_val_loss = val_loss\n",
    "        torch.save(model.state_dict(), 'bert_lstm_final.pt')\n"
   ],
   "metadata": {
    "execution": {
     "iopub.status.busy": "2023-03-17T16:14:38.877596Z",
     "iopub.execute_input": "2023-03-17T16:14:38.877964Z",
     "iopub.status.idle": "2023-03-17T21:15:03.038848Z",
     "shell.execute_reply.started": "2023-03-17T16:14:38.877933Z",
     "shell.execute_reply": "2023-03-17T21:15:03.037227Z"
    },
    "trusted": true
   },
   "execution_count": 79,
   "outputs": [
    {
     "name": "stdout",
     "text": "Epoch [1/6], Step [1000/6674], Train Loss: 1.1376\nEpoch [1/6], Step [2000/6674], Train Loss: 1.2129\nEpoch [1/6], Step [3000/6674], Train Loss: 1.4544\nEpoch [1/6], Step [4000/6674], Train Loss: 1.0975\nEpoch [1/6], Step [5000/6674], Train Loss: 0.9823\nEpoch [1/6], Step [6000/6674], Train Loss: 0.7709\nEpoch 1/6, Loss: 37.5756, Accuracy: 0.6348\nValidation\nEpoch val [1/6]\nEpoch val [1/6]\nEpoch val [1/6]\nEpoch val [1/6]\nEpoch val [1/6]\nEpoch val [1/6]\nEpoch 1/6, Val Loss: 32.8526, Val Accuracy: 0.6773\nEpoch [2/6], Step [1000/6674], Train Loss: 0.5130\nEpoch [2/6], Step [2000/6674], Train Loss: 0.4327\nEpoch [2/6], Step [3000/6674], Train Loss: 0.6151\nEpoch [2/6], Step [4000/6674], Train Loss: 0.8228\nEpoch [2/6], Step [5000/6674], Train Loss: 0.8097\nEpoch [2/6], Step [6000/6674], Train Loss: 0.7909\nEpoch 2/6, Loss: 33.5478, Accuracy: 0.6691\nValidation\nEpoch val [2/6]\nEpoch val [2/6]\nEpoch val [2/6]\nEpoch val [2/6]\nEpoch val [2/6]\nEpoch val [2/6]\nEpoch 2/6, Val Loss: 31.5455, Val Accuracy: 0.6882\nEpoch [3/6], Step [1000/6674], Train Loss: 0.9881\nEpoch [3/6], Step [2000/6674], Train Loss: 0.7865\nEpoch [3/6], Step [3000/6674], Train Loss: 1.0507\nEpoch [3/6], Step [4000/6674], Train Loss: 1.0500\nEpoch [3/6], Step [5000/6674], Train Loss: 0.9046\nEpoch [3/6], Step [6000/6674], Train Loss: 0.9524\nEpoch 3/6, Loss: 32.3902, Accuracy: 0.6795\nValidation\nEpoch val [3/6]\nEpoch val [3/6]\nEpoch val [3/6]\nEpoch val [3/6]\nEpoch val [3/6]\nEpoch val [3/6]\nEpoch 3/6, Val Loss: 30.6904, Val Accuracy: 0.6936\nEpoch [4/6], Step [1000/6674], Train Loss: 1.0249\nEpoch [4/6], Step [2000/6674], Train Loss: 1.1989\nEpoch [4/6], Step [3000/6674], Train Loss: 1.2351\nEpoch [4/6], Step [4000/6674], Train Loss: 0.8657\nEpoch [4/6], Step [5000/6674], Train Loss: 1.3121\nEpoch [4/6], Step [6000/6674], Train Loss: 1.1092\nEpoch 4/6, Loss: 31.6889, Accuracy: 0.6841\nValidation\nEpoch val [4/6]\nEpoch val [4/6]\nEpoch val [4/6]\nEpoch val [4/6]\nEpoch val [4/6]\nEpoch val [4/6]\nEpoch 4/6, Val Loss: 29.7306, Val Accuracy: 0.7023\nEpoch [5/6], Step [1000/6674], Train Loss: 0.5462\nEpoch [5/6], Step [2000/6674], Train Loss: 0.8202\nEpoch [5/6], Step [3000/6674], Train Loss: 0.7320\nEpoch [5/6], Step [4000/6674], Train Loss: 1.1146\nEpoch [5/6], Step [5000/6674], Train Loss: 1.1669\nEpoch [5/6], Step [6000/6674], Train Loss: 0.7484\nEpoch 5/6, Loss: 31.2027, Accuracy: 0.6885\nValidation\nEpoch val [5/6]\nEpoch val [5/6]\nEpoch val [5/6]\nEpoch val [5/6]\nEpoch val [5/6]\nEpoch val [5/6]\nEpoch 5/6, Val Loss: 29.2258, Val Accuracy: 0.7046\nEpoch [6/6], Step [1000/6674], Train Loss: 1.1764\nEpoch [6/6], Step [2000/6674], Train Loss: 0.7984\nEpoch [6/6], Step [3000/6674], Train Loss: 0.9653\nEpoch [6/6], Step [4000/6674], Train Loss: 1.0583\nEpoch [6/6], Step [5000/6674], Train Loss: 1.0308\nEpoch [6/6], Step [6000/6674], Train Loss: 0.9016\nEpoch 6/6, Loss: 30.7670, Accuracy: 0.6914\nValidation\nEpoch val [6/6]\nEpoch val [6/6]\nEpoch val [6/6]\nEpoch val [6/6]\nEpoch val [6/6]\nEpoch val [6/6]\nEpoch 6/6, Val Loss: 28.9435, Val Accuracy: 0.7056\n",
     "output_type": "stream"
    }
   ]
  },
  {
   "cell_type": "code",
   "source": [
    "import matplotlib.pyplot as plt\n",
    "\n",
    "\n",
    "# Plot training and validation losses\n",
    "plt.plot(train_losses, label='Training Loss')\n",
    "plt.plot(val_losses, label='Validation Loss')\n",
    "plt.xlabel('Epoch')\n",
    "plt.ylabel('Loss')\n",
    "plt.title('Loss per epoch')\n",
    "plt.legend()\n",
    "plt.show()"
   ],
   "metadata": {
    "execution": {
     "iopub.status.busy": "2023-03-17T21:25:49.184960Z",
     "iopub.execute_input": "2023-03-17T21:25:49.185381Z",
     "iopub.status.idle": "2023-03-17T21:25:49.434745Z",
     "shell.execute_reply.started": "2023-03-17T21:25:49.185332Z",
     "shell.execute_reply": "2023-03-17T21:25:49.433685Z"
    },
    "trusted": true
   },
   "execution_count": 80,
   "outputs": [
    {
     "output_type": "display_data",
     "data": {
      "text/plain": "<Figure size 640x480 with 1 Axes>",
      "image/png": "[encoded data removed]"
     },
     "metadata": {}
    }
   ]
  },
  {
   "cell_type": "code",
   "source": [
    "# Plot training and validation accuracies\n",
    "plt.plot(val_accuracies, label='Training Accuracy')\n",
    "plt.plot(train_accuracies, label='Validation Accuracy')\n",
    "plt.xlabel('Epoch')\n",
    "plt.ylabel('Accuracy')\n",
    "plt.title('Accuracy per epoch')\n",
    "plt.legend()\n",
    "plt.show()\n"
   ],
   "metadata": {
    "execution": {
     "iopub.status.busy": "2023-03-17T11:28:08.888049Z",
     "iopub.execute_input": "2023-03-17T11:28:08.888448Z",
     "iopub.status.idle": "2023-03-17T11:28:09.151765Z",
     "shell.execute_reply.started": "2023-03-17T11:28:08.888413Z",
     "shell.execute_reply": "2023-03-17T11:28:09.150425Z"
    },
    "trusted": true
   },
   "execution_count": 42,
   "outputs": [
    {
     "output_type": "display_data",
     "data": {
      "text/plain": "<Figure size 640x480 with 1 Axes>",
      "image/png": "[encoded data removed]"
     },
     "metadata": {}
    }
   ]
  },
  {
   "cell_type": "code",
   "source": [
    "import pandas as pd\n",
    "from sklearn.metrics import precision_recall_fscore_support\n",
    "\n",
    "model.eval()\n",
    "all_true_labels = []\n",
    "all_predicted_labels = []\n",
    "with torch.no_grad():\n",
    "    for input_text, context, labels in test_loader:\n",
    "        input_text = {\n",
    "            'input_ids': input_text['input_ids'].squeeze(1),\n",
    "            'attention_mask': input_text['attention_mask'].squeeze(1),\n",
    "            'token_type_ids': input_text['token_type_ids'].squeeze(1)\n",
    "            }\n",
    "        labels = labels.to(device)\n",
    "        output = model(input_ids=input_text['input_ids'].squeeze(1), \n",
    "                       attention_mask=input_text['attention_mask'].squeeze(1), \n",
    "                       token_type_ids=input_text['token_type_ids'].squeeze(1))\n",
    "\n",
    "        # Store true and predicted labels for this batch\n",
    "        predicted_labels = output.argmax(dim=1)\n",
    "        all_true_labels.extend(labels.cpu().numpy())\n",
    "        all_predicted_labels.extend(predicted_labels.cpu().numpy())\n",
    "\n",
    "# Calculate precision, recall, F1-score, and support\n",
    "precision, recall, f1_score, support = precision_recall_fscore_support(all_true_labels, all_predicted_labels, average='weighted', zero_division=0)\n",
    "\n",
    "# Create a DataFrame with the metrics\n",
    "metrics_data = {\n",
    "    'Weighted Avg Precision': [precision],\n",
    "    'Weighted Avg Recall': [recall],\n",
    "    'Weighted Avg F1-score': [f1_score],\n",
    "}\n",
    "\n",
    "\n",
    "metrics_df = pd.DataFrame(metrics_data)\n",
    "\n",
    "# Display the metrics DataFrame\n",
    "print(metrics_df)\n",
    "\n"
   ],
   "metadata": {
    "execution": {
     "iopub.status.busy": "2023-03-17T21:26:13.886562Z",
     "iopub.execute_input": "2023-03-17T21:26:13.887695Z",
     "iopub.status.idle": "2023-03-17T21:26:40.949123Z",
     "shell.execute_reply.started": "2023-03-17T21:26:13.887651Z",
     "shell.execute_reply": "2023-03-17T21:26:40.947979Z"
    },
    "trusted": true
   },
   "execution_count": 81,
   "outputs": [
    {
     "name": "stdout",
     "text": "   Weighted Avg Precision  Weighted Avg Recall  Weighted Avg F1-score\n0                0.651422             0.660833               0.637154\n",
     "output_type": "stream"
    }
   ]
  },
  {
   "cell_type": "code",
   "source": [
    "model.eval()\n",
    "test_loss = 0\n",
    "test_acc = 0\n",
    "with torch.no_grad():\n",
    "    for input_text, context,labels in test_loader:\n",
    "        input_text = {\n",
    "            'input_ids': input_text['input_ids'].squeeze(1),\n",
    "            'attention_mask': input_text['attention_mask'].squeeze(1),\n",
    "            'token_type_ids': input_text['token_type_ids'].squeeze(1)\n",
    "            }\n",
    "        labels = labels.to(device)\n",
    "        output = model(input_ids=input_text['input_ids'].squeeze(1), \n",
    "                       attention_mask=input_text['attention_mask'].squeeze(1), \n",
    "                       token_type_ids=input_text['token_type_ids'].squeeze(1))\n",
    "        loss = criterion(output, labels)\n",
    "\n",
    "        test_loss += loss.item() * input_text[\"input_ids\"].size(0)\n",
    "\n",
    "        # Compute accuracy for this batch\n",
    "        predicted_labels = output.argmax(dim=1)\n",
    "        num_correct = (predicted_labels == labels).sum().item()\n",
    "        acc = num_correct / len(labels)\n",
    "        test_acc += acc\n",
    "\n",
    "# Compute average test loss and accuracy\n",
    "test_loss /= len(test_loader)\n",
    "test_acc /= len(test_loader)\n",
    "\n",
    "print(f'Test Loss: {test_loss:.4f}, Test Accuracy: {test_acc:.4f}')\n"
   ],
   "metadata": {
    "execution": {
     "iopub.status.busy": "2023-03-17T21:26:40.951374Z",
     "iopub.execute_input": "2023-03-17T21:26:40.951763Z",
     "iopub.status.idle": "2023-03-17T21:27:06.629986Z",
     "shell.execute_reply.started": "2023-03-17T21:26:40.951723Z",
     "shell.execute_reply": "2023-03-17T21:27:06.628088Z"
    },
    "trusted": true
   },
   "execution_count": 82,
   "outputs": [
    {
     "name": "stdout",
     "text": "Test Loss: 33.2205, Test Accuracy: 0.6598\n",
     "output_type": "stream"
    }
   ]
  }
 ]
}
