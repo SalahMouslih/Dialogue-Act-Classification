{
 "metadata": {
  "kernelspec": {
   "language": "python",
   "display_name": "Python 3",
   "name": "python3"
  },
  "language_info": {
   "name": "python",
   "version": "3.7.12",
   "mimetype": "text/x-python",
   "codemirror_mode": {
    "name": "ipython",
    "version": 3
   },
   "pygments_lexer": "ipython3",
   "nbconvert_exporter": "python",
   "file_extension": ".py"
  }
 },
 "nbformat_minor": 4,
 "nbformat": 4,
 "cells": [
  {
   "cell_type": "code",
   "source": [
    "import torch.nn as nn\n",
    "from transformers import BertTokenizer, BertModel\n",
    "from datasets import load_dataset"
   ],
   "metadata": {
    "execution": {
     "iopub.status.busy": "2023-03-17T11:09:39.093019Z",
     "iopub.execute_input": "2023-03-17T11:09:39.093937Z",
     "iopub.status.idle": "2023-03-17T11:09:40.026812Z",
     "shell.execute_reply.started": "2023-03-17T11:09:39.093890Z",
     "shell.execute_reply": "2023-03-17T11:09:40.025587Z"
    },
    "trusted": true
   },
   "execution_count": 2,
   "outputs": []
  },
  {
   "cell_type": "code",
   "source": [
    "# Load the SWDA dataset\n",
    "swda = load_dataset(\"swda\")\n",
    "\n",
    "swda = swda.remove_columns(['swda_filename', 'ptb_basename', 'transcript_index', 'act_tag', 'caller', 'utterance_index', 'subutterance_index', 'pos', 'trees', 'ptb_treenumbers', 'talk_day', 'length', 'topic_description', 'prompt', 'from_caller', 'from_caller_sex', 'from_caller_education', 'from_caller_birth_year', 'from_caller_dialect_area', 'to_caller', 'to_caller_sex', 'to_caller_education', 'to_caller_birth_year', 'to_caller_dialect_area'])\n",
    "swda = swda.rename_column(\"damsl_act_tag\", \"label\")\n",
    "swda\n"
   ],
   "metadata": {
    "execution": {
     "iopub.status.busy": "2023-03-17T11:09:40.028672Z",
     "iopub.execute_input": "2023-03-17T11:09:40.030042Z",
     "iopub.status.idle": "2023-03-17T11:11:09.027173Z",
     "shell.execute_reply.started": "2023-03-17T11:09:40.029991Z",
     "shell.execute_reply": "2023-03-17T11:11:09.026254Z"
    },
    "trusted": true
   },
   "execution_count": 3,
   "outputs": [
    {
     "output_type": "display_data",
     "data": {
      "text/plain": "Downloading builder script:   0%|          | 0.00/7.11k [00:00<?, ?B/s]",
      "application/vnd.jupyter.widget-view+json": {
       "version_major": 2,
       "version_minor": 0,
       "model_id": "a2b2f6c8c585471ea3970726e8e1176b"
      }
     },
     "metadata": {}
    },
    {
     "output_type": "display_data",
     "data": {
      "text/plain": "Downloading metadata:   0%|          | 0.00/2.54k [00:00<?, ?B/s]",
      "application/vnd.jupyter.widget-view+json": {
       "version_major": 2,
       "version_minor": 0,
       "model_id": "9a82ae9b511b4bdf8c03bf1d2d9bffed"
      }
     },
     "metadata": {}
    },
    {
     "name": "stdout",
     "text": "Downloading and preparing dataset swda/default (download: 13.79 MiB, generated: 158.13 MiB, post-processed: Unknown size, total: 171.91 MiB) to /root/.cache/huggingface/datasets/swda/default/0.0.0/b53d17ec4c6e31d0921591dd2d8e86d15850822209a980fcddb2983fc948e499...\n",
     "output_type": "stream"
    },
    {
     "output_type": "display_data",
     "data": {
      "text/plain": "Downloading data:   0%|          | 0.00/14.4M [00:00<?, ?B/s]",
      "application/vnd.jupyter.widget-view+json": {
       "version_major": 2,
       "version_minor": 0,
       "model_id": "035487736d9540b681c699e6cab1b1b7"
      }
     },
     "metadata": {}
    },
    {
     "output_type": "display_data",
     "data": {
      "text/plain": "Downloading data files:   0%|          | 0/3 [00:00<?, ?it/s]",
      "application/vnd.jupyter.widget-view+json": {
       "version_major": 2,
       "version_minor": 0,
       "model_id": "341d93dcdd764776b63b937b1fa68573"
      }
     },
     "metadata": {}
    },
    {
     "output_type": "display_data",
     "data": {
      "text/plain": "Downloading data:   0%|          | 0.00/2.24k [00:00<?, ?B/s]",
      "application/vnd.jupyter.widget-view+json": {
       "version_major": 2,
       "version_minor": 0,
       "model_id": "fb1985dd2a464ec2a4ce8855958e6c97"
      }
     },
     "metadata": {}
    },
    {
     "output_type": "display_data",
     "data": {
      "text/plain": "Downloading data:   0%|          | 0.00/579 [00:00<?, ?B/s]",
      "application/vnd.jupyter.widget-view+json": {
       "version_major": 2,
       "version_minor": 0,
       "model_id": "999021e9d72343219226bed9dde1f9af"
      }
     },
     "metadata": {}
    },
    {
     "output_type": "display_data",
     "data": {
      "text/plain": "Downloading data:   0%|          | 0.00/75.0 [00:00<?, ?B/s]",
      "application/vnd.jupyter.widget-view+json": {
       "version_major": 2,
       "version_minor": 0,
       "model_id": "8e47fbb2e24549b2b5e6ac6395cd3c66"
      }
     },
     "metadata": {}
    },
    {
     "output_type": "display_data",
     "data": {
      "text/plain": "Extracting data files:   0%|          | 0/3 [00:00<?, ?it/s]",
      "application/vnd.jupyter.widget-view+json": {
       "version_major": 2,
       "version_minor": 0,
       "model_id": "c8f336941a284588b9088c195c2101b9"
      }
     },
     "metadata": {}
    },
    {
     "output_type": "display_data",
     "data": {
      "text/plain": "Generating train split:   0%|          | 0/213543 [00:00<?, ? examples/s]",
      "application/vnd.jupyter.widget-view+json": {
       "version_major": 2,
       "version_minor": 0,
       "model_id": ""
      }
     },
     "metadata": {}
    },
    {
     "output_type": "display_data",
     "data": {
      "text/plain": "Generating validation split:   0%|          | 0/56729 [00:00<?, ? examples/s]",
      "application/vnd.jupyter.widget-view+json": {
       "version_major": 2,
       "version_minor": 0,
       "model_id": ""
      }
     },
     "metadata": {}
    },
    {
     "output_type": "display_data",
     "data": {
      "text/plain": "Generating test split:   0%|          | 0/4514 [00:00<?, ? examples/s]",
      "application/vnd.jupyter.widget-view+json": {
       "version_major": 2,
       "version_minor": 0,
       "model_id": ""
      }
     },
     "metadata": {}
    },
    {
     "name": "stdout",
     "text": "Dataset swda downloaded and prepared to /root/.cache/huggingface/datasets/swda/default/0.0.0/b53d17ec4c6e31d0921591dd2d8e86d15850822209a980fcddb2983fc948e499. Subsequent calls will reuse this data.\n",
     "output_type": "stream"
    },
    {
     "output_type": "display_data",
     "data": {
      "text/plain": "  0%|          | 0/3 [00:00<?, ?it/s]",
      "application/vnd.jupyter.widget-view+json": {
       "version_major": 2,
       "version_minor": 0,
       "model_id": "e48c43ffe08d4a3a895e5e10ea9c725a"
      }
     },
     "metadata": {}
    },
    {
     "execution_count": 3,
     "output_type": "execute_result",
     "data": {
      "text/plain": "DatasetDict({\n    train: Dataset({\n        features: ['conversation_no', 'label', 'text'],\n        num_rows: 213543\n    })\n    validation: Dataset({\n        features: ['conversation_no', 'label', 'text'],\n        num_rows: 56729\n    })\n    test: Dataset({\n        features: ['conversation_no', 'label', 'text'],\n        num_rows: 4514\n    })\n})"
     },
     "metadata": {}
    }
   ]
  },
  {
   "cell_type": "code",
   "source": [
    "import re \n",
    "\n",
    "def clean_swda_utterance(text):\n",
    "    text = re.sub(r'\\[.*?\\]', '', text)\n",
    "    text = text.strip()\n",
    "    text = re.sub(r'\\(.*?\\)', '', text)\n",
    "    text = re.sub(r'[^a-zA-Z0-9\\s]', '', text)\n",
    "    text = text.lower()\n",
    "    text = ' '.join(text.split())\n",
    "    return {\"text\": text}"
   ],
   "metadata": {
    "execution": {
     "iopub.status.busy": "2023-03-17T11:11:09.032605Z",
     "iopub.execute_input": "2023-03-17T11:11:09.034820Z",
     "iopub.status.idle": "2023-03-17T11:11:09.047730Z",
     "shell.execute_reply.started": "2023-03-17T11:11:09.034770Z",
     "shell.execute_reply": "2023-03-17T11:11:09.042856Z"
    },
    "trusted": true
   },
   "execution_count": 4,
   "outputs": []
  },
  {
   "cell_type": "code",
   "source": [
    "swda = swda.map(lambda x : clean_swda_utterance(x['text']))"
   ],
   "metadata": {
    "execution": {
     "iopub.status.busy": "2023-03-17T11:11:09.049274Z",
     "iopub.execute_input": "2023-03-17T11:11:09.049918Z",
     "iopub.status.idle": "2023-03-17T11:11:33.199535Z",
     "shell.execute_reply.started": "2023-03-17T11:11:09.049883Z",
     "shell.execute_reply": "2023-03-17T11:11:33.198478Z"
    },
    "trusted": true
   },
   "execution_count": 5,
   "outputs": [
    {
     "output_type": "display_data",
     "data": {
      "text/plain": "  0%|          | 0/213543 [00:00<?, ?ex/s]",
      "application/vnd.jupyter.widget-view+json": {
       "version_major": 2,
       "version_minor": 0,
       "model_id": "6071d14efcff4447b1686b682a3a7539"
      }
     },
     "metadata": {}
    },
    {
     "output_type": "display_data",
     "data": {
      "text/plain": "  0%|          | 0/56729 [00:00<?, ?ex/s]",
      "application/vnd.jupyter.widget-view+json": {
       "version_major": 2,
       "version_minor": 0,
       "model_id": "7d2117f9b1c44a7dbaa358edfa811308"
      }
     },
     "metadata": {}
    },
    {
     "output_type": "display_data",
     "data": {
      "text/plain": "  0%|          | 0/4514 [00:00<?, ?ex/s]",
      "application/vnd.jupyter.widget-view+json": {
       "version_major": 2,
       "version_minor": 0,
       "model_id": "795230636b8549179d0b6bfe6fd7f96e"
      }
     },
     "metadata": {}
    }
   ]
  },
  {
   "cell_type": "code",
   "source": [
    "# Tokenize the input and context\n",
    "tokenizer = BertTokenizer.from_pretrained('bert-base-uncased')\n",
    "swda = swda.map(lambda x: tokenizer(x['text'], padding='max_length', truncation=True), batched=True)"
   ],
   "metadata": {
    "execution": {
     "iopub.status.busy": "2023-03-17T11:11:33.201212Z",
     "iopub.execute_input": "2023-03-17T11:11:33.201976Z",
     "iopub.status.idle": "2023-03-17T11:13:39.696263Z",
     "shell.execute_reply.started": "2023-03-17T11:11:33.201935Z",
     "shell.execute_reply": "2023-03-17T11:13:39.695071Z"
    },
    "trusted": true
   },
   "execution_count": 6,
   "outputs": [
    {
     "output_type": "display_data",
     "data": {
      "text/plain": "Downloading (…)solve/main/vocab.txt:   0%|          | 0.00/232k [00:00<?, ?B/s]",
      "application/vnd.jupyter.widget-view+json": {
       "version_major": 2,
       "version_minor": 0,
       "model_id": "be89c091399a477d952c4ec741cc24bb"
      }
     },
     "metadata": {}
    },
    {
     "output_type": "display_data",
     "data": {
      "text/plain": "Downloading (…)okenizer_config.json:   0%|          | 0.00/28.0 [00:00<?, ?B/s]",
      "application/vnd.jupyter.widget-view+json": {
       "version_major": 2,
       "version_minor": 0,
       "model_id": "b5cfa6bdadbb413da18b339fb4e1e1aa"
      }
     },
     "metadata": {}
    },
    {
     "output_type": "display_data",
     "data": {
      "text/plain": "Downloading (…)lve/main/config.json:   0%|          | 0.00/570 [00:00<?, ?B/s]",
      "application/vnd.jupyter.widget-view+json": {
       "version_major": 2,
       "version_minor": 0,
       "model_id": "b6ea1dc8911d4cf68e5d98af0ffba209"
      }
     },
     "metadata": {}
    },
    {
     "output_type": "display_data",
     "data": {
      "text/plain": "  0%|          | 0/214 [00:00<?, ?ba/s]",
      "application/vnd.jupyter.widget-view+json": {
       "version_major": 2,
       "version_minor": 0,
       "model_id": "689512da9fdc4968ae40b453952f29e0"
      }
     },
     "metadata": {}
    },
    {
     "output_type": "display_data",
     "data": {
      "text/plain": "  0%|          | 0/57 [00:00<?, ?ba/s]",
      "application/vnd.jupyter.widget-view+json": {
       "version_major": 2,
       "version_minor": 0,
       "model_id": "564386eda95841a7b58850943e4baa69"
      }
     },
     "metadata": {}
    },
    {
     "output_type": "display_data",
     "data": {
      "text/plain": "  0%|          | 0/5 [00:00<?, ?ba/s]",
      "application/vnd.jupyter.widget-view+json": {
       "version_major": 2,
       "version_minor": 0,
       "model_id": "f9cfe04c3d024fc5b8ec8c53f557fc5b"
      }
     },
     "metadata": {}
    }
   ]
  },
  {
   "cell_type": "code",
   "source": [
    "import torch\n",
    "from torch.utils.data import DataLoader, Dataset\n",
    "\n",
    "\n",
    "class SWDADataset(Dataset):\n",
    "    def __init__(self, swda, tokenizer, max_seq_length):\n",
    "        self.swda = swda\n",
    "        self.tokenizer = tokenizer\n",
    "        self.max_seq_length = max_seq_length\n",
    "\n",
    "    def __len__(self):\n",
    "        return len(self.swda)\n",
    "\n",
    "    def __getitem__(self, index):\n",
    "        # Get input text\n",
    "        input_text = self.tokenizer.encode_plus(\n",
    "            self.swda[index]['text'],\n",
    "            add_special_tokens=True,\n",
    "            max_length=self.max_seq_length,\n",
    "            padding='max_length',\n",
    "            truncation=True,\n",
    "            return_tensors='pt'\n",
    "        )\n",
    "\n",
    "        # Get context\n",
    "        # Get context n-1\n",
    "        if index > 0 and self.swda[index]['conversation_no'] == self.swda[index-1]['conversation_no']:\n",
    "            context = self.swda[index-1]\n",
    "        else:\n",
    "            context = self.swda[index]\n",
    "        context = self.tokenizer.encode_plus(\n",
    "            context['text'],\n",
    "            add_special_tokens=True,\n",
    "            max_length=self.max_seq_length,\n",
    "            padding='max_length',\n",
    "            truncation=True,\n",
    "            return_tensors='pt'\n",
    "        )\n",
    "\n",
    "        # Get label\n",
    "        label = self.swda[index]['label']\n",
    "        \n",
    "        return input_text, context, label"
   ],
   "metadata": {
    "execution": {
     "iopub.status.busy": "2023-03-17T11:13:39.698226Z",
     "iopub.execute_input": "2023-03-17T11:13:39.698691Z",
     "iopub.status.idle": "2023-03-17T11:13:39.710908Z",
     "shell.execute_reply.started": "2023-03-17T11:13:39.698652Z",
     "shell.execute_reply": "2023-03-17T11:13:39.707714Z"
    },
    "trusted": true
   },
   "execution_count": 7,
   "outputs": []
  },
  {
   "cell_type": "code",
   "source": [
    "# Create the train loader\n",
    "train_dataset = SWDADataset(swda['train'], tokenizer, max_seq_length=128)\n",
    "val_dataset = SWDADataset(swda['validation'], tokenizer, max_seq_length=128)\n",
    "test_dataset = SWDADataset(swda['test'], tokenizer, max_seq_length=128)\n",
    "\n",
    "train_loader = DataLoader(train_dataset, batch_size=128, shuffle=True)\n",
    "val_loader = DataLoader(train_dataset, batch_size=64, shuffle=True)\n",
    "test_loader = DataLoader(test_dataset, batch_size=64, shuffle=True)"
   ],
   "metadata": {
    "execution": {
     "iopub.status.busy": "2023-03-17T11:13:39.712657Z",
     "iopub.execute_input": "2023-03-17T11:13:39.713079Z",
     "iopub.status.idle": "2023-03-17T11:13:40.406412Z",
     "shell.execute_reply.started": "2023-03-17T11:13:39.713035Z",
     "shell.execute_reply": "2023-03-17T11:13:40.405330Z"
    },
    "trusted": true
   },
   "execution_count": 8,
   "outputs": []
  },
  {
   "cell_type": "code",
   "source": [
    "device = torch.device(\"cuda\" if torch.cuda.is_available() else \"cpu\")"
   ],
   "metadata": {
    "execution": {
     "iopub.status.busy": "2023-03-17T11:13:40.408397Z",
     "iopub.execute_input": "2023-03-17T11:13:40.408825Z",
     "iopub.status.idle": "2023-03-17T11:13:40.470823Z",
     "shell.execute_reply.started": "2023-03-17T11:13:40.408769Z",
     "shell.execute_reply": "2023-03-17T11:13:40.469731Z"
    },
    "trusted": true
   },
   "execution_count": 9,
   "outputs": []
  },
  {
   "cell_type": "code",
   "source": [
    "# Define the model architecture\n",
    "# Define model architecture\n",
    "class RNN(nn.Module):\n",
    "    def __init__(self, hidden_size, num_classes):\n",
    "        super(RNN, self).__init__()\n",
    "        self.bert = BertModel.from_pretrained('bert-base-uncased')\n",
    "        for param in self.bert.parameters():\n",
    "            param.requires_grad = False\n",
    "        self.rnn = nn.GRU(input_size=768, hidden_size=hidden_size, batch_first=True)\n",
    "        self.fc1 = nn.Linear(hidden_size, hidden_size)\n",
    "        self.fc2 = nn.Linear(hidden_size * 2, num_classes)\n",
    "\n",
    "    def forward(self, input_text, context):\n",
    "        input_ids = input_text['input_ids'].to(device)\n",
    "        attention_mask = input_text['attention_mask'].to(device)\n",
    "        context_ids = context['input_ids'].to(device)\n",
    "        context_mask = context['attention_mask'].to(device)\n",
    "        \n",
    "        outputs = self.bert(input_ids=input_ids, attention_mask=attention_mask, return_dict=True)\n",
    "        pooled_output = outputs.pooler_output\n",
    "\n",
    "        context_outputs = self.bert(input_ids=context_ids, attention_mask=context_mask, return_dict=True)\n",
    "        pooled_context_output = context_outputs.pooler_output\n",
    "        \n",
    "        \n",
    "        output, _ = self.rnn(pooled_output.unsqueeze(1))\n",
    "        context_output, _ = self.rnn(pooled_context_output.unsqueeze(1))\n",
    "        output = self.fc1(output)\n",
    "        output = torch.cat((output.squeeze(1), context_output.squeeze(1)), dim=1)\n",
    "        output = self.fc2(output)\n",
    "        return output\n",
    "\n",
    "# Instantiate the model\n",
    "# Instantiate model and move it to device\n",
    "model = RNN(hidden_size=256, num_classes=43)\n",
    "model = model.to(device)"
   ],
   "metadata": {
    "execution": {
     "iopub.status.busy": "2023-03-17T11:13:40.473150Z",
     "iopub.execute_input": "2023-03-17T11:13:40.473613Z",
     "iopub.status.idle": "2023-03-17T11:13:51.593935Z",
     "shell.execute_reply.started": "2023-03-17T11:13:40.473570Z",
     "shell.execute_reply": "2023-03-17T11:13:51.592863Z"
    },
    "trusted": true
   },
   "execution_count": 10,
   "outputs": [
    {
     "output_type": "display_data",
     "data": {
      "text/plain": "Downloading (…)\"pytorch_model.bin\";:   0%|          | 0.00/440M [00:00<?, ?B/s]",
      "application/vnd.jupyter.widget-view+json": {
       "version_major": 2,
       "version_minor": 0,
       "model_id": "844e3e55e0294a43a11505b917d052ef"
      }
     },
     "metadata": {}
    },
    {
     "name": "stderr",
     "text": "Some weights of the model checkpoint at bert-base-uncased were not used when initializing BertModel: ['cls.predictions.bias', 'cls.seq_relationship.bias', 'cls.predictions.transform.LayerNorm.bias', 'cls.predictions.transform.dense.weight', 'cls.predictions.decoder.weight', 'cls.predictions.transform.dense.bias', 'cls.seq_relationship.weight', 'cls.predictions.transform.LayerNorm.weight']\n- This IS expected if you are initializing BertModel from the checkpoint of a model trained on another task or with another architecture (e.g. initializing a BertForSequenceClassification model from a BertForPreTraining model).\n- This IS NOT expected if you are initializing BertModel from the checkpoint of a model that you expect to be exactly identical (initializing a BertForSequenceClassification model from a BertForSequenceClassification model).\n",
     "output_type": "stream"
    }
   ]
  },
  {
   "cell_type": "code",
   "source": [
    "# Define loss function and optimizer\n",
    "criterion = nn.CrossEntropyLoss()\n",
    "optimizer = torch.optim.Adam(model.parameters(), lr=1e-3)"
   ],
   "metadata": {
    "execution": {
     "iopub.status.busy": "2023-03-17T11:13:51.601246Z",
     "iopub.execute_input": "2023-03-17T11:13:51.604117Z",
     "iopub.status.idle": "2023-03-17T11:13:51.613896Z",
     "shell.execute_reply.started": "2023-03-17T11:13:51.604073Z",
     "shell.execute_reply": "2023-03-17T11:13:51.612757Z"
    },
    "trusted": true
   },
   "execution_count": 11,
   "outputs": []
  },
  {
   "cell_type": "code",
   "source": [
    "train_losses = []\n",
    "val_losses = []\n",
    "\n",
    "\n",
    "train_accuracies = [] \n",
    "val_accuracies = []\n",
    "\n",
    "num_epochs = 5\n",
    "\n",
    "best_val_loss = float('inf')\n",
    "for epoch in range(num_epochs):\n",
    "    epoch_loss = 0\n",
    "    epoch_acc = 0\n",
    "\n",
    "    model.train()\n",
    "\n",
    "    for i, (input_text, context, labels) in enumerate(train_loader):\n",
    "        optimizer.zero_grad()\n",
    "\n",
    "        input_text = {\n",
    "            'input_ids': input_text['input_ids'].squeeze(1),\n",
    "            'attention_mask': input_text['attention_mask'].squeeze(1),\n",
    "            'token_type_ids': input_text['token_type_ids'].squeeze(1)\n",
    "        }\n",
    "        context = {\n",
    "            'input_ids': context['input_ids'].squeeze(1),\n",
    "            'attention_mask': context['attention_mask'].squeeze(1),\n",
    "            'token_type_ids': context['token_type_ids'].squeeze(1)\n",
    "        }\n",
    "        labels = labels.to(device)\n",
    "        output = model(input_text, context)\n",
    "        loss = criterion(output, labels)\n",
    "\n",
    "        loss.backward()\n",
    "        optimizer.step()\n",
    "\n",
    "        epoch_loss += loss.item() * input_text[\"input_ids\"].size(0)\n",
    "\n",
    "        # Compute accuracy for this batch\n",
    "        predicted_labels = output.argmax(dim=1)\n",
    "        num_correct = (predicted_labels == labels).sum().item()\n",
    "        acc = num_correct / len(labels)\n",
    "        epoch_acc += acc\n",
    "        \n",
    "        if (i+1) % 100 == 0:\n",
    "            print(f'Epoch [{epoch+1}/{num_epochs}], Step [{i+1}/{len(train_loader)}], Train Loss: {loss.item():.4f}')\n",
    "\n",
    "    # Compute average loss and accuracy for epoch\n",
    "    epoch_loss /= len(train_loader)\n",
    "    epoch_acc /= len(train_loader)\n",
    "    train_losses.append(epoch_loss)\n",
    "    train_accuracies.append(epoch_acc)\n",
    "    \n",
    "    print(f'Epoch {epoch+1}/{num_epochs}, Loss: {epoch_loss:.4f}, Accuracy: {epoch_acc:.4f}')\n",
    "    \n",
    "    # Validation loop\n",
    "    model.eval()\n",
    "    val_loss = 0\n",
    "    val_acc = 0\n",
    "    with torch.no_grad():\n",
    "        for input_text, context, labels in val_loader:\n",
    "            input_text = {\n",
    "                'input_ids': input_text['input_ids'].squeeze(1),\n",
    "                'attention_mask': input_text['attention_mask'].squeeze(1),\n",
    "                'token_type_ids': input_text['token_type_ids'].squeeze(1)\n",
    "            }\n",
    "            context = {\n",
    "                'input_ids': context['input_ids'].squeeze(1),\n",
    "                'attention_mask': context['attention_mask'].squeeze(1),\n",
    "                'token_type_ids': context['token_type_ids'].squeeze(1)\n",
    "            }\n",
    "            labels = labels.to(device)\n",
    "            output = model(input_text, context)\n",
    "            loss = criterion(output, labels)\n",
    "\n",
    "            val_loss += loss.item() * input_text[\"input_ids\"].size(0)\n",
    "\n",
    "            # Compute accuracy for this batch\n",
    "            predicted_labels = output.argmax(dim=1)\n",
    "            num_correct = (predicted_labels == labels).sum().item()\n",
    "            acc = num_correct / len(labels)\n",
    "            val_acc += acc\n",
    "            \n",
    "    # Compute average validation loss and accuracy\n",
    "    val_loss /= len(val_loader)\n",
    "    val_losses.append(val_loss)\n",
    "    val_acc /= len(val_loader)\n",
    "    val_accuracies.append(val_acc)\n",
    "    \n",
    "    print(f'Epoch {epoch+1}/{num_epochs}, Val Loss: {val_loss:.4f}, Val Accuracy: {val_acc:.4f}')\n",
    "\n",
    "    # Save best model\n",
    "    if val_loss < best_val_loss:\n",
    "        best_val_loss = val_loss\n",
    "        torch.save(model.state_dict(), 'best_model.pt')\n"
   ],
   "metadata": {
    "execution": {
     "iopub.status.busy": "2023-03-17T11:13:51.752227Z",
     "iopub.execute_input": "2023-03-17T11:13:51.754045Z",
     "iopub.status.idle": "2023-03-17T17:38:38.237793Z",
     "shell.execute_reply.started": "2023-03-17T11:13:51.754005Z",
     "shell.execute_reply": "2023-03-17T17:38:38.236654Z"
    },
    "trusted": true
   },
   "execution_count": 13,
   "outputs": [
    {
     "name": "stdout",
     "text": "Epoch [1/5], Step [100/1669], Train Loss: 1.7519\nEpoch [1/5], Step [200/1669], Train Loss: 1.4382\nEpoch [1/5], Step [300/1669], Train Loss: 1.4524\nEpoch [1/5], Step [400/1669], Train Loss: 1.5077\nEpoch [1/5], Step [500/1669], Train Loss: 1.4591\nEpoch [1/5], Step [600/1669], Train Loss: 1.2450\nEpoch [1/5], Step [700/1669], Train Loss: 1.2766\nEpoch [1/5], Step [800/1669], Train Loss: 1.4281\nEpoch [1/5], Step [900/1669], Train Loss: 1.2698\nEpoch [1/5], Step [1000/1669], Train Loss: 1.3243\nEpoch [1/5], Step [1100/1669], Train Loss: 1.0697\nEpoch [1/5], Step [1200/1669], Train Loss: 1.2856\nEpoch [1/5], Step [1300/1669], Train Loss: 1.1153\nEpoch [1/5], Step [1400/1669], Train Loss: 1.3020\nEpoch [1/5], Step [1500/1669], Train Loss: 1.2059\nEpoch [1/5], Step [1600/1669], Train Loss: 1.4192\nEpoch 1/5, Loss: 182.3750, Accuracy: 0.5686\nEpoch 1/5, Val Loss: 78.0496, Val Accuracy: 0.6138\nEpoch [2/5], Step [100/1669], Train Loss: 1.3419\nEpoch [2/5], Step [200/1669], Train Loss: 1.3455\nEpoch [2/5], Step [300/1669], Train Loss: 1.3336\nEpoch [2/5], Step [400/1669], Train Loss: 1.3357\nEpoch [2/5], Step [500/1669], Train Loss: 1.2759\nEpoch [2/5], Step [600/1669], Train Loss: 1.2825\nEpoch [2/5], Step [700/1669], Train Loss: 1.3466\nEpoch [2/5], Step [800/1669], Train Loss: 1.3205\nEpoch [2/5], Step [900/1669], Train Loss: 1.2463\nEpoch [2/5], Step [1000/1669], Train Loss: 1.2158\nEpoch [2/5], Step [1100/1669], Train Loss: 1.1997\nEpoch [2/5], Step [1200/1669], Train Loss: 1.1598\nEpoch [2/5], Step [1300/1669], Train Loss: 1.1741\nEpoch [2/5], Step [1400/1669], Train Loss: 1.0982\nEpoch [2/5], Step [1500/1669], Train Loss: 1.4568\nEpoch [2/5], Step [1600/1669], Train Loss: 1.2619\nEpoch 2/5, Loss: 159.1524, Accuracy: 0.6114\nEpoch 2/5, Val Loss: 74.7310, Val Accuracy: 0.6263\nEpoch [3/5], Step [100/1669], Train Loss: 1.0269\nEpoch [3/5], Step [200/1669], Train Loss: 1.4431\nEpoch [3/5], Step [300/1669], Train Loss: 0.9736\nEpoch [3/5], Step [400/1669], Train Loss: 1.3077\nEpoch [3/5], Step [500/1669], Train Loss: 1.2061\nEpoch [3/5], Step [600/1669], Train Loss: 1.4434\nEpoch [3/5], Step [700/1669], Train Loss: 1.1518\nEpoch [3/5], Step [800/1669], Train Loss: 1.1239\nEpoch [3/5], Step [900/1669], Train Loss: 1.0216\nEpoch [3/5], Step [1000/1669], Train Loss: 1.2340\nEpoch [3/5], Step [1100/1669], Train Loss: 1.1981\nEpoch [3/5], Step [1200/1669], Train Loss: 1.2337\nEpoch [3/5], Step [1300/1669], Train Loss: 1.1751\nEpoch [3/5], Step [1400/1669], Train Loss: 1.1921\nEpoch [3/5], Step [1500/1669], Train Loss: 1.3790\nEpoch [3/5], Step [1600/1669], Train Loss: 1.3490\nEpoch 3/5, Loss: 153.7248, Accuracy: 0.6245\nEpoch 3/5, Val Loss: 69.7762, Val Accuracy: 0.6592\nEpoch [4/5], Step [100/1669], Train Loss: 1.2535\nEpoch [4/5], Step [200/1669], Train Loss: 1.2875\nEpoch [4/5], Step [300/1669], Train Loss: 1.0552\nEpoch [4/5], Step [400/1669], Train Loss: 1.2725\nEpoch [4/5], Step [500/1669], Train Loss: 1.2214\nEpoch [4/5], Step [600/1669], Train Loss: 0.9287\nEpoch [4/5], Step [700/1669], Train Loss: 1.2332\nEpoch [4/5], Step [800/1669], Train Loss: 1.1197\nEpoch [4/5], Step [900/1669], Train Loss: 0.9490\nEpoch [4/5], Step [1000/1669], Train Loss: 1.1604\nEpoch [4/5], Step [1100/1669], Train Loss: 1.2026\nEpoch [4/5], Step [1200/1669], Train Loss: 1.0883\nEpoch [4/5], Step [1300/1669], Train Loss: 1.3599\nEpoch [4/5], Step [1400/1669], Train Loss: 0.9041\nEpoch [4/5], Step [1500/1669], Train Loss: 1.1930\nEpoch [4/5], Step [1600/1669], Train Loss: 1.0963\nEpoch 4/5, Loss: 150.7957, Accuracy: 0.6315\nEpoch 4/5, Val Loss: 70.2656, Val Accuracy: 0.6510\nEpoch [5/5], Step [100/1669], Train Loss: 1.2064\nEpoch [5/5], Step [200/1669], Train Loss: 1.0820\nEpoch [5/5], Step [300/1669], Train Loss: 1.0897\nEpoch [5/5], Step [400/1669], Train Loss: 1.2229\nEpoch [5/5], Step [500/1669], Train Loss: 1.2327\nEpoch [5/5], Step [600/1669], Train Loss: 1.0483\nEpoch [5/5], Step [700/1669], Train Loss: 1.1413\nEpoch [5/5], Step [800/1669], Train Loss: 1.2574\nEpoch [5/5], Step [900/1669], Train Loss: 1.1519\nEpoch [5/5], Step [1000/1669], Train Loss: 1.1915\nEpoch [5/5], Step [1100/1669], Train Loss: 1.1069\nEpoch [5/5], Step [1200/1669], Train Loss: 1.1149\nEpoch [5/5], Step [1300/1669], Train Loss: 0.9642\nEpoch [5/5], Step [1400/1669], Train Loss: 0.8262\nEpoch [5/5], Step [1500/1669], Train Loss: 1.1397\nEpoch [5/5], Step [1600/1669], Train Loss: 1.2969\nEpoch 5/5, Loss: 148.2503, Accuracy: 0.6360\nEpoch 5/5, Val Loss: 70.7315, Val Accuracy: 0.6528\n",
     "output_type": "stream"
    }
   ]
  },
  {
   "cell_type": "code",
   "source": [
    "import matplotlib.pyplot as plt\n",
    "\n",
    "\n",
    "# Plot training and validation loss\n",
    "plt.figure()\n",
    "plt.plot(train_losses, label='Training loss')\n",
    "plt.plot(val_losses, label='Validation loss')\n",
    "plt.xlabel('Epoch')\n",
    "plt.ylabel('Loss')\n",
    "plt.legend()\n",
    "plt.show()"
   ],
   "metadata": {
    "execution": {
     "iopub.status.busy": "2023-03-17T17:38:38.239378Z",
     "iopub.execute_input": "2023-03-17T17:38:38.239729Z",
     "iopub.status.idle": "2023-03-17T17:38:38.475315Z",
     "shell.execute_reply.started": "2023-03-17T17:38:38.239691Z",
     "shell.execute_reply": "2023-03-17T17:38:38.474363Z"
    },
    "trusted": true
   },
   "execution_count": 14,
   "outputs": [
    {
     "output_type": "display_data",
     "data": {
      "text/plain": "<Figure size 640x480 with 1 Axes>",
      "image/png": "[encoded data removed]"
     },
     "metadata": {}
    }
   ]
  },
  {
   "cell_type": "code",
   "source": [
    "# Plot training and validation accuracy\n",
    "plt.figure()\n",
    "plt.plot(train_accuracies, label='Training accuracy')\n",
    "plt.plot(val_accuracies, label='Validation accuracy')\n",
    "plt.xlabel('Epoch')\n",
    "plt.ylabel('Accuracy')\n",
    "plt.legend()\n",
    "plt.show()"
   ],
   "metadata": {
    "execution": {
     "iopub.status.busy": "2023-03-17T17:55:01.220980Z",
     "iopub.execute_input": "2023-03-17T17:55:01.221592Z",
     "iopub.status.idle": "2023-03-17T17:55:01.437825Z",
     "shell.execute_reply.started": "2023-03-17T17:55:01.221554Z",
     "shell.execute_reply": "2023-03-17T17:55:01.436737Z"
    },
    "trusted": true
   },
   "execution_count": 19,
   "outputs": [
    {
     "output_type": "display_data",
     "data": {
      "text/plain": "<Figure size 640x480 with 1 Axes>",
      "image/png": "[encoded data removed]"
     },
     "metadata": {}
    }
   ]
  },
  {
   "cell_type": "code",
   "source": [
    "model_state_dict = torch.load(\"bert_gru_context.pt\", map_location=torch.device('cpu'))\n",
    "model.load_state_dict(model_state_dict)"
   ],
   "metadata": {
    "execution": {
     "iopub.status.busy": "2023-03-17T17:38:38.892011Z",
     "iopub.status.idle": "2023-03-17T17:38:38.893097Z",
     "shell.execute_reply.started": "2023-03-17T17:38:38.892821Z",
     "shell.execute_reply": "2023-03-17T17:38:38.892851Z"
    },
    "trusted": true
   },
   "execution_count": null,
   "outputs": []
  },
  {
   "cell_type": "code",
   "source": [
    "import pandas as pd\n",
    "from sklearn.metrics import precision_recall_fscore_support\n",
    "\n",
    "model.eval()\n",
    "all_true_labels = []\n",
    "all_predicted_labels = []\n",
    "with torch.no_grad():\n",
    "    for input_text, context, labels in test_loader:\n",
    "        input_text = {\n",
    "            'input_ids': input_text['input_ids'].squeeze(1),\n",
    "            'attention_mask': input_text['attention_mask'].squeeze(1),\n",
    "            'token_type_ids': input_text['token_type_ids'].squeeze(1)\n",
    "        }\n",
    "        context = {\n",
    "            'input_ids': context['input_ids'].squeeze(1),\n",
    "            'attention_mask': context['attention_mask'].squeeze(1),\n",
    "            'token_type_ids': context['token_type_ids'].squeeze(1)\n",
    "        }\n",
    "        labels = labels.to(device)\n",
    "        output = model(input_text, context)\n",
    "\n",
    "        # Store true and predicted labels for this batch\n",
    "        predicted_labels = output.argmax(dim=1)\n",
    "        all_true_labels.extend(labels.cpu().numpy())\n",
    "        all_predicted_labels.extend(predicted_labels.cpu().numpy())\n",
    "\n",
    "# Calculate precision, recall, F1-score, and support\n",
    "precision, recall, f1_score, support = precision_recall_fscore_support(all_true_labels, all_predicted_labels, average='weighted', zero_division=0)\n",
    "\n",
    "# Create a DataFrame with the metrics\n",
    "metrics_data = {\n",
    "    'Weighted Avg Precision': [precision],\n",
    "    'Weighted Avg Recall': [recall],\n",
    "    'Weighted Avg F1-score': [f1_score],\n",
    "}\n",
    "\n",
    "\n",
    "metrics_df = pd.DataFrame(metrics_data)\n",
    "\n",
    "# Display the metrics DataFrame\n",
    "print(metrics_df)\n"
   ],
   "metadata": {
    "execution": {
     "iopub.status.busy": "2023-03-17T17:40:26.269410Z",
     "iopub.execute_input": "2023-03-17T17:40:26.269822Z",
     "iopub.status.idle": "2023-03-17T17:41:15.760121Z",
     "shell.execute_reply.started": "2023-03-17T17:40:26.269773Z",
     "shell.execute_reply": "2023-03-17T17:41:15.759038Z"
    },
    "trusted": true
   },
   "execution_count": 16,
   "outputs": [
    {
     "name": "stdout",
     "text": "   Weighted Avg Precision  Weighted Avg Recall  Weighted Avg F1-score\n0                0.631686             0.630483               0.593067\n",
     "output_type": "stream"
    }
   ]
  },
  {
   "cell_type": "code",
   "source": [
    "model.eval()\n",
    "test_loss = 0\n",
    "test_acc = 0\n",
    "with torch.no_grad():\n",
    "    for input_text, context, labels in test_loader:\n",
    "        input_text = {\n",
    "            'input_ids': input_text['input_ids'].squeeze(1),\n",
    "            'attention_mask': input_text['attention_mask'].squeeze(1),\n",
    "            'token_type_ids': input_text['token_type_ids'].squeeze(1)\n",
    "        }\n",
    "        context = {\n",
    "            'input_ids': context['input_ids'].squeeze(1),\n",
    "            'attention_mask': context['attention_mask'].squeeze(1),\n",
    "            'token_type_ids': context['token_type_ids'].squeeze(1)\n",
    "        }\n",
    "        labels = labels.to(device)\n",
    "        output = model(input_text, context)\n",
    "        loss = criterion(output, labels)\n",
    "\n",
    "        test_loss += loss.item() * input_text[\"input_ids\"].size(0)\n",
    "\n",
    "        # Compute accuracy for this batch\n",
    "        predicted_labels = output.argmax(dim=1)\n",
    "        num_correct = (predicted_labels == labels).sum().item()\n",
    "        acc = num_correct / len(labels)\n",
    "        test_acc += acc\n",
    "\n",
    "# Compute average test loss and accuracy\n",
    "test_loss /= len(test_loader)\n",
    "test_acc /= len(test_loader)\n",
    "\n",
    "print(f'Test Loss: {test_loss:.4f}, Test Accuracy: {test_acc:.4f}')\n"
   ],
   "metadata": {
    "execution": {
     "iopub.status.busy": "2023-03-17T17:43:11.531810Z",
     "iopub.execute_input": "2023-03-17T17:43:11.532743Z",
     "iopub.status.idle": "2023-03-17T17:44:00.884965Z",
     "shell.execute_reply.started": "2023-03-17T17:43:11.532705Z",
     "shell.execute_reply": "2023-03-17T17:44:00.883855Z"
    },
    "trusted": true
   },
   "execution_count": 17,
   "outputs": [
    {
     "name": "stdout",
     "text": "Test Loss: 72.5206, Test Accuracy: 0.6302\n",
     "output_type": "stream"
    }
   ]
  }
 ]
}
