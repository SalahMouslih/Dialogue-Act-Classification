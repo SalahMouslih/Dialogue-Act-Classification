{
 "metadata": {
  "kernelspec": {
   "language": "python",
   "display_name": "Python 3",
   "name": "python3"
  },
  "language_info": {
   "name": "python",
   "version": "3.7.12",
   "mimetype": "text/x-python",
   "codemirror_mode": {
    "name": "ipython",
    "version": 3
   },
   "pygments_lexer": "ipython3",
   "nbconvert_exporter": "python",
   "file_extension": ".py"
  }
 },
 "nbformat_minor": 4,
 "nbformat": 4,
 "cells": [
  {
   "cell_type": "code",
   "source": [
    "from transformers import BertTokenizer, BertModel\n",
    "from datasets import load_dataset\n",
    "from torch.utils.data import DataLoader, TensorDataset\n",
    "import pandas as pd\n",
    "import torch"
   ],
   "metadata": {
    "execution": {
     "iopub.status.busy": "2023-03-17T14:49:52.804693Z",
     "iopub.execute_input": "2023-03-17T14:49:52.805054Z",
     "iopub.status.idle": "2023-03-17T14:50:03.084444Z",
     "shell.execute_reply.started": "2023-03-17T14:49:52.805024Z",
     "shell.execute_reply": "2023-03-17T14:50:03.083299Z"
    },
    "trusted": true
   },
   "execution_count": 3,
   "outputs": []
  },
  {
   "cell_type": "markdown",
   "source": [
    "## Data"
   ],
   "metadata": {}
  },
  {
   "cell_type": "markdown",
   "source": [
    "### Data loading"
   ],
   "metadata": {}
  },
  {
   "cell_type": "code",
   "source": [
    "swda = load_dataset(\"swda\")"
   ],
   "metadata": {
    "execution": {
     "iopub.status.busy": "2023-03-17T14:50:03.096908Z",
     "iopub.execute_input": "2023-03-17T14:50:03.097805Z",
     "iopub.status.idle": "2023-03-17T14:51:33.323847Z",
     "shell.execute_reply.started": "2023-03-17T14:50:03.097769Z",
     "shell.execute_reply": "2023-03-17T14:51:33.322760Z"
    },
    "trusted": true
   },
   "execution_count": 5,
   "outputs": [
    {
     "output_type": "display_data",
     "data": {
      "text/plain": "Downloading builder script:   0%|          | 0.00/7.11k [00:00<?, ?B/s]",
      "application/vnd.jupyter.widget-view+json": {
       "version_major": 2,
       "version_minor": 0,
       "model_id": "a8aaf6fb909340f0a16a00dd735cfec3"
      }
     },
     "metadata": {}
    },
    {
     "output_type": "display_data",
     "data": {
      "text/plain": "Downloading metadata:   0%|          | 0.00/2.54k [00:00<?, ?B/s]",
      "application/vnd.jupyter.widget-view+json": {
       "version_major": 2,
       "version_minor": 0,
       "model_id": "ded2d594edec46d79a206fd44c3e35ff"
      }
     },
     "metadata": {}
    },
    {
     "name": "stdout",
     "text": "Downloading and preparing dataset swda/default (download: 13.79 MiB, generated: 158.13 MiB, post-processed: Unknown size, total: 171.91 MiB) to /root/.cache/huggingface/datasets/swda/default/0.0.0/b53d17ec4c6e31d0921591dd2d8e86d15850822209a980fcddb2983fc948e499...\n",
     "output_type": "stream"
    },
    {
     "output_type": "display_data",
     "data": {
      "text/plain": "Downloading data:   0%|          | 0.00/14.4M [00:00<?, ?B/s]",
      "application/vnd.jupyter.widget-view+json": {
       "version_major": 2,
       "version_minor": 0,
       "model_id": "dc1f4631738d4cd6a7922908d4c37613"
      }
     },
     "metadata": {}
    },
    {
     "output_type": "display_data",
     "data": {
      "text/plain": "Downloading data files:   0%|          | 0/3 [00:00<?, ?it/s]",
      "application/vnd.jupyter.widget-view+json": {
       "version_major": 2,
       "version_minor": 0,
       "model_id": "3918383537e844a5ab31384474692222"
      }
     },
     "metadata": {}
    },
    {
     "output_type": "display_data",
     "data": {
      "text/plain": "Downloading data:   0%|          | 0.00/2.24k [00:00<?, ?B/s]",
      "application/vnd.jupyter.widget-view+json": {
       "version_major": 2,
       "version_minor": 0,
       "model_id": "fc559d9f71b2401884057bc5e608dc33"
      }
     },
     "metadata": {}
    },
    {
     "output_type": "display_data",
     "data": {
      "text/plain": "Downloading data:   0%|          | 0.00/579 [00:00<?, ?B/s]",
      "application/vnd.jupyter.widget-view+json": {
       "version_major": 2,
       "version_minor": 0,
       "model_id": "d0fbb819e5c84594bd81eaa72c677069"
      }
     },
     "metadata": {}
    },
    {
     "output_type": "display_data",
     "data": {
      "text/plain": "Downloading data:   0%|          | 0.00/75.0 [00:00<?, ?B/s]",
      "application/vnd.jupyter.widget-view+json": {
       "version_major": 2,
       "version_minor": 0,
       "model_id": "fb6d22f3701d4a08b10ae7d8a6c3cf2a"
      }
     },
     "metadata": {}
    },
    {
     "output_type": "display_data",
     "data": {
      "text/plain": "Extracting data files:   0%|          | 0/3 [00:00<?, ?it/s]",
      "application/vnd.jupyter.widget-view+json": {
       "version_major": 2,
       "version_minor": 0,
       "model_id": "418d23036f0644fc953b1af9c9b276a1"
      }
     },
     "metadata": {}
    },
    {
     "output_type": "display_data",
     "data": {
      "text/plain": "Generating train split:   0%|          | 0/213543 [00:00<?, ? examples/s]",
      "application/vnd.jupyter.widget-view+json": {
       "version_major": 2,
       "version_minor": 0,
       "model_id": ""
      }
     },
     "metadata": {}
    },
    {
     "output_type": "display_data",
     "data": {
      "text/plain": "Generating validation split:   0%|          | 0/56729 [00:00<?, ? examples/s]",
      "application/vnd.jupyter.widget-view+json": {
       "version_major": 2,
       "version_minor": 0,
       "model_id": ""
      }
     },
     "metadata": {}
    },
    {
     "output_type": "display_data",
     "data": {
      "text/plain": "Generating test split:   0%|          | 0/4514 [00:00<?, ? examples/s]",
      "application/vnd.jupyter.widget-view+json": {
       "version_major": 2,
       "version_minor": 0,
       "model_id": ""
      }
     },
     "metadata": {}
    },
    {
     "name": "stdout",
     "text": "Dataset swda downloaded and prepared to /root/.cache/huggingface/datasets/swda/default/0.0.0/b53d17ec4c6e31d0921591dd2d8e86d15850822209a980fcddb2983fc948e499. Subsequent calls will reuse this data.\n",
     "output_type": "stream"
    },
    {
     "output_type": "display_data",
     "data": {
      "text/plain": "  0%|          | 0/3 [00:00<?, ?it/s]",
      "application/vnd.jupyter.widget-view+json": {
       "version_major": 2,
       "version_minor": 0,
       "model_id": "f5d06b68523348c5923051040f14fbdf"
      }
     },
     "metadata": {}
    }
   ]
  },
  {
   "cell_type": "markdown",
   "source": [
    "### Data cleaning"
   ],
   "metadata": {}
  },
  {
   "cell_type": "code",
   "source": [
    "import re\n",
    "\n",
    "def clean_swda_utterance(text):\n",
    "    \"\"\"\n",
    "    This function takes a string of SWDA utterance text and returns a cleaned version of the text.\n",
    "    \"\"\"\n",
    "    # Remove square brackets and anything inside them\n",
    "    text = re.sub(r'\\[.*?\\]', '', text)\n",
    "    \n",
    "    # Remove leading and trailing whitespaces\n",
    "    text = text.strip()\n",
    "    \n",
    "    # Remove any remaining parentheses and their contents\n",
    "    text = re.sub(r'\\(.*?\\)', '', text)\n",
    "    \n",
    "    # Remove any remaining non-alphanumeric characters except for spaces\n",
    "    text = re.sub(r'[^a-zA-Z0-9\\s]', '', text)\n",
    "    \n",
    "    # Convert all letters to lowercase\n",
    "    text = text.lower()\n",
    "    \n",
    "    # Remove any residual spaces\n",
    "    text = ' '.join(text.split())\n",
    "    \n",
    "    return {\"text\": text}\n"
   ],
   "metadata": {
    "execution": {
     "iopub.status.busy": "2023-03-17T14:51:33.326508Z",
     "iopub.execute_input": "2023-03-17T14:51:33.327457Z",
     "iopub.status.idle": "2023-03-17T14:51:33.336145Z",
     "shell.execute_reply.started": "2023-03-17T14:51:33.327414Z",
     "shell.execute_reply": "2023-03-17T14:51:33.335131Z"
    },
    "trusted": true
   },
   "execution_count": 6,
   "outputs": []
  },
  {
   "cell_type": "code",
   "source": [
    "swda = swda.map(lambda x : clean_swda_utterance(x['text']))\n"
   ],
   "metadata": {
    "execution": {
     "iopub.status.busy": "2023-03-17T14:51:33.337627Z",
     "iopub.execute_input": "2023-03-17T14:51:33.338258Z",
     "iopub.status.idle": "2023-03-17T14:52:45.289256Z",
     "shell.execute_reply.started": "2023-03-17T14:51:33.338205Z",
     "shell.execute_reply": "2023-03-17T14:52:45.288283Z"
    },
    "trusted": true
   },
   "execution_count": 7,
   "outputs": [
    {
     "output_type": "display_data",
     "data": {
      "text/plain": "  0%|          | 0/213543 [00:00<?, ?ex/s]",
      "application/vnd.jupyter.widget-view+json": {
       "version_major": 2,
       "version_minor": 0,
       "model_id": "07a38e8becc64965873ea4b466b6b6df"
      }
     },
     "metadata": {}
    },
    {
     "output_type": "display_data",
     "data": {
      "text/plain": "  0%|          | 0/56729 [00:00<?, ?ex/s]",
      "application/vnd.jupyter.widget-view+json": {
       "version_major": 2,
       "version_minor": 0,
       "model_id": "b191cd3fa2504a039c94fcf50421d9b1"
      }
     },
     "metadata": {}
    },
    {
     "output_type": "display_data",
     "data": {
      "text/plain": "  0%|          | 0/4514 [00:00<?, ?ex/s]",
      "application/vnd.jupyter.widget-view+json": {
       "version_major": 2,
       "version_minor": 0,
       "model_id": "f67a340c2a7a41f19483c6fabbd7187d"
      }
     },
     "metadata": {}
    }
   ]
  },
  {
   "cell_type": "code",
   "source": [
    "# Define the data preprocessing function\n",
    "def preprocess_data(utterance):\n",
    "    text = utterance['text']\n",
    "    speaker = utterance['caller']\n",
    "    label = utterance['damsl_act_tag']\n",
    "\n",
    "    return {'text': text, 'speaker': speaker, 'label': label}\n",
    "# Preprocess the data\n",
    "swda = swda.map(preprocess_data)"
   ],
   "metadata": {
    "execution": {
     "iopub.status.busy": "2023-03-17T14:52:45.290677Z",
     "iopub.execute_input": "2023-03-17T14:52:45.291632Z",
     "iopub.status.idle": "2023-03-17T14:53:52.148450Z",
     "shell.execute_reply.started": "2023-03-17T14:52:45.291593Z",
     "shell.execute_reply": "2023-03-17T14:53:52.147496Z"
    },
    "trusted": true
   },
   "execution_count": 8,
   "outputs": [
    {
     "output_type": "display_data",
     "data": {
      "text/plain": "  0%|          | 0/213543 [00:00<?, ?ex/s]",
      "application/vnd.jupyter.widget-view+json": {
       "version_major": 2,
       "version_minor": 0,
       "model_id": "74f0470f8461414096b333b66212c794"
      }
     },
     "metadata": {}
    },
    {
     "output_type": "display_data",
     "data": {
      "text/plain": "  0%|          | 0/56729 [00:00<?, ?ex/s]",
      "application/vnd.jupyter.widget-view+json": {
       "version_major": 2,
       "version_minor": 0,
       "model_id": "04a5e969cda1445c830bee545d638d4d"
      }
     },
     "metadata": {}
    },
    {
     "output_type": "display_data",
     "data": {
      "text/plain": "  0%|          | 0/4514 [00:00<?, ?ex/s]",
      "application/vnd.jupyter.widget-view+json": {
       "version_major": 2,
       "version_minor": 0,
       "model_id": "de091f566f2c4b5296c58a5194bcb5b4"
      }
     },
     "metadata": {}
    }
   ]
  },
  {
   "cell_type": "code",
   "source": [
    "swda.remove_columns(['swda_filename', 'ptb_basename', 'conversation_no', 'transcript_index', 'act_tag', 'damsl_act_tag', 'caller', 'utterance_index', 'subutterance_index','pos', 'trees', 'ptb_treenumbers', 'talk_day', 'length', 'topic_description', 'prompt', 'from_caller', 'from_caller_sex', 'from_caller_education', 'from_caller_birth_year', 'from_caller_dialect_area', 'to_caller', 'to_caller_sex', 'to_caller_education', 'to_caller_birth_year', 'to_caller_dialect_area'])"
   ],
   "metadata": {
    "execution": {
     "iopub.status.busy": "2023-03-17T14:53:52.151784Z",
     "iopub.execute_input": "2023-03-17T14:53:52.152362Z",
     "iopub.status.idle": "2023-03-17T14:53:52.174615Z",
     "shell.execute_reply.started": "2023-03-17T14:53:52.152328Z",
     "shell.execute_reply": "2023-03-17T14:53:52.173525Z"
    },
    "trusted": true
   },
   "execution_count": 9,
   "outputs": [
    {
     "execution_count": 9,
     "output_type": "execute_result",
     "data": {
      "text/plain": "DatasetDict({\n    train: Dataset({\n        features: ['text', 'speaker', 'label'],\n        num_rows: 213543\n    })\n    validation: Dataset({\n        features: ['text', 'speaker', 'label'],\n        num_rows: 56729\n    })\n    test: Dataset({\n        features: ['text', 'speaker', 'label'],\n        num_rows: 4514\n    })\n})"
     },
     "metadata": {}
    }
   ]
  },
  {
   "cell_type": "code",
   "source": [
    "def map_speaker_to_int(data):\n",
    "    \"\"\"\n",
    "    This function maps the speaker information in an example to 0 or 1.\n",
    "    \"\"\"\n",
    "    # Get the caller information from the example\n",
    "    caller = data[\"caller\"]\n",
    "    \n",
    "    # Map the caller to 0 or 1\n",
    "    if caller == \"A\":\n",
    "        data[\"speaker\"] = 0\n",
    "    elif caller == \"B\":\n",
    "        data[\"speaker\"] = 1\n",
    "    \n",
    "    return data"
   ],
   "metadata": {
    "execution": {
     "iopub.status.busy": "2023-03-17T14:53:52.176063Z",
     "iopub.execute_input": "2023-03-17T14:53:52.176505Z",
     "iopub.status.idle": "2023-03-17T14:53:52.182266Z",
     "shell.execute_reply.started": "2023-03-17T14:53:52.176469Z",
     "shell.execute_reply": "2023-03-17T14:53:52.181148Z"
    },
    "trusted": true
   },
   "execution_count": 10,
   "outputs": []
  },
  {
   "cell_type": "code",
   "source": [
    "swda = swda.map(map_speaker_to_int)"
   ],
   "metadata": {
    "execution": {
     "iopub.status.busy": "2023-03-17T14:53:52.183687Z",
     "iopub.execute_input": "2023-03-17T14:53:52.184329Z",
     "iopub.status.idle": "2023-03-17T14:55:02.692341Z",
     "shell.execute_reply.started": "2023-03-17T14:53:52.184293Z",
     "shell.execute_reply": "2023-03-17T14:55:02.691303Z"
    },
    "trusted": true
   },
   "execution_count": 11,
   "outputs": [
    {
     "output_type": "display_data",
     "data": {
      "text/plain": "  0%|          | 0/213543 [00:00<?, ?ex/s]",
      "application/vnd.jupyter.widget-view+json": {
       "version_major": 2,
       "version_minor": 0,
       "model_id": "989a50df612d443faf0caf98570da28d"
      }
     },
     "metadata": {}
    },
    {
     "output_type": "display_data",
     "data": {
      "text/plain": "  0%|          | 0/56729 [00:00<?, ?ex/s]",
      "application/vnd.jupyter.widget-view+json": {
       "version_major": 2,
       "version_minor": 0,
       "model_id": "3a5aa5ccfff04b9280c855c69d86cb33"
      }
     },
     "metadata": {}
    },
    {
     "output_type": "display_data",
     "data": {
      "text/plain": "  0%|          | 0/4514 [00:00<?, ?ex/s]",
      "application/vnd.jupyter.widget-view+json": {
       "version_major": 2,
       "version_minor": 0,
       "model_id": "54417014f30046ed98a5e2fcc52778af"
      }
     },
     "metadata": {}
    }
   ]
  },
  {
   "cell_type": "code",
   "source": [
    "train_dataset = pd.DataFrame(swda['train'])\n",
    "val_dataset = pd.DataFrame(swda['validation'])\n",
    "test_dataset = pd.DataFrame(swda['test'])"
   ],
   "metadata": {
    "execution": {
     "iopub.status.busy": "2023-03-17T14:55:02.698109Z",
     "iopub.execute_input": "2023-03-17T14:55:02.698414Z",
     "iopub.status.idle": "2023-03-17T14:56:18.418657Z",
     "shell.execute_reply.started": "2023-03-17T14:55:02.698386Z",
     "shell.execute_reply": "2023-03-17T14:56:18.417596Z"
    },
    "trusted": true
   },
   "execution_count": 12,
   "outputs": []
  },
  {
   "cell_type": "code",
   "source": [
    "train_dataset = train_dataset[['conversation_no','speaker','text','label']]\n",
    "val_dataset = val_dataset[['conversation_no','speaker','text','label']]\n",
    "test_dataset = test_dataset[['conversation_no','speaker','text','label']]"
   ],
   "metadata": {
    "execution": {
     "iopub.status.busy": "2023-03-17T14:56:19.581172Z",
     "iopub.execute_input": "2023-03-17T14:56:19.581627Z",
     "iopub.status.idle": "2023-03-17T14:56:19.714931Z",
     "shell.execute_reply.started": "2023-03-17T14:56:19.581588Z",
     "shell.execute_reply": "2023-03-17T14:56:19.713644Z"
    },
    "trusted": true
   },
   "execution_count": 14,
   "outputs": []
  },
  {
   "cell_type": "markdown",
   "source": [
    "### Data Processing"
   ],
   "metadata": {}
  },
  {
   "cell_type": "code",
   "source": [
    "# Load BERT tokenizer\n",
    "tokenizer = BertTokenizer.from_pretrained('bert-base-uncased')"
   ],
   "metadata": {
    "execution": {
     "iopub.status.busy": "2023-03-17T14:56:19.717967Z",
     "iopub.execute_input": "2023-03-17T14:56:19.718939Z",
     "iopub.status.idle": "2023-03-17T14:56:22.190303Z",
     "shell.execute_reply.started": "2023-03-17T14:56:19.718896Z",
     "shell.execute_reply": "2023-03-17T14:56:22.189318Z"
    },
    "trusted": true
   },
   "execution_count": 15,
   "outputs": [
    {
     "output_type": "display_data",
     "data": {
      "text/plain": "Downloading (…)solve/main/vocab.txt:   0%|          | 0.00/232k [00:00<?, ?B/s]",
      "application/vnd.jupyter.widget-view+json": {
       "version_major": 2,
       "version_minor": 0,
       "model_id": "e9b19b8ffc5c46548a5decbb1df9dc83"
      }
     },
     "metadata": {}
    },
    {
     "output_type": "display_data",
     "data": {
      "text/plain": "Downloading (…)okenizer_config.json:   0%|          | 0.00/28.0 [00:00<?, ?B/s]",
      "application/vnd.jupyter.widget-view+json": {
       "version_major": 2,
       "version_minor": 0,
       "model_id": "dade3202d00844c787319b6264ede593"
      }
     },
     "metadata": {}
    },
    {
     "output_type": "display_data",
     "data": {
      "text/plain": "Downloading (…)lve/main/config.json:   0%|          | 0.00/570 [00:00<?, ?B/s]",
      "application/vnd.jupyter.widget-view+json": {
       "version_major": 2,
       "version_minor": 0,
       "model_id": "33ec1f7c9f6d4c7c9da8f9203b7392b7"
      }
     },
     "metadata": {}
    }
   ]
  },
  {
   "cell_type": "code",
   "source": [
    "def pre_process(data):\n",
    "    \n",
    "    # Create mapping of speaker IDs\n",
    "    speakers = data[\"speaker\"].unique()\n",
    "    speaker_to_id = {speaker: i for i, speaker in enumerate(speakers)}\n",
    "\n",
    "    # Group utterances by conversation ID\n",
    "    conversations = data.groupby(\"conversation_no\")\n",
    "    \n",
    "\n",
    "    # Create input sequences for each conversation\n",
    "    inputs = []\n",
    "    speakers_id = []\n",
    "    da_labels_all = []\n",
    "    for _, conversation in conversations:\n",
    "        \n",
    "        # Select conversation with more that 30 utterances\n",
    "        if len(conversation[\"text\"]) >= 30:\n",
    "\n",
    "            # Tokenize text\n",
    "            tokenized_text = [[tokenizer.encode(utterance)[:128] + [tokenizer.pad_token_id] * (128 - len(tokenizer.encode(utterance)[:128])) for utterance in conversation[\"text\"][:30]]]\n",
    "\n",
    "            # Add [SEP] tokens between utterances\n",
    "            tokenized_text = [token for seq in tokenized_text for token in seq]\n",
    "\n",
    "            # Convert speaker IDs\n",
    "            speaker_ids = [speaker_to_id[speaker] for speaker in conversation[\"speaker\"][:30]]\n",
    "\n",
    "            # Convert DA labels\n",
    "            da_labels = torch.tensor(conversation[\"label\"][:30].values)\n",
    "\n",
    "\n",
    "            # Convert to PyTorch tensors and add to inputs list\n",
    "            inputs.append(torch.tensor(tokenized_text))\n",
    "            speakers_id.append(torch.tensor(speaker_ids))\n",
    "            da_labels_all.append(da_labels)\n",
    "            \n",
    "         \n",
    "        \n",
    "    \n",
    "    return torch.stack(inputs),  torch.stack(speakers_id), torch.stack(da_labels_all)\n"
   ],
   "metadata": {
    "execution": {
     "iopub.status.busy": "2023-03-17T14:56:22.191834Z",
     "iopub.execute_input": "2023-03-17T14:56:22.192706Z",
     "iopub.status.idle": "2023-03-17T14:56:22.203228Z",
     "shell.execute_reply.started": "2023-03-17T14:56:22.192675Z",
     "shell.execute_reply": "2023-03-17T14:56:22.202124Z"
    },
    "trusted": true
   },
   "execution_count": 16,
   "outputs": []
  },
  {
   "cell_type": "code",
   "source": [
    "inputs, speakers, labels = pre_process(train_dataset)\n",
    "val_inputs, val_speakers, val_labels = pre_process(val_dataset)"
   ],
   "metadata": {
    "execution": {
     "iopub.status.busy": "2023-03-17T14:56:22.204903Z",
     "iopub.execute_input": "2023-03-17T14:56:22.205986Z",
     "iopub.status.idle": "2023-03-17T14:56:50.023760Z",
     "shell.execute_reply.started": "2023-03-17T14:56:22.205949Z",
     "shell.execute_reply": "2023-03-17T14:56:50.022699Z"
    },
    "trusted": true
   },
   "execution_count": 17,
   "outputs": []
  },
  {
   "cell_type": "code",
   "source": [
    "train_df = TensorDataset(inputs, speakers, labels)\n",
    "val_df = TensorDataset(val_inputs, val_speakers, val_labels)"
   ],
   "metadata": {
    "execution": {
     "iopub.status.busy": "2023-03-17T14:56:50.025708Z",
     "iopub.execute_input": "2023-03-17T14:56:50.026134Z",
     "iopub.status.idle": "2023-03-17T14:56:50.034755Z",
     "shell.execute_reply.started": "2023-03-17T14:56:50.026093Z",
     "shell.execute_reply": "2023-03-17T14:56:50.033468Z"
    },
    "trusted": true
   },
   "execution_count": 18,
   "outputs": []
  },
  {
   "cell_type": "code",
   "source": [
    "bert_model = BertModel.from_pretrained('bert-base-uncased')\n",
    "\n",
    "train_loader = DataLoader(train_df, batch_size=4, shuffle=True)\n",
    "val_loader = DataLoader(val_df, batch_size=4, shuffle=True)"
   ],
   "metadata": {
    "execution": {
     "iopub.status.busy": "2023-03-17T14:56:50.036571Z",
     "iopub.execute_input": "2023-03-17T14:56:50.037030Z",
     "iopub.status.idle": "2023-03-17T14:56:53.748247Z",
     "shell.execute_reply.started": "2023-03-17T14:56:50.036987Z",
     "shell.execute_reply": "2023-03-17T14:56:53.747138Z"
    },
    "trusted": true
   },
   "execution_count": 19,
   "outputs": [
    {
     "output_type": "display_data",
     "data": {
      "text/plain": "Downloading (…)\"pytorch_model.bin\";:   0%|          | 0.00/440M [00:00<?, ?B/s]",
      "application/vnd.jupyter.widget-view+json": {
       "version_major": 2,
       "version_minor": 0,
       "model_id": "938e2b4758ee4d89a2f3785c6a124504"
      }
     },
     "metadata": {}
    },
    {
     "name": "stderr",
     "text": "Some weights of the model checkpoint at bert-base-uncased were not used when initializing BertModel: ['cls.seq_relationship.bias', 'cls.predictions.transform.LayerNorm.weight', 'cls.seq_relationship.weight', 'cls.predictions.transform.LayerNorm.bias', 'cls.predictions.transform.dense.bias', 'cls.predictions.transform.dense.weight', 'cls.predictions.bias', 'cls.predictions.decoder.weight']\n- This IS expected if you are initializing BertModel from the checkpoint of a model trained on another task or with another architecture (e.g. initializing a BertForSequenceClassification model from a BertForPreTraining model).\n- This IS NOT expected if you are initializing BertModel from the checkpoint of a model that you expect to be exactly identical (initializing a BertForSequenceClassification model from a BertForSequenceClassification model).\n",
     "output_type": "stream"
    }
   ]
  },
  {
   "cell_type": "markdown",
   "source": [
    "### Memory management"
   ],
   "metadata": {}
  },
  {
   "cell_type": "code",
   "source": [
    "import gc\n",
    "torch.cuda.empty_cache()\n",
    "gc.collect()"
   ],
   "metadata": {
    "execution": {
     "iopub.status.busy": "2023-03-17T14:56:53.760540Z",
     "iopub.execute_input": "2023-03-17T14:56:53.760800Z",
     "iopub.status.idle": "2023-03-17T14:56:53.999833Z",
     "shell.execute_reply.started": "2023-03-17T14:56:53.760776Z",
     "shell.execute_reply": "2023-03-17T14:56:53.998299Z"
    },
    "trusted": true
   },
   "execution_count": 21,
   "outputs": [
    {
     "execution_count": 21,
     "output_type": "execute_result",
     "data": {
      "text/plain": "178"
     },
     "metadata": {}
    }
   ]
  },
  {
   "cell_type": "code",
   "source": [
    "!nvidia-smi"
   ],
   "metadata": {
    "execution": {
     "iopub.status.busy": "2023-03-17T14:56:54.002751Z",
     "iopub.execute_input": "2023-03-17T14:56:54.003037Z",
     "iopub.status.idle": "2023-03-17T14:56:55.060999Z",
     "shell.execute_reply.started": "2023-03-17T14:56:54.003010Z",
     "shell.execute_reply": "2023-03-17T14:56:55.059770Z"
    },
    "trusted": true
   },
   "execution_count": 22,
   "outputs": [
    {
     "name": "stdout",
     "text": "Fri Mar 17 14:56:54 2023       \n+-----------------------------------------------------------------------------+\n| NVIDIA-SMI 470.82.01    Driver Version: 470.82.01    CUDA Version: 11.4     |\n|-------------------------------+----------------------+----------------------+\n| GPU  Name        Persistence-M| Bus-Id        Disp.A | Volatile Uncorr. ECC |\n| Fan  Temp  Perf  Pwr:Usage/Cap|         Memory-Usage | GPU-Util  Compute M. |\n|                               |                      |               MIG M. |\n|===============================+======================+======================|\n|   0  Tesla P100-PCIE...  Off  | 00000000:00:04.0 Off |                    0 |\n| N/A   36C    P0    25W / 250W |      0MiB / 16280MiB |      0%      Default |\n|                               |                      |                  N/A |\n+-------------------------------+----------------------+----------------------+\n                                                                               \n+-----------------------------------------------------------------------------+\n| Processes:                                                                  |\n|  GPU   GI   CI        PID   Type   Process name                  GPU Memory |\n|        ID   ID                                                   Usage      |\n|=============================================================================|\n|  No running processes found                                                 |\n+-----------------------------------------------------------------------------+\n",
     "output_type": "stream"
    }
   ]
  },
  {
   "cell_type": "markdown",
   "source": [
    "# Bi-LSTM-Cls Model"
   ],
   "metadata": {}
  },
  {
   "cell_type": "markdown",
   "source": [
    "### Model definition"
   ],
   "metadata": {}
  },
  {
   "cell_type": "code",
   "source": [
    "import torch\n",
    "\n",
    "class BaseDialogueActClassifier(torch.nn.Module):\n",
    "    def __init__(self, bert_model, num_labels):\n",
    "        super(BaseDialogueActClassifier, self).__init__()\n",
    "        \n",
    "        self.bert = bert_model\n",
    "                \n",
    "        self.lstm = torch.nn.LSTM(input_size=768, hidden_size=256, num_layers=2, bidirectional=True, batch_first=True)\n",
    "                \n",
    "        self.fc = torch.nn.Linear(512, num_labels)\n",
    "    \n",
    "    def forward(self, input_ids):\n",
    "        \n",
    "        # input_ids and attention_mask have shape (batch_size, max_num_utterances, max_seq_length)\n",
    "        batch_size, max_num_utterances, max_seq_length = input_ids.size()\n",
    "        \n",
    "        input_ids = input_ids.view(-1, max_seq_length) # shape (batch_size * max_num_utterances, max_seq_length)\n",
    "        \n",
    "        bert_output = self.bert(input_ids=input_ids)[0][:,0] # shape (batch_size * max_num_utterances, 768)\n",
    "        \n",
    "        lstm_output, _ = self.lstm(bert_output) # shape (batch_size * max_num_utterances, 512)\n",
    "                        \n",
    "        logits = self.fc(lstm_output) # shape (batch_size * max_num_utterances, num_labels)\n",
    "        \n",
    "        logits = logits.view(batch_size, max_num_utterances, -1) # shape (batch_size, max_num_utterances, num_labels)\n",
    "        return logits\n",
    "\n",
    "\n"
   ],
   "metadata": {
    "execution": {
     "iopub.status.busy": "2023-03-17T12:41:54.579592Z",
     "iopub.execute_input": "2023-03-17T12:41:54.580125Z",
     "iopub.status.idle": "2023-03-17T12:41:54.593900Z",
     "shell.execute_reply.started": "2023-03-17T12:41:54.580088Z",
     "shell.execute_reply": "2023-03-17T12:41:54.592522Z"
    },
    "trusted": true
   },
   "execution_count": 25,
   "outputs": []
  },
  {
   "cell_type": "code",
   "source": [
    "device = torch.device('cuda' if torch.cuda.is_available() else 'cpu')\n",
    "device"
   ],
   "metadata": {
    "execution": {
     "iopub.status.busy": "2023-03-17T12:40:59.755044Z",
     "iopub.execute_input": "2023-03-17T12:40:59.758546Z",
     "iopub.status.idle": "2023-03-17T12:40:59.863980Z",
     "shell.execute_reply.started": "2023-03-17T12:40:59.758474Z",
     "shell.execute_reply": "2023-03-17T12:40:59.862739Z"
    },
    "trusted": true
   },
   "execution_count": 21,
   "outputs": [
    {
     "execution_count": 21,
     "output_type": "execute_result",
     "data": {
      "text/plain": "device(type='cuda')"
     },
     "metadata": {}
    }
   ]
  },
  {
   "cell_type": "markdown",
   "source": [
    "### Initialization"
   ],
   "metadata": {}
  },
  {
   "cell_type": "code",
   "source": [
    "import torch.optim as optim\n",
    "\n",
    "# define hyperparameters\n",
    "num_epochs = 10\n",
    "learning_rate = 1e-4\n",
    "num_labels = 43 \n",
    "\n",
    "# initialize the model and optimizer\n",
    "model_2 = BaseDialogueActClassifier(bert_model = bert_model, num_labels=num_labels)\n",
    "model_2.to(device)\n",
    "optimizer = optim.Adam(model_2.parameters(), lr=learning_rate)\n",
    "\n",
    "# define the loss function\n",
    "criterion = torch.nn.CrossEntropyLoss().to(device)"
   ],
   "metadata": {
    "execution": {
     "iopub.status.busy": "2023-03-17T12:41:59.381239Z",
     "iopub.execute_input": "2023-03-17T12:41:59.382558Z",
     "iopub.status.idle": "2023-03-17T12:41:59.456099Z",
     "shell.execute_reply.started": "2023-03-17T12:41:59.382505Z",
     "shell.execute_reply": "2023-03-17T12:41:59.454568Z"
    },
    "trusted": true
   },
   "execution_count": 26,
   "outputs": []
  },
  {
   "cell_type": "code",
   "source": [
    "# create an empty dataframe to store the loss and accuracy values\n",
    "base_results_df = pd.DataFrame(columns=['epoch', 'train_loss', 'train_accuracy', 'val_loss', 'val_accuracy'])\n",
    "\n",
    "# start the training loop\n",
    "for epoch in range(num_epochs):\n",
    "    # train the model\n",
    "    model_2.train()\n",
    "    train_loss = 0.0\n",
    "    train_correct = 0\n",
    "    train_total = 0\n",
    "    for i, (input_ids, _ , labels) in enumerate(train_loader):\n",
    "        optimizer.zero_grad()\n",
    "        input_ids = input_ids.to(device)\n",
    "        labels = labels.to(device)\n",
    "        logits = model_2(input_ids)\n",
    "        logits = logits.view(-1, num_labels) # shape (batch_size * num_utterances, num_labels)\n",
    "        labels = labels.view(-1) # shape (batch_size * num_utterances,)\n",
    "        loss = criterion(logits, labels)\n",
    "        loss.backward()\n",
    "        optimizer.step()\n",
    "        train_loss += loss.item()\n",
    "        _, predicted = torch.max(logits, 1)\n",
    "        train_total += labels.size(0)\n",
    "        train_correct += (predicted == labels).sum().item()\n",
    "        if (i+1) % 10 == 0:\n",
    "            print(f'Epoch [{epoch+1}/{num_epochs}], Step [{i+1}/{len(train_loader)}], Train Loss: {loss.item():.4f}')\n",
    "    \n",
    "    # compute the average train loss and accuracy for the entire epoch\n",
    "    train_accuracy = 100 * train_correct / train_total\n",
    "    train_loss = train_loss / len(train_loader.dataset)\n",
    "    print('[%d] training loss: %.3f, training accuracy: %.3f%%' %\n",
    "          (epoch + 1, train_loss, train_accuracy))\n",
    "    \n",
    "    # save the train loss and accuracy after each epoch\n",
    "    base_results_df = base_results_df.append({'epoch': epoch+1, \n",
    "                                    'train_loss': train_loss,\n",
    "                                    'train_accuracy': train_accuracy,\n",
    "                                    'val_loss': None,\n",
    "                                    'val_accuracy': None}, ignore_index=True)\n",
    "    \n",
    "    # evaluate the model on the validation set\n",
    "    model_2.eval()\n",
    "    val_loss = 0.0\n",
    "    val_correct = 0\n",
    "    val_total = 0\n",
    "    with torch.no_grad():\n",
    "        for input_ids, _, labels in val_loader:\n",
    "            input_ids = input_ids.to(device)\n",
    "            labels = labels.to(device)\n",
    "            logits = model_2(input_ids)\n",
    "            logits = logits.view(-1, num_labels)\n",
    "            labels = labels.view(-1)\n",
    "            loss = criterion(logits, labels)\n",
    "            val_loss += loss.item()\n",
    "            _, predicted = torch.max(logits, 1)\n",
    "            val_total += labels.size(0)\n",
    "            val_correct += (predicted == labels).sum().item()\n",
    "    val_accuracy = 100 * val_correct / val_total\n",
    "    val_loss = val_loss / len(val_loader.dataset)\n",
    "    print('[%d] validation loss: %.3f, validation accuracy: %.3f%%' %\n",
    "          (epoch + 1, val_loss, val_accuracy))\n",
    "    \n",
    "    # save the val loss and accuracy after each epoch\n",
    "    base_results_df.loc[base_results_df.epoch == epoch+1, 'val_loss'] = val_loss\n",
    "    base_results_df.loc[base_results_df.epoch == epoch+1, 'val_accuracy'] = val_accuracy"
   ],
   "metadata": {
    "execution": {
     "iopub.status.busy": "2023-03-17T12:42:11.729787Z",
     "iopub.execute_input": "2023-03-17T12:42:11.730211Z",
     "iopub.status.idle": "2023-03-17T13:29:52.856520Z",
     "shell.execute_reply.started": "2023-03-17T12:42:11.730173Z",
     "shell.execute_reply": "2023-03-17T13:29:52.854482Z"
    },
    "trusted": true
   },
   "execution_count": 27,
   "outputs": [
    {
     "name": "stdout",
     "text": "Epoch [1/10], Step [10/279], Train Loss: 2.8846\nEpoch [1/10], Step [20/279], Train Loss: 2.5063\nEpoch [1/10], Step [30/279], Train Loss: 2.6390\nEpoch [1/10], Step [40/279], Train Loss: 2.3183\nEpoch [1/10], Step [50/279], Train Loss: 2.4207\nEpoch [1/10], Step [60/279], Train Loss: 2.4542\nEpoch [1/10], Step [70/279], Train Loss: 2.4279\nEpoch [1/10], Step [80/279], Train Loss: 2.3735\nEpoch [1/10], Step [90/279], Train Loss: 1.8194\nEpoch [1/10], Step [100/279], Train Loss: 2.1309\nEpoch [1/10], Step [110/279], Train Loss: 1.9288\nEpoch [1/10], Step [120/279], Train Loss: 2.2378\nEpoch [1/10], Step [130/279], Train Loss: 2.2476\nEpoch [1/10], Step [140/279], Train Loss: 2.4186\nEpoch [1/10], Step [150/279], Train Loss: 1.9017\nEpoch [1/10], Step [160/279], Train Loss: 1.9321\nEpoch [1/10], Step [170/279], Train Loss: 2.0339\nEpoch [1/10], Step [180/279], Train Loss: 1.7107\nEpoch [1/10], Step [190/279], Train Loss: 1.9390\nEpoch [1/10], Step [200/279], Train Loss: 1.7103\nEpoch [1/10], Step [210/279], Train Loss: 1.9255\nEpoch [1/10], Step [220/279], Train Loss: 1.4384\nEpoch [1/10], Step [230/279], Train Loss: 1.8391\nEpoch [1/10], Step [240/279], Train Loss: 1.7988\nEpoch [1/10], Step [250/279], Train Loss: 1.8181\nEpoch [1/10], Step [260/279], Train Loss: 1.5673\nEpoch [1/10], Step [270/279], Train Loss: 1.2089\n[1] training loss: 0.519, training accuracy: 46.248%\n[1] validation loss: 0.409, validation accuracy: 54.811%\nEpoch [2/10], Step [10/279], Train Loss: 1.4824\nEpoch [2/10], Step [20/279], Train Loss: 1.5162\nEpoch [2/10], Step [30/279], Train Loss: 1.7093\nEpoch [2/10], Step [40/279], Train Loss: 1.6311\nEpoch [2/10], Step [50/279], Train Loss: 1.7115\nEpoch [2/10], Step [60/279], Train Loss: 1.3279\nEpoch [2/10], Step [70/279], Train Loss: 1.4692\nEpoch [2/10], Step [80/279], Train Loss: 1.6360\nEpoch [2/10], Step [90/279], Train Loss: 1.2174\nEpoch [2/10], Step [100/279], Train Loss: 1.3337\nEpoch [2/10], Step [110/279], Train Loss: 1.4345\nEpoch [2/10], Step [120/279], Train Loss: 1.6087\nEpoch [2/10], Step [130/279], Train Loss: 1.3573\nEpoch [2/10], Step [140/279], Train Loss: 1.2359\nEpoch [2/10], Step [150/279], Train Loss: 1.6146\nEpoch [2/10], Step [160/279], Train Loss: 1.1368\nEpoch [2/10], Step [170/279], Train Loss: 1.0939\nEpoch [2/10], Step [180/279], Train Loss: 1.1673\nEpoch [2/10], Step [190/279], Train Loss: 1.5852\nEpoch [2/10], Step [200/279], Train Loss: 1.2134\nEpoch [2/10], Step [210/279], Train Loss: 1.5053\nEpoch [2/10], Step [220/279], Train Loss: 1.8736\nEpoch [2/10], Step [230/279], Train Loss: 1.0902\nEpoch [2/10], Step [240/279], Train Loss: 1.3403\nEpoch [2/10], Step [250/279], Train Loss: 1.2011\nEpoch [2/10], Step [260/279], Train Loss: 1.0632\nEpoch [2/10], Step [270/279], Train Loss: 1.3833\n[2] training loss: 0.350, training accuracy: 60.227%\n[2] validation loss: 0.292, validation accuracy: 67.444%\nEpoch [3/10], Step [10/279], Train Loss: 1.0524\nEpoch [3/10], Step [20/279], Train Loss: 1.0369\nEpoch [3/10], Step [30/279], Train Loss: 1.3772\nEpoch [3/10], Step [40/279], Train Loss: 0.7555\nEpoch [3/10], Step [50/279], Train Loss: 1.1499\nEpoch [3/10], Step [60/279], Train Loss: 1.2611\nEpoch [3/10], Step [70/279], Train Loss: 1.0927\nEpoch [3/10], Step [80/279], Train Loss: 1.1509\nEpoch [3/10], Step [90/279], Train Loss: 1.3168\nEpoch [3/10], Step [100/279], Train Loss: 1.2633\nEpoch [3/10], Step [110/279], Train Loss: 0.9419\nEpoch [3/10], Step [120/279], Train Loss: 0.9455\nEpoch [3/10], Step [130/279], Train Loss: 1.3810\nEpoch [3/10], Step [140/279], Train Loss: 1.2201\nEpoch [3/10], Step [150/279], Train Loss: 0.8816\nEpoch [3/10], Step [160/279], Train Loss: 1.1514\nEpoch [3/10], Step [170/279], Train Loss: 1.2454\nEpoch [3/10], Step [180/279], Train Loss: 1.1479\nEpoch [3/10], Step [190/279], Train Loss: 0.9593\nEpoch [3/10], Step [200/279], Train Loss: 0.7590\nEpoch [3/10], Step [210/279], Train Loss: 1.1837\nEpoch [3/10], Step [220/279], Train Loss: 0.9554\nEpoch [3/10], Step [230/279], Train Loss: 0.8294\nEpoch [3/10], Step [240/279], Train Loss: 1.2901\nEpoch [3/10], Step [250/279], Train Loss: 1.1457\nEpoch [3/10], Step [260/279], Train Loss: 1.2383\nEpoch [3/10], Step [270/279], Train Loss: 0.7823\n[3] training loss: 0.267, training accuracy: 69.501%\n[3] validation loss: 0.224, validation accuracy: 75.322%\nEpoch [4/10], Step [10/279], Train Loss: 0.8384\nEpoch [4/10], Step [20/279], Train Loss: 0.5429\nEpoch [4/10], Step [30/279], Train Loss: 1.0499\nEpoch [4/10], Step [40/279], Train Loss: 0.6814\nEpoch [4/10], Step [50/279], Train Loss: 0.6332\nEpoch [4/10], Step [60/279], Train Loss: 0.7705\nEpoch [4/10], Step [70/279], Train Loss: 0.9962\nEpoch [4/10], Step [80/279], Train Loss: 1.1263\nEpoch [4/10], Step [90/279], Train Loss: 0.9065\nEpoch [4/10], Step [100/279], Train Loss: 0.8693\nEpoch [4/10], Step [110/279], Train Loss: 0.9472\nEpoch [4/10], Step [120/279], Train Loss: 1.0953\nEpoch [4/10], Step [130/279], Train Loss: 1.0615\nEpoch [4/10], Step [140/279], Train Loss: 0.9044\nEpoch [4/10], Step [150/279], Train Loss: 1.1912\nEpoch [4/10], Step [160/279], Train Loss: 0.9144\nEpoch [4/10], Step [170/279], Train Loss: 1.0214\nEpoch [4/10], Step [180/279], Train Loss: 0.9797\nEpoch [4/10], Step [190/279], Train Loss: 0.5905\nEpoch [4/10], Step [200/279], Train Loss: 0.6372\nEpoch [4/10], Step [210/279], Train Loss: 0.7492\nEpoch [4/10], Step [220/279], Train Loss: 0.8260\nEpoch [4/10], Step [230/279], Train Loss: 0.7020\nEpoch [4/10], Step [240/279], Train Loss: 0.9282\nEpoch [4/10], Step [250/279], Train Loss: 0.8500\nEpoch [4/10], Step [260/279], Train Loss: 0.7347\nEpoch [4/10], Step [270/279], Train Loss: 0.7765\n[4] training loss: 0.216, training accuracy: 75.277%\n[4] validation loss: 0.183, validation accuracy: 79.789%\nEpoch [5/10], Step [10/279], Train Loss: 0.9441\nEpoch [5/10], Step [20/279], Train Loss: 0.8439\nEpoch [5/10], Step [30/279], Train Loss: 0.6225\nEpoch [5/10], Step [40/279], Train Loss: 0.5817\nEpoch [5/10], Step [50/279], Train Loss: 0.5605\nEpoch [5/10], Step [60/279], Train Loss: 0.4835\nEpoch [5/10], Step [70/279], Train Loss: 0.9173\nEpoch [5/10], Step [80/279], Train Loss: 0.8876\nEpoch [5/10], Step [90/279], Train Loss: 0.8609\nEpoch [5/10], Step [100/279], Train Loss: 0.8582\nEpoch [5/10], Step [110/279], Train Loss: 0.9122\nEpoch [5/10], Step [120/279], Train Loss: 0.5421\nEpoch [5/10], Step [130/279], Train Loss: 0.5543\nEpoch [5/10], Step [140/279], Train Loss: 0.6421\nEpoch [5/10], Step [150/279], Train Loss: 0.6012\nEpoch [5/10], Step [160/279], Train Loss: 0.6508\nEpoch [5/10], Step [170/279], Train Loss: 0.9665\nEpoch [5/10], Step [180/279], Train Loss: 0.6970\nEpoch [5/10], Step [190/279], Train Loss: 0.9423\nEpoch [5/10], Step [200/279], Train Loss: 0.9855\nEpoch [5/10], Step [210/279], Train Loss: 0.8400\nEpoch [5/10], Step [220/279], Train Loss: 0.8558\nEpoch [5/10], Step [230/279], Train Loss: 0.6166\nEpoch [5/10], Step [240/279], Train Loss: 0.5427\nEpoch [5/10], Step [250/279], Train Loss: 0.6444\nEpoch [5/10], Step [260/279], Train Loss: 0.4075\nEpoch [5/10], Step [270/279], Train Loss: 0.6601\n[5] training loss: 0.182, training accuracy: 79.375%\n[5] validation loss: 0.161, validation accuracy: 81.667%\nEpoch [6/10], Step [10/279], Train Loss: 0.6585\nEpoch [6/10], Step [20/279], Train Loss: 0.6997\nEpoch [6/10], Step [30/279], Train Loss: 0.7762\nEpoch [6/10], Step [40/279], Train Loss: 0.6936\nEpoch [6/10], Step [50/279], Train Loss: 0.6045\nEpoch [6/10], Step [60/279], Train Loss: 0.7551\nEpoch [6/10], Step [70/279], Train Loss: 0.5752\nEpoch [6/10], Step [80/279], Train Loss: 0.3200\nEpoch [6/10], Step [90/279], Train Loss: 0.8764\nEpoch [6/10], Step [100/279], Train Loss: 0.6521\nEpoch [6/10], Step [110/279], Train Loss: 0.6274\nEpoch [6/10], Step [120/279], Train Loss: 0.6350\nEpoch [6/10], Step [130/279], Train Loss: 0.4116\nEpoch [6/10], Step [140/279], Train Loss: 0.6355\nEpoch [6/10], Step [150/279], Train Loss: 0.5332\nEpoch [6/10], Step [160/279], Train Loss: 0.6630\nEpoch [6/10], Step [170/279], Train Loss: 0.9196\nEpoch [6/10], Step [180/279], Train Loss: 0.8212\nEpoch [6/10], Step [190/279], Train Loss: 0.7275\nEpoch [6/10], Step [200/279], Train Loss: 0.4530\nEpoch [6/10], Step [210/279], Train Loss: 0.5427\nEpoch [6/10], Step [220/279], Train Loss: 0.5296\nEpoch [6/10], Step [230/279], Train Loss: 0.5491\nEpoch [6/10], Step [240/279], Train Loss: 0.6341\nEpoch [6/10], Step [250/279], Train Loss: 0.5210\nEpoch [6/10], Step [260/279], Train Loss: 0.6021\nEpoch [6/10], Step [270/279], Train Loss: 0.5665\n[6] training loss: 0.155, training accuracy: 82.066%\n[6] validation loss: 0.127, validation accuracy: 85.844%\nEpoch [7/10], Step [10/279], Train Loss: 0.4430\nEpoch [7/10], Step [20/279], Train Loss: 0.4100\nEpoch [7/10], Step [30/279], Train Loss: 0.5860\nEpoch [7/10], Step [40/279], Train Loss: 0.5228\nEpoch [7/10], Step [50/279], Train Loss: 0.2866\nEpoch [7/10], Step [60/279], Train Loss: 0.6010\nEpoch [7/10], Step [70/279], Train Loss: 0.3726\nEpoch [7/10], Step [80/279], Train Loss: 0.6839\nEpoch [7/10], Step [90/279], Train Loss: 0.3413\nEpoch [7/10], Step [100/279], Train Loss: 0.4698\nEpoch [7/10], Step [110/279], Train Loss: 0.4345\nEpoch [7/10], Step [120/279], Train Loss: 0.5231\nEpoch [7/10], Step [130/279], Train Loss: 0.7721\nEpoch [7/10], Step [140/279], Train Loss: 0.3926\nEpoch [7/10], Step [150/279], Train Loss: 0.6194\nEpoch [7/10], Step [160/279], Train Loss: 0.5136\nEpoch [7/10], Step [170/279], Train Loss: 0.5345\nEpoch [7/10], Step [180/279], Train Loss: 0.6332\nEpoch [7/10], Step [190/279], Train Loss: 0.5988\nEpoch [7/10], Step [200/279], Train Loss: 0.6074\nEpoch [7/10], Step [210/279], Train Loss: 0.4996\nEpoch [7/10], Step [220/279], Train Loss: 0.4721\nEpoch [7/10], Step [230/279], Train Loss: 0.7182\nEpoch [7/10], Step [240/279], Train Loss: 0.4333\nEpoch [7/10], Step [250/279], Train Loss: 0.5146\nEpoch [7/10], Step [260/279], Train Loss: 0.4074\nEpoch [7/10], Step [270/279], Train Loss: 0.6877\n[7] training loss: 0.133, training accuracy: 84.900%\n[7] validation loss: 0.111, validation accuracy: 87.800%\nEpoch [8/10], Step [10/279], Train Loss: 0.4122\nEpoch [8/10], Step [20/279], Train Loss: 0.4590\nEpoch [8/10], Step [30/279], Train Loss: 0.4647\nEpoch [8/10], Step [40/279], Train Loss: 0.3921\nEpoch [8/10], Step [50/279], Train Loss: 0.4719\nEpoch [8/10], Step [60/279], Train Loss: 0.3905\nEpoch [8/10], Step [70/279], Train Loss: 0.5629\nEpoch [8/10], Step [80/279], Train Loss: 0.2551\nEpoch [8/10], Step [90/279], Train Loss: 0.2796\nEpoch [8/10], Step [100/279], Train Loss: 0.4468\nEpoch [8/10], Step [110/279], Train Loss: 0.5175\n",
     "output_type": "stream"
    },
    {
     "traceback": [
      "\u001B[0;31m---------------------------------------------------------------------------\u001B[0m",
      "\u001B[0;31mKeyboardInterrupt\u001B[0m                         Traceback (most recent call last)",
      "\u001B[0;32m/tmp/ipykernel_24/133023400.py\u001B[0m in \u001B[0;36m<module>\u001B[0;34m\u001B[0m\n\u001B[1;32m     17\u001B[0m         \u001B[0mlabels\u001B[0m \u001B[0;34m=\u001B[0m \u001B[0mlabels\u001B[0m\u001B[0;34m.\u001B[0m\u001B[0mview\u001B[0m\u001B[0;34m(\u001B[0m\u001B[0;34m-\u001B[0m\u001B[0;36m1\u001B[0m\u001B[0;34m)\u001B[0m \u001B[0;31m# shape (batch_size * num_utterances,)\u001B[0m\u001B[0;34m\u001B[0m\u001B[0;34m\u001B[0m\u001B[0m\n\u001B[1;32m     18\u001B[0m         \u001B[0mloss\u001B[0m \u001B[0;34m=\u001B[0m \u001B[0mcriterion\u001B[0m\u001B[0;34m(\u001B[0m\u001B[0mlogits\u001B[0m\u001B[0;34m,\u001B[0m \u001B[0mlabels\u001B[0m\u001B[0;34m)\u001B[0m\u001B[0;34m\u001B[0m\u001B[0;34m\u001B[0m\u001B[0m\n\u001B[0;32m---> 19\u001B[0;31m         \u001B[0mloss\u001B[0m\u001B[0;34m.\u001B[0m\u001B[0mbackward\u001B[0m\u001B[0;34m(\u001B[0m\u001B[0;34m)\u001B[0m\u001B[0;34m\u001B[0m\u001B[0;34m\u001B[0m\u001B[0m\n\u001B[0m\u001B[1;32m     20\u001B[0m         \u001B[0moptimizer\u001B[0m\u001B[0;34m.\u001B[0m\u001B[0mstep\u001B[0m\u001B[0;34m(\u001B[0m\u001B[0;34m)\u001B[0m\u001B[0;34m\u001B[0m\u001B[0;34m\u001B[0m\u001B[0m\n\u001B[1;32m     21\u001B[0m         \u001B[0mtrain_loss\u001B[0m \u001B[0;34m+=\u001B[0m \u001B[0mloss\u001B[0m\u001B[0;34m.\u001B[0m\u001B[0mitem\u001B[0m\u001B[0;34m(\u001B[0m\u001B[0;34m)\u001B[0m\u001B[0;34m\u001B[0m\u001B[0;34m\u001B[0m\u001B[0m\n",
      "\u001B[0;32m/opt/conda/lib/python3.7/site-packages/torch/_tensor.py\u001B[0m in \u001B[0;36mbackward\u001B[0;34m(self, gradient, retain_graph, create_graph, inputs)\u001B[0m\n\u001B[1;32m    486\u001B[0m             )\n\u001B[1;32m    487\u001B[0m         torch.autograd.backward(\n\u001B[0;32m--> 488\u001B[0;31m             \u001B[0mself\u001B[0m\u001B[0;34m,\u001B[0m \u001B[0mgradient\u001B[0m\u001B[0;34m,\u001B[0m \u001B[0mretain_graph\u001B[0m\u001B[0;34m,\u001B[0m \u001B[0mcreate_graph\u001B[0m\u001B[0;34m,\u001B[0m \u001B[0minputs\u001B[0m\u001B[0;34m=\u001B[0m\u001B[0minputs\u001B[0m\u001B[0;34m\u001B[0m\u001B[0;34m\u001B[0m\u001B[0m\n\u001B[0m\u001B[1;32m    489\u001B[0m         )\n\u001B[1;32m    490\u001B[0m \u001B[0;34m\u001B[0m\u001B[0m\n",
      "\u001B[0;32m/opt/conda/lib/python3.7/site-packages/torch/autograd/__init__.py\u001B[0m in \u001B[0;36mbackward\u001B[0;34m(tensors, grad_tensors, retain_graph, create_graph, grad_variables, inputs)\u001B[0m\n\u001B[1;32m    197\u001B[0m     Variable._execution_engine.run_backward(  # Calls into the C++ engine to run the backward pass\n\u001B[1;32m    198\u001B[0m         \u001B[0mtensors\u001B[0m\u001B[0;34m,\u001B[0m \u001B[0mgrad_tensors_\u001B[0m\u001B[0;34m,\u001B[0m \u001B[0mretain_graph\u001B[0m\u001B[0;34m,\u001B[0m \u001B[0mcreate_graph\u001B[0m\u001B[0;34m,\u001B[0m \u001B[0minputs\u001B[0m\u001B[0;34m,\u001B[0m\u001B[0;34m\u001B[0m\u001B[0;34m\u001B[0m\u001B[0m\n\u001B[0;32m--> 199\u001B[0;31m         allow_unreachable=True, accumulate_grad=True)  # Calls into the C++ engine to run the backward pass\n\u001B[0m\u001B[1;32m    200\u001B[0m \u001B[0;34m\u001B[0m\u001B[0m\n\u001B[1;32m    201\u001B[0m def grad(\n",
      "\u001B[0;31mKeyboardInterrupt\u001B[0m: "
     ],
     "ename": "KeyboardInterrupt",
     "evalue": "",
     "output_type": "error"
    }
   ]
  },
  {
   "cell_type": "code",
   "source": [
    "# model saving\n",
    "torch.save(model_2.state_dict(), 'cls_lstm_model.pt')"
   ],
   "metadata": {
    "execution": {
     "iopub.status.busy": "2023-03-17T13:31:33.777929Z",
     "iopub.execute_input": "2023-03-17T13:31:33.778361Z",
     "iopub.status.idle": "2023-03-17T13:31:34.710259Z",
     "shell.execute_reply.started": "2023-03-17T13:31:33.778325Z",
     "shell.execute_reply": "2023-03-17T13:31:34.709106Z"
    },
    "trusted": true
   },
   "execution_count": 31,
   "outputs": []
  },
  {
   "cell_type": "markdown",
   "source": [
    "### Inference"
   ],
   "metadata": {}
  },
  {
   "cell_type": "code",
   "source": [
    "test_input, test_speakers, test_labels = pre_process(test_dataset)\n",
    "test_df = TensorDataset(test_input, test_speakers, test_labels)\n",
    "\n",
    "test_loader = DataLoader(train_df, batch_size=2, shuffle=True)"
   ],
   "metadata": {
    "execution": {
     "iopub.status.busy": "2023-03-17T13:34:46.113907Z",
     "iopub.execute_input": "2023-03-17T13:34:46.114327Z",
     "iopub.status.idle": "2023-03-17T13:34:46.525812Z",
     "shell.execute_reply.started": "2023-03-17T13:34:46.114290Z",
     "shell.execute_reply": "2023-03-17T13:34:46.524734Z"
    },
    "trusted": true
   },
   "execution_count": 32,
   "outputs": []
  },
  {
   "cell_type": "code",
   "source": [
    "model_2.eval()\n",
    "test_loss = 0.0\n",
    "test_correct = 0\n",
    "test_total = 0\n",
    "with torch.no_grad():\n",
    "    all_predicted_labels = []\n",
    "    all_true_labels = []\n",
    "    for input_ids, _, labels in test_loader:\n",
    "        input_ids = input_ids.to(device)\n",
    "        labels = labels.to(device)\n",
    "        logits = model_2(input_ids)\n",
    "        logits = logits.view(-1, num_labels)\n",
    "        labels = labels.view(-1)\n",
    "        loss = criterion(logits, labels)\n",
    "        test_loss += loss.item()\n",
    "        _, predicted = torch.max(logits, 1)\n",
    "        test_total += labels.size(0)\n",
    "        test_correct += (predicted == labels).sum().item()\n",
    "        all_predicted_labels.extend(predicted.cpu().numpy())\n",
    "        all_true_labels.extend(labels.cpu().numpy())\n",
    "test_accuracy = 100 * test_correct / test_total\n",
    "test_loss = test_loss / len(test_loader.dataset)\n",
    "print('[%d] test loss: %.3f, test accuracy: %.3f%%' %\n",
    "      (epoch + 1, test_loss, test_accuracy))\n",
    "\n"
   ],
   "metadata": {
    "execution": {
     "iopub.status.busy": "2023-03-17T13:34:58.149048Z",
     "iopub.execute_input": "2023-03-17T13:34:58.150127Z",
     "iopub.status.idle": "2023-03-17T13:36:58.064560Z",
     "shell.execute_reply.started": "2023-03-17T13:34:58.150085Z",
     "shell.execute_reply": "2023-03-17T13:36:58.063157Z"
    },
    "trusted": true
   },
   "execution_count": 33,
   "outputs": [
    {
     "name": "stdout",
     "text": "[8] test loss: 0.204, test accuracy: 88.649%\n",
     "output_type": "stream"
    }
   ]
  },
  {
   "cell_type": "code",
   "source": [
    "# plot train and validation losses\n",
    "import matplotlib.pyplot as plt\n",
    "\n",
    "\n",
    "plt.plot(base_results_df.epoch, base_results_df.train_loss, label='train')\n",
    "plt.plot(base_results_df.epoch, base_results_df.val_loss, label='validation')\n",
    "plt.title('Training and Validation Loss')\n",
    "plt.xlabel('Epoch')\n",
    "plt.ylabel('Loss')\n",
    "plt.legend()\n",
    "plt.show()"
   ],
   "metadata": {
    "execution": {
     "iopub.status.busy": "2023-03-17T13:29:59.339057Z",
     "iopub.execute_input": "2023-03-17T13:29:59.339510Z",
     "iopub.status.idle": "2023-03-17T13:29:59.665962Z",
     "shell.execute_reply.started": "2023-03-17T13:29:59.339470Z",
     "shell.execute_reply": "2023-03-17T13:29:59.664725Z"
    },
    "trusted": true
   },
   "execution_count": 28,
   "outputs": [
    {
     "output_type": "display_data",
     "data": {
      "text/plain": "<Figure size 640x480 with 1 Axes>",
      "image/png": "[encoded data removed]"
     },
     "metadata": {}
    }
   ]
  },
  {
   "cell_type": "code",
   "source": [
    "\n",
    "# plot train and validation accuracies\n",
    "plt.plot(base_results_df.epoch, base_results_df.train_accuracy, label='train')\n",
    "plt.plot(base_results_df.epoch, base_results_df.val_accuracy, label='validation')\n",
    "plt.title('Training and Validation Accuracy')\n",
    "plt.xlabel('Epoch')\n",
    "plt.ylabel('Accuracy (%)')\n",
    "plt.legend()\n",
    "plt.show()\n"
   ],
   "metadata": {
    "execution": {
     "iopub.status.busy": "2023-03-17T13:30:02.958470Z",
     "iopub.execute_input": "2023-03-17T13:30:02.959753Z",
     "iopub.status.idle": "2023-03-17T13:30:03.203732Z",
     "shell.execute_reply.started": "2023-03-17T13:30:02.959697Z",
     "shell.execute_reply": "2023-03-17T13:30:03.202480Z"
    },
    "trusted": true
   },
   "execution_count": 29,
   "outputs": [
    {
     "output_type": "display_data",
     "data": {
      "text/plain": "<Figure size 640x480 with 1 Axes>",
      "image/png": "[encoded data removed]"
     },
     "metadata": {}
    }
   ]
  },
  {
   "cell_type": "code",
   "source": [
    "import pandas as pd\n",
    "from sklearn.metrics import precision_recall_fscore_support"
   ],
   "metadata": {
    "execution": {
     "iopub.status.busy": "2023-03-17T13:38:06.571146Z",
     "iopub.execute_input": "2023-03-17T13:38:06.571602Z",
     "iopub.status.idle": "2023-03-17T13:38:06.890338Z",
     "shell.execute_reply.started": "2023-03-17T13:38:06.571563Z",
     "shell.execute_reply": "2023-03-17T13:38:06.889225Z"
    },
    "trusted": true
   },
   "execution_count": 35,
   "outputs": []
  },
  {
   "cell_type": "code",
   "source": [
    "# Calculate precision, recall, F1-score, and support\n",
    "precision, recall, f1_score, support = precision_recall_fscore_support(all_true_labels, all_predicted_labels, average='weighted',zero_division=1)\n",
    "# Create a DataFrame with the metrics\n",
    "metrics_data = { 'Weighted Avg Precision': [precision],\n",
    "                'Weighted Avg Recall': [recall],\n",
    "                'Weighted Avg F1-score': [f1_score]\n",
    "               }\n",
    "metrics_df = pd.DataFrame(metrics_data)\n",
    "\n",
    "# Display the metrics DataFrame\n",
    "print(metrics_df)"
   ],
   "metadata": {
    "execution": {
     "iopub.status.busy": "2023-03-17T13:38:08.437574Z",
     "iopub.execute_input": "2023-03-17T13:38:08.437979Z",
     "iopub.status.idle": "2023-03-17T13:38:08.498816Z",
     "shell.execute_reply.started": "2023-03-17T13:38:08.437945Z",
     "shell.execute_reply": "2023-03-17T13:38:08.497492Z"
    },
    "trusted": true
   },
   "execution_count": 36,
   "outputs": [
    {
     "name": "stdout",
     "text": "   Weighted Avg Precision  Weighted Avg Recall  Weighted Avg F1-score\n0                0.890874             0.886487               0.879299\n",
     "output_type": "stream"
    }
   ]
  },
  {
   "cell_type": "code",
   "source": [
    "torch.save(model_2.state_dict(), 'cls_lstm_model.pt')"
   ],
   "metadata": {},
   "execution_count": null,
   "outputs": []
  },
  {
   "cell_type": "markdown",
   "source": [
    "secondo model"
   ],
   "metadata": {}
  },
  {
   "cell_type": "code",
   "source": [
    "model_2.eval()\n",
    "test_loss = 0.0\n",
    "test_correct = 0\n",
    "test_total = 0\n",
    "with torch.no_grad():\n",
    "    for input_ids, _, labels in test_loader:\n",
    "        input_ids = input_ids.to(device)\n",
    "        labels = labels.to(device)\n",
    "        logits = model_2(input_ids)\n",
    "        logits = logits.view(-1, num_labels)\n",
    "        labels = labels.view(-1)\n",
    "        loss = criterion(logits, labels)\n",
    "        test_loss += loss.item()\n",
    "        _, predicted = torch.max(logits, 1)\n",
    "        test_total += labels.size(0)\n",
    "        test_correct += (predicted == labels).sum().item()\n",
    "test_accuracy = 100 * test_correct / test_total\n",
    "test_loss = test_loss / len(test_loader.dataset)\n",
    "print('[%d] test loss: %.3f, test accuracy: %.3f%%' %\n",
    "      (epoch + 1, test_loss, test_accuracy))\n",
    "\n",
    "# save the test loss and accuracy after each epoch\n",
    "base_results_df = base_results_df.append({'epoch': epoch+1, \n",
    "                                'train_loss': None,\n",
    "                                'train_accuracy': None,\n",
    "                                'val_loss': None,\n",
    "                                'val_accuracy': None,\n",
    "                                'test_loss': test_loss,\n",
    "                                'test_accuracy': test_accuracy}, ignore_index=True)\n"
   ],
   "metadata": {
    "execution": {
     "iopub.status.busy": "2023-03-16T21:45:25.677368Z",
     "iopub.execute_input": "2023-03-16T21:45:25.677730Z",
     "iopub.status.idle": "2023-03-16T21:47:31.940113Z",
     "shell.execute_reply.started": "2023-03-16T21:45:25.677697Z",
     "shell.execute_reply": "2023-03-16T21:47:31.938990Z"
    },
    "trusted": true
   },
   "execution_count": 58,
   "outputs": [
    {
     "name": "stdout",
     "text": "[10] test loss: 0.506, test accuracy: 74.610%\n",
     "output_type": "stream"
    }
   ]
  },
  {
   "cell_type": "code",
   "source": [
    "import pandas as pd\n",
    "from sklearn.metrics import precision_recall_fscore_support\n",
    "\n",
    "model_2.eval()\n",
    "with torch.no_grad():\n",
    "    all_predicted_labels = []\n",
    "    all_true_labels = []\n",
    "    for input_ids, _, labels in test_loader:\n",
    "        input_ids = input_ids.to(device)\n",
    "        labels = labels.to(device)\n",
    "        logits = model_2(input_ids)\n",
    "        logits = logits.view(-1, num_labels)\n",
    "        labels = labels.view(-1)\n",
    "        _, predicted = torch.max(logits, 1)\n",
    "        all_predicted_labels.extend(predicted.cpu().numpy())\n",
    "        all_true_labels.extend(labels.cpu().numpy())\n"
   ],
   "metadata": {
    "execution": {
     "iopub.status.busy": "2023-03-16T21:42:00.407728Z",
     "iopub.execute_input": "2023-03-16T21:42:00.408454Z",
     "iopub.status.idle": "2023-03-16T21:44:06.616877Z",
     "shell.execute_reply.started": "2023-03-16T21:42:00.408417Z",
     "shell.execute_reply": "2023-03-16T21:44:06.615806Z"
    },
    "trusted": true
   },
   "execution_count": 56,
   "outputs": []
  },
  {
   "cell_type": "code",
   "source": [
    "# Calculate precision, recall, F1-score, and support\n",
    "precision, recall, f1_score, support = precision_recall_fscore_support(all_true_labels, all_predicted_labels, average='weighted',zero_division=1)\n",
    "# Create a DataFrame with the metrics\n",
    "metrics_data = { 'Weighted Avg Precision': [precision],\n",
    "                'Weighted Avg Recall': [recall],\n",
    "                'Weighted Avg F1-score': [f1_score]\n",
    "               }\n",
    "metrics_df = pd.DataFrame(metrics_data)\n",
    "\n",
    "# Display the metrics DataFrame\n",
    "print(metrics_df)"
   ],
   "metadata": {
    "execution": {
     "iopub.status.busy": "2023-03-16T21:45:11.764336Z",
     "iopub.execute_input": "2023-03-16T21:45:11.764716Z",
     "iopub.status.idle": "2023-03-16T21:45:11.814404Z",
     "shell.execute_reply.started": "2023-03-16T21:45:11.764683Z",
     "shell.execute_reply": "2023-03-16T21:45:11.813240Z"
    },
    "trusted": true
   },
   "execution_count": 57,
   "outputs": [
    {
     "name": "stdout",
     "text": "   Weighted Avg Precision  Weighted Avg Recall  Weighted Avg F1-score\n0                0.757491             0.746099               0.716529\n",
     "output_type": "stream"
    }
   ]
  }
 ]
}
