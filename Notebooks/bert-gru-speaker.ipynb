{
 "metadata": {
  "kernelspec": {
   "language": "python",
   "display_name": "Python 3",
   "name": "python3"
  },
  "language_info": {
   "name": "python",
   "version": "3.7.12",
   "mimetype": "text/x-python",
   "codemirror_mode": {
    "name": "ipython",
    "version": 3
   },
   "pygments_lexer": "ipython3",
   "nbconvert_exporter": "python",
   "file_extension": ".py"
  }
 },
 "nbformat_minor": 4,
 "nbformat": 4,
 "cells": [
  {
   "cell_type": "code",
   "source": [
    "import torch\n",
    "import torch.nn as nn\n",
    "from transformers import AutoTokenizer, AutoModel"
   ],
   "metadata": {
    "execution": {
     "iopub.status.busy": "2023-03-17T17:25:01.032929Z",
     "iopub.execute_input": "2023-03-17T17:25:01.033616Z",
     "iopub.status.idle": "2023-03-17T17:25:10.581079Z",
     "shell.execute_reply.started": "2023-03-17T17:25:01.033572Z",
     "shell.execute_reply": "2023-03-17T17:25:10.579468Z"
    },
    "trusted": true
   },
   "execution_count": 1,
   "outputs": []
  },
  {
   "cell_type": "code",
   "source": [
    "from transformers import AutoTokenizer, AutoModel, BertTokenizer, BertModel\n",
    "import torch\n",
    "from torch.utils.data import DataLoader, Dataset\n",
    "from datasets import load_dataset, DatasetDict, Dataset, Features, Value\n",
    "import pandas as pd"
   ],
   "metadata": {
    "execution": {
     "iopub.status.busy": "2023-03-17T17:25:10.586735Z",
     "iopub.execute_input": "2023-03-17T17:25:10.589848Z",
     "iopub.status.idle": "2023-03-17T17:25:11.508438Z",
     "shell.execute_reply.started": "2023-03-17T17:25:10.589803Z",
     "shell.execute_reply": "2023-03-17T17:25:11.507337Z"
    },
    "trusted": true
   },
   "execution_count": 2,
   "outputs": []
  },
  {
   "cell_type": "markdown",
   "source": [
    "### Data processing"
   ],
   "metadata": {}
  },
  {
   "cell_type": "code",
   "source": [
    "swda = load_dataset(\"swda\")"
   ],
   "metadata": {
    "execution": {
     "iopub.status.busy": "2023-03-17T17:25:11.511674Z",
     "iopub.execute_input": "2023-03-17T17:25:11.513277Z",
     "iopub.status.idle": "2023-03-17T17:26:41.639156Z",
     "shell.execute_reply.started": "2023-03-17T17:25:11.513229Z",
     "shell.execute_reply": "2023-03-17T17:26:41.638111Z"
    },
    "trusted": true
   },
   "execution_count": 3,
   "outputs": [
    {
     "output_type": "display_data",
     "data": {
      "text/plain": "Downloading builder script:   0%|          | 0.00/7.11k [00:00<?, ?B/s]",
      "application/vnd.jupyter.widget-view+json": {
       "version_major": 2,
       "version_minor": 0,
       "model_id": "dee26ab7ecda461c81224424ee837e58"
      }
     },
     "metadata": {}
    },
    {
     "output_type": "display_data",
     "data": {
      "text/plain": "Downloading metadata:   0%|          | 0.00/2.54k [00:00<?, ?B/s]",
      "application/vnd.jupyter.widget-view+json": {
       "version_major": 2,
       "version_minor": 0,
       "model_id": "4bfefd4c921542ceaa7bfba5d15dd058"
      }
     },
     "metadata": {}
    },
    {
     "name": "stdout",
     "text": "Downloading and preparing dataset swda/default (download: 13.79 MiB, generated: 158.13 MiB, post-processed: Unknown size, total: 171.91 MiB) to /root/.cache/huggingface/datasets/swda/default/0.0.0/b53d17ec4c6e31d0921591dd2d8e86d15850822209a980fcddb2983fc948e499...\n",
     "output_type": "stream"
    },
    {
     "output_type": "display_data",
     "data": {
      "text/plain": "Downloading data:   0%|          | 0.00/14.4M [00:00<?, ?B/s]",
      "application/vnd.jupyter.widget-view+json": {
       "version_major": 2,
       "version_minor": 0,
       "model_id": "9efb0b0fb24e46a4a4e19758564e68c8"
      }
     },
     "metadata": {}
    },
    {
     "output_type": "display_data",
     "data": {
      "text/plain": "Downloading data files:   0%|          | 0/3 [00:00<?, ?it/s]",
      "application/vnd.jupyter.widget-view+json": {
       "version_major": 2,
       "version_minor": 0,
       "model_id": "6d43151f64d644a2b92dd1955deda629"
      }
     },
     "metadata": {}
    },
    {
     "output_type": "display_data",
     "data": {
      "text/plain": "Downloading data:   0%|          | 0.00/2.24k [00:00<?, ?B/s]",
      "application/vnd.jupyter.widget-view+json": {
       "version_major": 2,
       "version_minor": 0,
       "model_id": "f2302407f45144eb8a5d277e15ffb494"
      }
     },
     "metadata": {}
    },
    {
     "output_type": "display_data",
     "data": {
      "text/plain": "Downloading data:   0%|          | 0.00/579 [00:00<?, ?B/s]",
      "application/vnd.jupyter.widget-view+json": {
       "version_major": 2,
       "version_minor": 0,
       "model_id": "b12d2cf803fd45a49766ecb2b37e3cdc"
      }
     },
     "metadata": {}
    },
    {
     "output_type": "display_data",
     "data": {
      "text/plain": "Downloading data:   0%|          | 0.00/75.0 [00:00<?, ?B/s]",
      "application/vnd.jupyter.widget-view+json": {
       "version_major": 2,
       "version_minor": 0,
       "model_id": "9cf2969e4c814caf869f0468c83ca124"
      }
     },
     "metadata": {}
    },
    {
     "output_type": "display_data",
     "data": {
      "text/plain": "Extracting data files:   0%|          | 0/3 [00:00<?, ?it/s]",
      "application/vnd.jupyter.widget-view+json": {
       "version_major": 2,
       "version_minor": 0,
       "model_id": "7babf7ae7f404305acd484bb53bd6b53"
      }
     },
     "metadata": {}
    },
    {
     "output_type": "display_data",
     "data": {
      "text/plain": "Generating train split:   0%|          | 0/213543 [00:00<?, ? examples/s]",
      "application/vnd.jupyter.widget-view+json": {
       "version_major": 2,
       "version_minor": 0,
       "model_id": ""
      }
     },
     "metadata": {}
    },
    {
     "output_type": "display_data",
     "data": {
      "text/plain": "Generating validation split:   0%|          | 0/56729 [00:00<?, ? examples/s]",
      "application/vnd.jupyter.widget-view+json": {
       "version_major": 2,
       "version_minor": 0,
       "model_id": ""
      }
     },
     "metadata": {}
    },
    {
     "output_type": "display_data",
     "data": {
      "text/plain": "Generating test split:   0%|          | 0/4514 [00:00<?, ? examples/s]",
      "application/vnd.jupyter.widget-view+json": {
       "version_major": 2,
       "version_minor": 0,
       "model_id": ""
      }
     },
     "metadata": {}
    },
    {
     "name": "stdout",
     "text": "Dataset swda downloaded and prepared to /root/.cache/huggingface/datasets/swda/default/0.0.0/b53d17ec4c6e31d0921591dd2d8e86d15850822209a980fcddb2983fc948e499. Subsequent calls will reuse this data.\n",
     "output_type": "stream"
    },
    {
     "output_type": "display_data",
     "data": {
      "text/plain": "  0%|          | 0/3 [00:00<?, ?it/s]",
      "application/vnd.jupyter.widget-view+json": {
       "version_major": 2,
       "version_minor": 0,
       "model_id": "6ba5b911ff1348bd927d91dcda328875"
      }
     },
     "metadata": {}
    }
   ]
  },
  {
   "cell_type": "code",
   "source": [
    "swda"
   ],
   "metadata": {
    "execution": {
     "iopub.status.busy": "2023-03-17T17:26:41.642055Z",
     "iopub.execute_input": "2023-03-17T17:26:41.642718Z",
     "iopub.status.idle": "2023-03-17T17:26:41.650648Z",
     "shell.execute_reply.started": "2023-03-17T17:26:41.642678Z",
     "shell.execute_reply": "2023-03-17T17:26:41.649828Z"
    },
    "trusted": true
   },
   "execution_count": 4,
   "outputs": [
    {
     "execution_count": 4,
     "output_type": "execute_result",
     "data": {
      "text/plain": "DatasetDict({\n    train: Dataset({\n        features: ['swda_filename', 'ptb_basename', 'conversation_no', 'transcript_index', 'act_tag', 'damsl_act_tag', 'caller', 'utterance_index', 'subutterance_index', 'text', 'pos', 'trees', 'ptb_treenumbers', 'talk_day', 'length', 'topic_description', 'prompt', 'from_caller', 'from_caller_sex', 'from_caller_education', 'from_caller_birth_year', 'from_caller_dialect_area', 'to_caller', 'to_caller_sex', 'to_caller_education', 'to_caller_birth_year', 'to_caller_dialect_area'],\n        num_rows: 213543\n    })\n    validation: Dataset({\n        features: ['swda_filename', 'ptb_basename', 'conversation_no', 'transcript_index', 'act_tag', 'damsl_act_tag', 'caller', 'utterance_index', 'subutterance_index', 'text', 'pos', 'trees', 'ptb_treenumbers', 'talk_day', 'length', 'topic_description', 'prompt', 'from_caller', 'from_caller_sex', 'from_caller_education', 'from_caller_birth_year', 'from_caller_dialect_area', 'to_caller', 'to_caller_sex', 'to_caller_education', 'to_caller_birth_year', 'to_caller_dialect_area'],\n        num_rows: 56729\n    })\n    test: Dataset({\n        features: ['swda_filename', 'ptb_basename', 'conversation_no', 'transcript_index', 'act_tag', 'damsl_act_tag', 'caller', 'utterance_index', 'subutterance_index', 'text', 'pos', 'trees', 'ptb_treenumbers', 'talk_day', 'length', 'topic_description', 'prompt', 'from_caller', 'from_caller_sex', 'from_caller_education', 'from_caller_birth_year', 'from_caller_dialect_area', 'to_caller', 'to_caller_sex', 'to_caller_education', 'to_caller_birth_year', 'to_caller_dialect_area'],\n        num_rows: 4514\n    })\n})"
     },
     "metadata": {}
    }
   ]
  },
  {
   "cell_type": "code",
   "source": [
    "import re\n",
    "\n",
    "def clean_swda_utterance(text):\n",
    "    \"\"\"\n",
    "    This function takes a string of SWDA utterance text and returns a cleaned version of the text.\n",
    "    \"\"\"\n",
    "    # Remove square brackets and anything inside them\n",
    "    text = re.sub(r'\\[.*?\\]', '', text)\n",
    "    \n",
    "    # Remove leading and trailing whitespaces\n",
    "    text = text.strip()\n",
    "    \n",
    "    # Remove any remaining parentheses and their contents\n",
    "    text = re.sub(r'\\(.*?\\)', '', text)\n",
    "    \n",
    "    # Remove any remaining non-alphanumeric characters except for spaces\n",
    "    text = re.sub(r'[^a-zA-Z0-9\\s]', '', text)\n",
    "    \n",
    "    # Convert all letters to lowercase\n",
    "    text = text.lower()\n",
    "    \n",
    "    # Remove any residual spaces\n",
    "    text = ' '.join(text.split())\n",
    "    \n",
    "    return {\"text\": text}\n"
   ],
   "metadata": {
    "execution": {
     "iopub.status.busy": "2023-03-17T17:26:41.652265Z",
     "iopub.execute_input": "2023-03-17T17:26:41.652957Z",
     "iopub.status.idle": "2023-03-17T17:26:41.660118Z",
     "shell.execute_reply.started": "2023-03-17T17:26:41.652919Z",
     "shell.execute_reply": "2023-03-17T17:26:41.659354Z"
    },
    "trusted": true
   },
   "execution_count": 5,
   "outputs": []
  },
  {
   "cell_type": "code",
   "source": [
    "swda['train']['text'][67445], clean_swda_utterance(swda['train']['text'][67445])"
   ],
   "metadata": {
    "execution": {
     "iopub.status.busy": "2023-03-17T17:26:41.661522Z",
     "iopub.execute_input": "2023-03-17T17:26:41.662192Z",
     "iopub.status.idle": "2023-03-17T17:26:42.012772Z",
     "shell.execute_reply.started": "2023-03-17T17:26:41.662157Z",
     "shell.execute_reply": "2023-03-17T17:26:42.011659Z"
    },
    "trusted": true
   },
   "execution_count": 6,
   "outputs": [
    {
     "execution_count": 6,
     "output_type": "execute_result",
     "data": {
      "text/plain": "('big time problems ]  /', {'text': 'big time problems'})"
     },
     "metadata": {}
    }
   ]
  },
  {
   "cell_type": "code",
   "source": [
    "swda = swda.map(lambda x : clean_swda_utterance(x['text']))\n"
   ],
   "metadata": {
    "execution": {
     "iopub.status.busy": "2023-03-17T17:26:42.014191Z",
     "iopub.execute_input": "2023-03-17T17:26:42.014650Z",
     "iopub.status.idle": "2023-03-17T17:27:54.812461Z",
     "shell.execute_reply.started": "2023-03-17T17:26:42.014612Z",
     "shell.execute_reply": "2023-03-17T17:27:54.811464Z"
    },
    "trusted": true
   },
   "execution_count": 7,
   "outputs": [
    {
     "output_type": "display_data",
     "data": {
      "text/plain": "  0%|          | 0/213543 [00:00<?, ?ex/s]",
      "application/vnd.jupyter.widget-view+json": {
       "version_major": 2,
       "version_minor": 0,
       "model_id": "ac20e4dab13e46adb81fa1303ab03577"
      }
     },
     "metadata": {}
    },
    {
     "output_type": "display_data",
     "data": {
      "text/plain": "  0%|          | 0/56729 [00:00<?, ?ex/s]",
      "application/vnd.jupyter.widget-view+json": {
       "version_major": 2,
       "version_minor": 0,
       "model_id": "76a6991a54e24389b46bf0b3ebda4408"
      }
     },
     "metadata": {}
    },
    {
     "output_type": "display_data",
     "data": {
      "text/plain": "  0%|          | 0/4514 [00:00<?, ?ex/s]",
      "application/vnd.jupyter.widget-view+json": {
       "version_major": 2,
       "version_minor": 0,
       "model_id": "7b48e8502626432682482ad889c1e5eb"
      }
     },
     "metadata": {}
    }
   ]
  },
  {
   "cell_type": "code",
   "source": [
    "# Define the data preprocessing function\n",
    "def preprocess_data(utterance):\n",
    "    text = utterance['text']\n",
    "    speaker = utterance['caller']\n",
    "    label = utterance['damsl_act_tag']\n",
    "\n",
    "    return {'text': text, 'speaker': speaker, 'label': label}\n",
    "# Preprocess the data\n",
    "swda = swda.map(preprocess_data)"
   ],
   "metadata": {
    "execution": {
     "iopub.status.busy": "2023-03-17T17:27:54.814949Z",
     "iopub.execute_input": "2023-03-17T17:27:54.815804Z",
     "iopub.status.idle": "2023-03-17T17:29:01.483831Z",
     "shell.execute_reply.started": "2023-03-17T17:27:54.815742Z",
     "shell.execute_reply": "2023-03-17T17:29:01.482838Z"
    },
    "trusted": true
   },
   "execution_count": 8,
   "outputs": [
    {
     "output_type": "display_data",
     "data": {
      "text/plain": "  0%|          | 0/213543 [00:00<?, ?ex/s]",
      "application/vnd.jupyter.widget-view+json": {
       "version_major": 2,
       "version_minor": 0,
       "model_id": "356fcab5aa6c4c6582f9ec1973bad613"
      }
     },
     "metadata": {}
    },
    {
     "output_type": "display_data",
     "data": {
      "text/plain": "  0%|          | 0/56729 [00:00<?, ?ex/s]",
      "application/vnd.jupyter.widget-view+json": {
       "version_major": 2,
       "version_minor": 0,
       "model_id": "183c08fa7cf64a768466ac7ed193f0e9"
      }
     },
     "metadata": {}
    },
    {
     "output_type": "display_data",
     "data": {
      "text/plain": "  0%|          | 0/4514 [00:00<?, ?ex/s]",
      "application/vnd.jupyter.widget-view+json": {
       "version_major": 2,
       "version_minor": 0,
       "model_id": "738a69cf266b47769c0fe3c8f22ea76d"
      }
     },
     "metadata": {}
    }
   ]
  },
  {
   "cell_type": "code",
   "source": [
    "swda"
   ],
   "metadata": {
    "execution": {
     "iopub.status.busy": "2023-03-17T17:29:01.487217Z",
     "iopub.execute_input": "2023-03-17T17:29:01.487546Z",
     "iopub.status.idle": "2023-03-17T17:29:01.496470Z",
     "shell.execute_reply.started": "2023-03-17T17:29:01.487517Z",
     "shell.execute_reply": "2023-03-17T17:29:01.495823Z"
    },
    "trusted": true
   },
   "execution_count": 9,
   "outputs": [
    {
     "execution_count": 9,
     "output_type": "execute_result",
     "data": {
      "text/plain": "DatasetDict({\n    train: Dataset({\n        features: ['swda_filename', 'ptb_basename', 'conversation_no', 'transcript_index', 'act_tag', 'damsl_act_tag', 'caller', 'utterance_index', 'subutterance_index', 'text', 'pos', 'trees', 'ptb_treenumbers', 'talk_day', 'length', 'topic_description', 'prompt', 'from_caller', 'from_caller_sex', 'from_caller_education', 'from_caller_birth_year', 'from_caller_dialect_area', 'to_caller', 'to_caller_sex', 'to_caller_education', 'to_caller_birth_year', 'to_caller_dialect_area', 'speaker', 'label'],\n        num_rows: 213543\n    })\n    validation: Dataset({\n        features: ['swda_filename', 'ptb_basename', 'conversation_no', 'transcript_index', 'act_tag', 'damsl_act_tag', 'caller', 'utterance_index', 'subutterance_index', 'text', 'pos', 'trees', 'ptb_treenumbers', 'talk_day', 'length', 'topic_description', 'prompt', 'from_caller', 'from_caller_sex', 'from_caller_education', 'from_caller_birth_year', 'from_caller_dialect_area', 'to_caller', 'to_caller_sex', 'to_caller_education', 'to_caller_birth_year', 'to_caller_dialect_area', 'speaker', 'label'],\n        num_rows: 56729\n    })\n    test: Dataset({\n        features: ['swda_filename', 'ptb_basename', 'conversation_no', 'transcript_index', 'act_tag', 'damsl_act_tag', 'caller', 'utterance_index', 'subutterance_index', 'text', 'pos', 'trees', 'ptb_treenumbers', 'talk_day', 'length', 'topic_description', 'prompt', 'from_caller', 'from_caller_sex', 'from_caller_education', 'from_caller_birth_year', 'from_caller_dialect_area', 'to_caller', 'to_caller_sex', 'to_caller_education', 'to_caller_birth_year', 'to_caller_dialect_area', 'speaker', 'label'],\n        num_rows: 4514\n    })\n})"
     },
     "metadata": {}
    }
   ]
  },
  {
   "cell_type": "code",
   "source": [
    "swda.remove_columns(['swda_filename', 'ptb_basename', 'conversation_no', 'transcript_index', 'act_tag', 'damsl_act_tag', 'caller', 'utterance_index', 'subutterance_index','pos', 'trees', 'ptb_treenumbers', 'talk_day', 'length', 'topic_description', 'prompt', 'from_caller', 'from_caller_sex', 'from_caller_education', 'from_caller_birth_year', 'from_caller_dialect_area', 'to_caller', 'to_caller_sex', 'to_caller_education', 'to_caller_birth_year', 'to_caller_dialect_area'])"
   ],
   "metadata": {
    "execution": {
     "iopub.status.busy": "2023-03-17T17:29:01.500268Z",
     "iopub.execute_input": "2023-03-17T17:29:01.501183Z",
     "iopub.status.idle": "2023-03-17T17:29:01.521700Z",
     "shell.execute_reply.started": "2023-03-17T17:29:01.501147Z",
     "shell.execute_reply": "2023-03-17T17:29:01.520720Z"
    },
    "trusted": true
   },
   "execution_count": 10,
   "outputs": [
    {
     "execution_count": 10,
     "output_type": "execute_result",
     "data": {
      "text/plain": "DatasetDict({\n    train: Dataset({\n        features: ['text', 'speaker', 'label'],\n        num_rows: 213543\n    })\n    validation: Dataset({\n        features: ['text', 'speaker', 'label'],\n        num_rows: 56729\n    })\n    test: Dataset({\n        features: ['text', 'speaker', 'label'],\n        num_rows: 4514\n    })\n})"
     },
     "metadata": {}
    }
   ]
  },
  {
   "cell_type": "code",
   "source": [
    "def map_speaker_to_int(data):\n",
    "    \"\"\"\n",
    "    This function maps the speaker information in an example to 0 or 1.\n",
    "    \"\"\"\n",
    "    # Get the caller information from the example\n",
    "    caller = data[\"caller\"]\n",
    "    \n",
    "    # Map the caller to 0 or 1\n",
    "    if caller == \"A\":\n",
    "        data[\"speaker\"] = 0\n",
    "    elif caller == \"B\":\n",
    "        data[\"speaker\"] = 1\n",
    "    \n",
    "    return data"
   ],
   "metadata": {
    "execution": {
     "iopub.status.busy": "2023-03-17T17:29:01.523169Z",
     "iopub.execute_input": "2023-03-17T17:29:01.523479Z",
     "iopub.status.idle": "2023-03-17T17:29:01.529737Z",
     "shell.execute_reply.started": "2023-03-17T17:29:01.523444Z",
     "shell.execute_reply": "2023-03-17T17:29:01.528610Z"
    },
    "trusted": true
   },
   "execution_count": 11,
   "outputs": []
  },
  {
   "cell_type": "code",
   "source": [
    "swda = swda.map(map_speaker_to_int)"
   ],
   "metadata": {
    "execution": {
     "iopub.status.busy": "2023-03-17T17:29:01.531453Z",
     "iopub.execute_input": "2023-03-17T17:29:01.531964Z",
     "iopub.status.idle": "2023-03-17T17:30:12.855884Z",
     "shell.execute_reply.started": "2023-03-17T17:29:01.531926Z",
     "shell.execute_reply": "2023-03-17T17:30:12.854948Z"
    },
    "trusted": true
   },
   "execution_count": 12,
   "outputs": [
    {
     "output_type": "display_data",
     "data": {
      "text/plain": "  0%|          | 0/213543 [00:00<?, ?ex/s]",
      "application/vnd.jupyter.widget-view+json": {
       "version_major": 2,
       "version_minor": 0,
       "model_id": "cefd768d9c2847c9bf570eb7a388c8ce"
      }
     },
     "metadata": {}
    },
    {
     "output_type": "display_data",
     "data": {
      "text/plain": "  0%|          | 0/56729 [00:00<?, ?ex/s]",
      "application/vnd.jupyter.widget-view+json": {
       "version_major": 2,
       "version_minor": 0,
       "model_id": "33446241f10f4dd0b7b098f45a4420d8"
      }
     },
     "metadata": {}
    },
    {
     "output_type": "display_data",
     "data": {
      "text/plain": "  0%|          | 0/4514 [00:00<?, ?ex/s]",
      "application/vnd.jupyter.widget-view+json": {
       "version_major": 2,
       "version_minor": 0,
       "model_id": "6851fe5663be4e4eb2d4e147e7972883"
      }
     },
     "metadata": {}
    }
   ]
  },
  {
   "cell_type": "code",
   "source": [
    "swda['train']['speaker'][0]"
   ],
   "metadata": {
    "execution": {
     "iopub.status.busy": "2023-03-17T17:30:12.857448Z",
     "iopub.execute_input": "2023-03-17T17:30:12.857825Z",
     "iopub.status.idle": "2023-03-17T17:30:12.942881Z",
     "shell.execute_reply.started": "2023-03-17T17:30:12.857771Z",
     "shell.execute_reply": "2023-03-17T17:30:12.941835Z"
    },
    "trusted": true
   },
   "execution_count": 13,
   "outputs": [
    {
     "execution_count": 13,
     "output_type": "execute_result",
     "data": {
      "text/plain": "0"
     },
     "metadata": {}
    }
   ]
  },
  {
   "cell_type": "markdown",
   "source": [
    "#### Tokenize utterances"
   ],
   "metadata": {}
  },
  {
   "cell_type": "code",
   "source": [
    "#swda = swda.map(lambda x: tokenizer(x['text'], padding='max_length', truncation=True), batched=True)"
   ],
   "metadata": {
    "execution": {
     "iopub.status.busy": "2023-03-17T17:30:12.944467Z",
     "iopub.execute_input": "2023-03-17T17:30:12.944863Z",
     "iopub.status.idle": "2023-03-17T17:30:12.949381Z",
     "shell.execute_reply.started": "2023-03-17T17:30:12.944825Z",
     "shell.execute_reply": "2023-03-17T17:30:12.948215Z"
    },
    "trusted": true
   },
   "execution_count": 14,
   "outputs": []
  },
  {
   "cell_type": "code",
   "source": [
    "# Tokenize the input and context\n",
    "tokenizer = BertTokenizer.from_pretrained('bert-base-uncased')"
   ],
   "metadata": {
    "execution": {
     "iopub.status.busy": "2023-03-17T17:30:12.951202Z",
     "iopub.execute_input": "2023-03-17T17:30:12.951552Z",
     "iopub.status.idle": "2023-03-17T17:30:20.208889Z",
     "shell.execute_reply.started": "2023-03-17T17:30:12.951515Z",
     "shell.execute_reply": "2023-03-17T17:30:20.207908Z"
    },
    "trusted": true
   },
   "execution_count": 15,
   "outputs": [
    {
     "output_type": "display_data",
     "data": {
      "text/plain": "Downloading (…)solve/main/vocab.txt:   0%|          | 0.00/232k [00:00<?, ?B/s]",
      "application/vnd.jupyter.widget-view+json": {
       "version_major": 2,
       "version_minor": 0,
       "model_id": "f21343a828eb4699aa601f5f50e6b8fa"
      }
     },
     "metadata": {}
    },
    {
     "output_type": "display_data",
     "data": {
      "text/plain": "Downloading (…)okenizer_config.json:   0%|          | 0.00/28.0 [00:00<?, ?B/s]",
      "application/vnd.jupyter.widget-view+json": {
       "version_major": 2,
       "version_minor": 0,
       "model_id": "dde76e58a773492fa677aa7d7e231115"
      }
     },
     "metadata": {}
    },
    {
     "output_type": "display_data",
     "data": {
      "text/plain": "Downloading (…)lve/main/config.json:   0%|          | 0.00/570 [00:00<?, ?B/s]",
      "application/vnd.jupyter.widget-view+json": {
       "version_major": 2,
       "version_minor": 0,
       "model_id": "2be6dad74d8642a48ff6d061cef3e2c0"
      }
     },
     "metadata": {}
    }
   ]
  },
  {
   "cell_type": "code",
   "source": [
    "import torch\n",
    "from torch.utils.data import DataLoader, Dataset\n",
    "\n",
    "\n",
    "class SWDADataset(Dataset):\n",
    "    def __init__(self, swda, tokenizer, max_seq_length):\n",
    "        self.swda = swda\n",
    "        self.tokenizer = tokenizer\n",
    "        self.max_seq_length = max_seq_length\n",
    "\n",
    "    def __len__(self):\n",
    "        return len(self.swda)\n",
    "\n",
    "    def __getitem__(self, index):\n",
    "        # Get input text and speaker\n",
    "        input_text = self.tokenizer.encode_plus(\n",
    "            self.swda[index]['text'],\n",
    "            add_special_tokens=True,\n",
    "            max_length=self.max_seq_length,\n",
    "            padding='max_length',\n",
    "            truncation=True,\n",
    "            return_tensors='pt'\n",
    "        )\n",
    "        speaker = self.swda[index]['speaker']\n",
    "        \n",
    "        # Get context and speaker\n",
    "        if index > 0 and self.swda[index]['conversation_no'] == self.swda[index-1]['conversation_no']:\n",
    "            context = self.swda[index-1]\n",
    "            prev_speaker = self.swda[index-1]['speaker']\n",
    "        else:\n",
    "            context = self.swda[index]\n",
    "            prev_speaker = self.swda[index]['speaker']\n",
    "        context = self.tokenizer.encode_plus(\n",
    "            context['text'],\n",
    "            add_special_tokens=True,\n",
    "            max_length=self.max_seq_length,\n",
    "            padding='max_length',\n",
    "            truncation=True,\n",
    "            return_tensors='pt'\n",
    "        )\n",
    "\n",
    "\n",
    "        # Get label\n",
    "        label = self.swda[index]['label']\n",
    "        \n",
    "        return input_text, context, (prev_speaker, speaker), label\n",
    "\n",
    "\n",
    "# Create the train loader\n",
    "train_dataset = SWDADataset(swda['train'], tokenizer, max_seq_length=128)\n",
    "val_dataset = SWDADataset(swda['validation'], tokenizer, max_seq_length=128)\n",
    "\n",
    "train_loader = DataLoader(train_dataset, batch_size=128, shuffle=True)\n",
    "val_loader= DataLoader(val_dataset, batch_size=128, shuffle=True)"
   ],
   "metadata": {
    "execution": {
     "iopub.status.busy": "2023-03-17T17:30:20.210354Z",
     "iopub.execute_input": "2023-03-17T17:30:20.210958Z",
     "iopub.status.idle": "2023-03-17T17:30:20.222664Z",
     "shell.execute_reply.started": "2023-03-17T17:30:20.210899Z",
     "shell.execute_reply": "2023-03-17T17:30:20.221341Z"
    },
    "trusted": true
   },
   "execution_count": 16,
   "outputs": []
  },
  {
   "cell_type": "markdown",
   "source": [
    "### GRU encoder with speaker"
   ],
   "metadata": {}
  },
  {
   "cell_type": "code",
   "source": [
    "device = torch.device(\"cuda\" if torch.cuda.is_available() else \"cpu\")"
   ],
   "metadata": {
    "execution": {
     "iopub.status.busy": "2023-03-17T17:30:20.224268Z",
     "iopub.execute_input": "2023-03-17T17:30:20.224979Z",
     "iopub.status.idle": "2023-03-17T17:30:20.283357Z",
     "shell.execute_reply.started": "2023-03-17T17:30:20.224914Z",
     "shell.execute_reply": "2023-03-17T17:30:20.282198Z"
    },
    "trusted": true
   },
   "execution_count": 17,
   "outputs": []
  },
  {
   "cell_type": "code",
   "source": [
    "# Define the model architecture\n",
    "# Define model architecture\n",
    "class RNN(nn.Module):\n",
    "    def __init__(self, hidden_size,num_speakers, num_classes):\n",
    "        super(RNN, self).__init__()\n",
    "        self.bert = BertModel.from_pretrained('bert-base-uncased')\n",
    "        for param in self.bert.parameters():\n",
    "            param.requires_grad = False\n",
    "        self.rnn = nn.GRU(input_size=768, hidden_size=hidden_size, batch_first=True)\n",
    "        self.speaker_embedding = nn.Embedding(num_speakers,768)\n",
    "        self.fc1 = nn.Linear(hidden_size, hidden_size)\n",
    "        self.fc2 = nn.Linear(hidden_size * 2, num_classes)\n",
    "\n",
    "    def forward(self, input_text,speaker_ids, context):\n",
    "        input_ids = input_text['input_ids'].to(device)\n",
    "        attention_mask = input_text['attention_mask'].to(device)\n",
    "        context_ids = context['input_ids'].to(device)\n",
    "        prev_speakers = speaker_ids[0].to(device)\n",
    "        speakers = speaker_ids[1].to(device)\n",
    "        context_mask = context['attention_mask'].to(device)\n",
    "        \n",
    "        prev_speaker_embeddings = self.speaker_embedding(prev_speakers)\n",
    "        speaker_embeddings = self.speaker_embedding(speakers)\n",
    "\n",
    "        #tot_speakers_embeddings = prev_speaker_embeddings + speaker_embeddings\n",
    "        \n",
    "        outputs = self.bert(input_ids=input_ids, attention_mask=attention_mask, return_dict=True)\n",
    "        pooled_output = outputs.pooler_output\n",
    "        \n",
    "        #pooled_output = torch.cat((pooled_output,speaker_embeddings),dim=0)\n",
    "        pooled_output = pooled_output + speaker_embeddings\n",
    "        \n",
    "        context_outputs = self.bert(input_ids=context_ids, attention_mask=context_mask, return_dict=True)\n",
    "        pooled_context_output = context_outputs.pooler_output\n",
    "        \n",
    "        #pooled_context_output = torch.cat((pooled_context_output,prev_speaker_embeddings), dim=0)\n",
    "        pooled_context_output = pooled_context_output + prev_speaker_embeddings\n",
    "        \n",
    "        \n",
    "        \n",
    "        output, _ = self.rnn(pooled_output.unsqueeze(1))\n",
    "        context_output, _ = self.rnn(pooled_context_output.unsqueeze(1))\n",
    "        output = self.fc1(output)\n",
    "        output = torch.cat((output.squeeze(1), context_output.squeeze(1)), dim=1)\n",
    "        output = self.fc2(output)\n",
    "        return output\n",
    "\n",
    "# Instantiate the model\n",
    "# Instantiate model and move it to device\n",
    "model = RNN(hidden_size=256,num_speakers = 2, num_classes=43)\n",
    "model = model.to(device)"
   ],
   "metadata": {
    "execution": {
     "iopub.status.busy": "2023-03-17T17:31:17.090981Z",
     "iopub.execute_input": "2023-03-17T17:31:17.091875Z",
     "iopub.status.idle": "2023-03-17T17:31:43.842648Z",
     "shell.execute_reply.started": "2023-03-17T17:31:17.091822Z",
     "shell.execute_reply": "2023-03-17T17:31:43.841634Z"
    },
    "trusted": true
   },
   "execution_count": 19,
   "outputs": [
    {
     "output_type": "display_data",
     "data": {
      "text/plain": "Downloading (…)\"pytorch_model.bin\";:   0%|          | 0.00/440M [00:00<?, ?B/s]",
      "application/vnd.jupyter.widget-view+json": {
       "version_major": 2,
       "version_minor": 0,
       "model_id": "812ce73e5cc04f3aa38c1e4ce221a8dc"
      }
     },
     "metadata": {}
    },
    {
     "name": "stderr",
     "text": "Some weights of the model checkpoint at bert-base-uncased were not used when initializing BertModel: ['cls.predictions.transform.dense.bias', 'cls.predictions.decoder.weight', 'cls.predictions.transform.LayerNorm.weight', 'cls.predictions.bias', 'cls.seq_relationship.bias', 'cls.predictions.transform.LayerNorm.bias', 'cls.predictions.transform.dense.weight', 'cls.seq_relationship.weight']\n- This IS expected if you are initializing BertModel from the checkpoint of a model trained on another task or with another architecture (e.g. initializing a BertForSequenceClassification model from a BertForPreTraining model).\n- This IS NOT expected if you are initializing BertModel from the checkpoint of a model that you expect to be exactly identical (initializing a BertForSequenceClassification model from a BertForSequenceClassification model).\n",
     "output_type": "stream"
    }
   ]
  },
  {
   "cell_type": "code",
   "source": [
    "# Define loss function and optimizer\n",
    "criterion = nn.CrossEntropyLoss()\n",
    "optimizer = torch.optim.Adam(model.parameters(), lr=1e-3)"
   ],
   "metadata": {
    "execution": {
     "iopub.status.busy": "2023-03-17T17:36:46.469387Z",
     "iopub.execute_input": "2023-03-17T17:36:46.470322Z",
     "iopub.status.idle": "2023-03-17T17:36:46.477253Z",
     "shell.execute_reply.started": "2023-03-17T17:36:46.470267Z",
     "shell.execute_reply": "2023-03-17T17:36:46.475944Z"
    },
    "trusted": true
   },
   "execution_count": 31,
   "outputs": []
  },
  {
   "cell_type": "markdown",
   "source": [
    "#### Model training"
   ],
   "metadata": {}
  },
  {
   "cell_type": "code",
   "source": [
    "\n",
    "num_epochs = 10\n",
    "train_losses = []\n",
    "val_losses = []\n",
    "\n",
    "train_accuracies = []\n",
    "val_accuracies = []\n",
    "\n",
    "train_preds = []\n",
    "val_preds = []\n",
    "train_labels = []\n",
    "val_labels = []\n",
    "\n",
    "for epoch in range(num_epochs):\n",
    "    epoch_loss = 0\n",
    "    epoch_acc = 0\n",
    "\n",
    "    model.train()\n",
    "\n",
    "    for i, (input_text, context, speakers, labels) in enumerate(train_loader):\n",
    "        optimizer.zero_grad()\n",
    "\n",
    "        input_text = {\n",
    "            'input_ids': input_text['input_ids'].squeeze(1),\n",
    "            'attention_mask': input_text['attention_mask'].squeeze(1),\n",
    "            'token_type_ids': input_text['token_type_ids'].squeeze(1)\n",
    "        }\n",
    "        context = {\n",
    "            'input_ids': context['input_ids'].squeeze(1),\n",
    "            'attention_mask': context['attention_mask'].squeeze(1),\n",
    "            'token_type_ids': context['token_type_ids'].squeeze(1)\n",
    "        }\n",
    "        labels = labels.to(device)\n",
    "        output = model(input_text,speakers, context)\n",
    "        loss = criterion(output, labels)\n",
    "\n",
    "        loss.backward()\n",
    "        optimizer.step()\n",
    "\n",
    "        epoch_loss += loss.item() * input_text[\"input_ids\"].size(0)\n",
    "\n",
    "        # Compute accuracy for this batch\n",
    "        predicted_labels = output.argmax(dim=1)\n",
    "        num_correct = (predicted_labels == labels).sum().item()\n",
    "        acc = num_correct / len(labels)\n",
    "        epoch_acc += acc\n",
    "\n",
    "        train_preds.extend(predicted_labels.cpu().numpy())\n",
    "        train_labels.extend(labels.cpu().numpy())\n",
    "\n",
    "        if (i+1) % 10 == 0:\n",
    "            print(f'Epoch [{epoch+1}/{num_epochs}], Step [{i+1}/{len(train_loader)}], Train Loss: {loss.item():.4f}')\n",
    "\n",
    "    # Compute average loss and accuracy for epoch\n",
    "    epoch_loss /= len(train_loader)\n",
    "    epoch_acc /= len(train_loader)\n",
    "    train_losses.append(epoch_loss)\n",
    "    train_accuracies.append(epoch_acc)\n",
    "\n",
    "\n",
    "    # Compute validation loss and accuracy\n",
    "    model.eval()\n",
    "    val_loss = 0\n",
    "    val_acc = 0\n",
    "    with torch.no_grad():\n",
    "        for input_text, context, speakers, labels in val_loader:\n",
    "            input_text = {\n",
    "                'input_ids': input_text['input_ids'].squeeze(1),\n",
    "                'attention_mask': input_text['attention_mask'].squeeze(1),\n",
    "                'token_type_ids': input_text['token_type_ids'].squeeze(1)\n",
    "            }\n",
    "            context = {\n",
    "                'input_ids': context['input_ids'].squeeze(1),\n",
    "                'attention_mask': context['attention_mask'].squeeze(1),\n",
    "                'token_type_ids': context['token_type_ids'].squeeze(1)\n",
    "            }\n",
    "            labels = labels.to(device)\n",
    "            output = model(input_text, speakers, context)\n",
    "            loss = criterion(output, labels)\n",
    "            val_loss += loss.item() * input_text[\"input_ids\"].size(0)\n",
    "\n",
    "            # Compute accuracy for this batch\n",
    "            predicted_labels = output.argmax(dim=1)\n",
    "            num_correct = (predicted_labels == labels).sum().item()\n",
    "            acc = num_correct / len(labels)\n",
    "            val_acc += acc\n",
    "\n",
    "            val_preds.extend(predicted_labels.cpu().numpy())\n",
    "            val_labels.extend(labels.cpu().numpy())\n",
    "\n",
    "    val_loss /= len(val_loader)\n",
    "    val_losses.append(val_loss)\n",
    "    val_acc /= len(val_loader)\n",
    "    val_accuracies.append(val_acc)\n",
    "    print(f'Epoch {epoch+1}/{num_epochs}, Train Loss: {epoch_loss:.4f}, Train Accuracy: {epoch_acc:.4f}, Val Loss: {val_loss:.4f}, Val Accuracy: {val_acc:.4f}')\n"
   ],
   "metadata": {
    "execution": {
     "iopub.status.busy": "2023-03-17T11:53:13.546582Z",
     "iopub.execute_input": "2023-03-17T11:53:13.547452Z",
     "iopub.status.idle": "2023-03-17T11:53:52.259177Z",
     "shell.execute_reply.started": "2023-03-17T11:53:13.547378Z",
     "shell.execute_reply": "2023-03-17T11:53:52.257362Z"
    },
    "trusted": true
   },
   "execution_count": 24,
   "outputs": [
    {
     "traceback": [
      "\u001B[0;31m---------------------------------------------------------------------------\u001B[0m",
      "\u001B[0;31mKeyboardInterrupt\u001B[0m                         Traceback (most recent call last)",
      "\u001B[0;32m/tmp/ipykernel_27/3114779430.py\u001B[0m in \u001B[0;36m<module>\u001B[0;34m\u001B[0m\n\u001B[1;32m     31\u001B[0m         }\n\u001B[1;32m     32\u001B[0m         \u001B[0mlabels\u001B[0m \u001B[0;34m=\u001B[0m \u001B[0mlabels\u001B[0m\u001B[0;34m.\u001B[0m\u001B[0mto\u001B[0m\u001B[0;34m(\u001B[0m\u001B[0mdevice\u001B[0m\u001B[0;34m)\u001B[0m\u001B[0;34m\u001B[0m\u001B[0;34m\u001B[0m\u001B[0m\n\u001B[0;32m---> 33\u001B[0;31m         \u001B[0moutput\u001B[0m \u001B[0;34m=\u001B[0m \u001B[0mmodel\u001B[0m\u001B[0;34m(\u001B[0m\u001B[0minput_text\u001B[0m\u001B[0;34m,\u001B[0m\u001B[0mspeakers\u001B[0m\u001B[0;34m,\u001B[0m \u001B[0mcontext\u001B[0m\u001B[0;34m)\u001B[0m\u001B[0;34m\u001B[0m\u001B[0;34m\u001B[0m\u001B[0m\n\u001B[0m\u001B[1;32m     34\u001B[0m         \u001B[0mloss\u001B[0m \u001B[0;34m=\u001B[0m \u001B[0mcriterion\u001B[0m\u001B[0;34m(\u001B[0m\u001B[0moutput\u001B[0m\u001B[0;34m,\u001B[0m \u001B[0mlabels\u001B[0m\u001B[0;34m)\u001B[0m\u001B[0;34m\u001B[0m\u001B[0;34m\u001B[0m\u001B[0m\n\u001B[1;32m     35\u001B[0m \u001B[0;34m\u001B[0m\u001B[0m\n",
      "\u001B[0;32m/opt/conda/lib/python3.7/site-packages/torch/nn/modules/module.py\u001B[0m in \u001B[0;36m_call_impl\u001B[0;34m(self, *input, **kwargs)\u001B[0m\n\u001B[1;32m   1188\u001B[0m         if not (self._backward_hooks or self._forward_hooks or self._forward_pre_hooks or _global_backward_hooks\n\u001B[1;32m   1189\u001B[0m                 or _global_forward_hooks or _global_forward_pre_hooks):\n\u001B[0;32m-> 1190\u001B[0;31m             \u001B[0;32mreturn\u001B[0m \u001B[0mforward_call\u001B[0m\u001B[0;34m(\u001B[0m\u001B[0;34m*\u001B[0m\u001B[0minput\u001B[0m\u001B[0;34m,\u001B[0m \u001B[0;34m**\u001B[0m\u001B[0mkwargs\u001B[0m\u001B[0;34m)\u001B[0m\u001B[0;34m\u001B[0m\u001B[0;34m\u001B[0m\u001B[0m\n\u001B[0m\u001B[1;32m   1191\u001B[0m         \u001B[0;31m# Do not call functions when jit is used\u001B[0m\u001B[0;34m\u001B[0m\u001B[0;34m\u001B[0m\u001B[0;34m\u001B[0m\u001B[0m\n\u001B[1;32m   1192\u001B[0m         \u001B[0mfull_backward_hooks\u001B[0m\u001B[0;34m,\u001B[0m \u001B[0mnon_full_backward_hooks\u001B[0m \u001B[0;34m=\u001B[0m \u001B[0;34m[\u001B[0m\u001B[0;34m]\u001B[0m\u001B[0;34m,\u001B[0m \u001B[0;34m[\u001B[0m\u001B[0;34m]\u001B[0m\u001B[0;34m\u001B[0m\u001B[0;34m\u001B[0m\u001B[0m\n",
      "\u001B[0;32m/tmp/ipykernel_27/943267985.py\u001B[0m in \u001B[0;36mforward\u001B[0;34m(self, input_text, speaker_ids, context)\u001B[0m\n\u001B[1;32m     31\u001B[0m         \u001B[0mpooled_output\u001B[0m \u001B[0;34m=\u001B[0m \u001B[0mpooled_output\u001B[0m \u001B[0;34m+\u001B[0m \u001B[0mspeaker_embeddings\u001B[0m\u001B[0;34m\u001B[0m\u001B[0;34m\u001B[0m\u001B[0m\n\u001B[1;32m     32\u001B[0m \u001B[0;34m\u001B[0m\u001B[0m\n\u001B[0;32m---> 33\u001B[0;31m         \u001B[0mcontext_outputs\u001B[0m \u001B[0;34m=\u001B[0m \u001B[0mself\u001B[0m\u001B[0;34m.\u001B[0m\u001B[0mbert\u001B[0m\u001B[0;34m(\u001B[0m\u001B[0minput_ids\u001B[0m\u001B[0;34m=\u001B[0m\u001B[0mcontext_ids\u001B[0m\u001B[0;34m,\u001B[0m \u001B[0mattention_mask\u001B[0m\u001B[0;34m=\u001B[0m\u001B[0mcontext_mask\u001B[0m\u001B[0;34m,\u001B[0m \u001B[0mreturn_dict\u001B[0m\u001B[0;34m=\u001B[0m\u001B[0;32mTrue\u001B[0m\u001B[0;34m)\u001B[0m\u001B[0;34m\u001B[0m\u001B[0;34m\u001B[0m\u001B[0m\n\u001B[0m\u001B[1;32m     34\u001B[0m         \u001B[0mpooled_context_output\u001B[0m \u001B[0;34m=\u001B[0m \u001B[0mcontext_outputs\u001B[0m\u001B[0;34m.\u001B[0m\u001B[0mpooler_output\u001B[0m\u001B[0;34m\u001B[0m\u001B[0;34m\u001B[0m\u001B[0m\n\u001B[1;32m     35\u001B[0m \u001B[0;34m\u001B[0m\u001B[0m\n",
      "\u001B[0;32m/opt/conda/lib/python3.7/site-packages/torch/nn/modules/module.py\u001B[0m in \u001B[0;36m_call_impl\u001B[0;34m(self, *input, **kwargs)\u001B[0m\n\u001B[1;32m   1188\u001B[0m         if not (self._backward_hooks or self._forward_hooks or self._forward_pre_hooks or _global_backward_hooks\n\u001B[1;32m   1189\u001B[0m                 or _global_forward_hooks or _global_forward_pre_hooks):\n\u001B[0;32m-> 1190\u001B[0;31m             \u001B[0;32mreturn\u001B[0m \u001B[0mforward_call\u001B[0m\u001B[0;34m(\u001B[0m\u001B[0;34m*\u001B[0m\u001B[0minput\u001B[0m\u001B[0;34m,\u001B[0m \u001B[0;34m**\u001B[0m\u001B[0mkwargs\u001B[0m\u001B[0;34m)\u001B[0m\u001B[0;34m\u001B[0m\u001B[0;34m\u001B[0m\u001B[0m\n\u001B[0m\u001B[1;32m   1191\u001B[0m         \u001B[0;31m# Do not call functions when jit is used\u001B[0m\u001B[0;34m\u001B[0m\u001B[0;34m\u001B[0m\u001B[0;34m\u001B[0m\u001B[0m\n\u001B[1;32m   1192\u001B[0m         \u001B[0mfull_backward_hooks\u001B[0m\u001B[0;34m,\u001B[0m \u001B[0mnon_full_backward_hooks\u001B[0m \u001B[0;34m=\u001B[0m \u001B[0;34m[\u001B[0m\u001B[0;34m]\u001B[0m\u001B[0;34m,\u001B[0m \u001B[0;34m[\u001B[0m\u001B[0;34m]\u001B[0m\u001B[0;34m\u001B[0m\u001B[0;34m\u001B[0m\u001B[0m\n",
      "\u001B[0;32m/opt/conda/lib/python3.7/site-packages/transformers/models/bert/modeling_bert.py\u001B[0m in \u001B[0;36mforward\u001B[0;34m(self, input_ids, attention_mask, token_type_ids, position_ids, head_mask, inputs_embeds, encoder_hidden_states, encoder_attention_mask, past_key_values, use_cache, output_attentions, output_hidden_states, return_dict)\u001B[0m\n\u001B[1;32m   1027\u001B[0m             \u001B[0moutput_attentions\u001B[0m\u001B[0;34m=\u001B[0m\u001B[0moutput_attentions\u001B[0m\u001B[0;34m,\u001B[0m\u001B[0;34m\u001B[0m\u001B[0;34m\u001B[0m\u001B[0m\n\u001B[1;32m   1028\u001B[0m             \u001B[0moutput_hidden_states\u001B[0m\u001B[0;34m=\u001B[0m\u001B[0moutput_hidden_states\u001B[0m\u001B[0;34m,\u001B[0m\u001B[0;34m\u001B[0m\u001B[0;34m\u001B[0m\u001B[0m\n\u001B[0;32m-> 1029\u001B[0;31m             \u001B[0mreturn_dict\u001B[0m\u001B[0;34m=\u001B[0m\u001B[0mreturn_dict\u001B[0m\u001B[0;34m,\u001B[0m\u001B[0;34m\u001B[0m\u001B[0;34m\u001B[0m\u001B[0m\n\u001B[0m\u001B[1;32m   1030\u001B[0m         )\n\u001B[1;32m   1031\u001B[0m         \u001B[0msequence_output\u001B[0m \u001B[0;34m=\u001B[0m \u001B[0mencoder_outputs\u001B[0m\u001B[0;34m[\u001B[0m\u001B[0;36m0\u001B[0m\u001B[0;34m]\u001B[0m\u001B[0;34m\u001B[0m\u001B[0;34m\u001B[0m\u001B[0m\n",
      "\u001B[0;32m/opt/conda/lib/python3.7/site-packages/torch/nn/modules/module.py\u001B[0m in \u001B[0;36m_call_impl\u001B[0;34m(self, *input, **kwargs)\u001B[0m\n\u001B[1;32m   1188\u001B[0m         if not (self._backward_hooks or self._forward_hooks or self._forward_pre_hooks or _global_backward_hooks\n\u001B[1;32m   1189\u001B[0m                 or _global_forward_hooks or _global_forward_pre_hooks):\n\u001B[0;32m-> 1190\u001B[0;31m             \u001B[0;32mreturn\u001B[0m \u001B[0mforward_call\u001B[0m\u001B[0;34m(\u001B[0m\u001B[0;34m*\u001B[0m\u001B[0minput\u001B[0m\u001B[0;34m,\u001B[0m \u001B[0;34m**\u001B[0m\u001B[0mkwargs\u001B[0m\u001B[0;34m)\u001B[0m\u001B[0;34m\u001B[0m\u001B[0;34m\u001B[0m\u001B[0m\n\u001B[0m\u001B[1;32m   1191\u001B[0m         \u001B[0;31m# Do not call functions when jit is used\u001B[0m\u001B[0;34m\u001B[0m\u001B[0;34m\u001B[0m\u001B[0;34m\u001B[0m\u001B[0m\n\u001B[1;32m   1192\u001B[0m         \u001B[0mfull_backward_hooks\u001B[0m\u001B[0;34m,\u001B[0m \u001B[0mnon_full_backward_hooks\u001B[0m \u001B[0;34m=\u001B[0m \u001B[0;34m[\u001B[0m\u001B[0;34m]\u001B[0m\u001B[0;34m,\u001B[0m \u001B[0;34m[\u001B[0m\u001B[0;34m]\u001B[0m\u001B[0;34m\u001B[0m\u001B[0;34m\u001B[0m\u001B[0m\n",
      "\u001B[0;32m/opt/conda/lib/python3.7/site-packages/transformers/models/bert/modeling_bert.py\u001B[0m in \u001B[0;36mforward\u001B[0;34m(self, hidden_states, attention_mask, head_mask, encoder_hidden_states, encoder_attention_mask, past_key_values, use_cache, output_attentions, output_hidden_states, return_dict)\u001B[0m\n\u001B[1;32m    614\u001B[0m                     \u001B[0mencoder_attention_mask\u001B[0m\u001B[0;34m,\u001B[0m\u001B[0;34m\u001B[0m\u001B[0;34m\u001B[0m\u001B[0m\n\u001B[1;32m    615\u001B[0m                     \u001B[0mpast_key_value\u001B[0m\u001B[0;34m,\u001B[0m\u001B[0;34m\u001B[0m\u001B[0;34m\u001B[0m\u001B[0m\n\u001B[0;32m--> 616\u001B[0;31m                     \u001B[0moutput_attentions\u001B[0m\u001B[0;34m,\u001B[0m\u001B[0;34m\u001B[0m\u001B[0;34m\u001B[0m\u001B[0m\n\u001B[0m\u001B[1;32m    617\u001B[0m                 )\n\u001B[1;32m    618\u001B[0m \u001B[0;34m\u001B[0m\u001B[0m\n",
      "\u001B[0;32m/opt/conda/lib/python3.7/site-packages/torch/nn/modules/module.py\u001B[0m in \u001B[0;36m_call_impl\u001B[0;34m(self, *input, **kwargs)\u001B[0m\n\u001B[1;32m   1188\u001B[0m         if not (self._backward_hooks or self._forward_hooks or self._forward_pre_hooks or _global_backward_hooks\n\u001B[1;32m   1189\u001B[0m                 or _global_forward_hooks or _global_forward_pre_hooks):\n\u001B[0;32m-> 1190\u001B[0;31m             \u001B[0;32mreturn\u001B[0m \u001B[0mforward_call\u001B[0m\u001B[0;34m(\u001B[0m\u001B[0;34m*\u001B[0m\u001B[0minput\u001B[0m\u001B[0;34m,\u001B[0m \u001B[0;34m**\u001B[0m\u001B[0mkwargs\u001B[0m\u001B[0;34m)\u001B[0m\u001B[0;34m\u001B[0m\u001B[0;34m\u001B[0m\u001B[0m\n\u001B[0m\u001B[1;32m   1191\u001B[0m         \u001B[0;31m# Do not call functions when jit is used\u001B[0m\u001B[0;34m\u001B[0m\u001B[0;34m\u001B[0m\u001B[0;34m\u001B[0m\u001B[0m\n\u001B[1;32m   1192\u001B[0m         \u001B[0mfull_backward_hooks\u001B[0m\u001B[0;34m,\u001B[0m \u001B[0mnon_full_backward_hooks\u001B[0m \u001B[0;34m=\u001B[0m \u001B[0;34m[\u001B[0m\u001B[0;34m]\u001B[0m\u001B[0;34m,\u001B[0m \u001B[0;34m[\u001B[0m\u001B[0;34m]\u001B[0m\u001B[0;34m\u001B[0m\u001B[0;34m\u001B[0m\u001B[0m\n",
      "\u001B[0;32m/opt/conda/lib/python3.7/site-packages/transformers/models/bert/modeling_bert.py\u001B[0m in \u001B[0;36mforward\u001B[0;34m(self, hidden_states, attention_mask, head_mask, encoder_hidden_states, encoder_attention_mask, past_key_value, output_attentions)\u001B[0m\n\u001B[1;32m    498\u001B[0m             \u001B[0mhead_mask\u001B[0m\u001B[0;34m,\u001B[0m\u001B[0;34m\u001B[0m\u001B[0;34m\u001B[0m\u001B[0m\n\u001B[1;32m    499\u001B[0m             \u001B[0moutput_attentions\u001B[0m\u001B[0;34m=\u001B[0m\u001B[0moutput_attentions\u001B[0m\u001B[0;34m,\u001B[0m\u001B[0;34m\u001B[0m\u001B[0;34m\u001B[0m\u001B[0m\n\u001B[0;32m--> 500\u001B[0;31m             \u001B[0mpast_key_value\u001B[0m\u001B[0;34m=\u001B[0m\u001B[0mself_attn_past_key_value\u001B[0m\u001B[0;34m,\u001B[0m\u001B[0;34m\u001B[0m\u001B[0;34m\u001B[0m\u001B[0m\n\u001B[0m\u001B[1;32m    501\u001B[0m         )\n\u001B[1;32m    502\u001B[0m         \u001B[0mattention_output\u001B[0m \u001B[0;34m=\u001B[0m \u001B[0mself_attention_outputs\u001B[0m\u001B[0;34m[\u001B[0m\u001B[0;36m0\u001B[0m\u001B[0;34m]\u001B[0m\u001B[0;34m\u001B[0m\u001B[0;34m\u001B[0m\u001B[0m\n",
      "\u001B[0;32m/opt/conda/lib/python3.7/site-packages/torch/nn/modules/module.py\u001B[0m in \u001B[0;36m_call_impl\u001B[0;34m(self, *input, **kwargs)\u001B[0m\n\u001B[1;32m   1188\u001B[0m         if not (self._backward_hooks or self._forward_hooks or self._forward_pre_hooks or _global_backward_hooks\n\u001B[1;32m   1189\u001B[0m                 or _global_forward_hooks or _global_forward_pre_hooks):\n\u001B[0;32m-> 1190\u001B[0;31m             \u001B[0;32mreturn\u001B[0m \u001B[0mforward_call\u001B[0m\u001B[0;34m(\u001B[0m\u001B[0;34m*\u001B[0m\u001B[0minput\u001B[0m\u001B[0;34m,\u001B[0m \u001B[0;34m**\u001B[0m\u001B[0mkwargs\u001B[0m\u001B[0;34m)\u001B[0m\u001B[0;34m\u001B[0m\u001B[0;34m\u001B[0m\u001B[0m\n\u001B[0m\u001B[1;32m   1191\u001B[0m         \u001B[0;31m# Do not call functions when jit is used\u001B[0m\u001B[0;34m\u001B[0m\u001B[0;34m\u001B[0m\u001B[0;34m\u001B[0m\u001B[0m\n\u001B[1;32m   1192\u001B[0m         \u001B[0mfull_backward_hooks\u001B[0m\u001B[0;34m,\u001B[0m \u001B[0mnon_full_backward_hooks\u001B[0m \u001B[0;34m=\u001B[0m \u001B[0;34m[\u001B[0m\u001B[0;34m]\u001B[0m\u001B[0;34m,\u001B[0m \u001B[0;34m[\u001B[0m\u001B[0;34m]\u001B[0m\u001B[0;34m\u001B[0m\u001B[0;34m\u001B[0m\u001B[0m\n",
      "\u001B[0;32m/opt/conda/lib/python3.7/site-packages/transformers/models/bert/modeling_bert.py\u001B[0m in \u001B[0;36mforward\u001B[0;34m(self, hidden_states, attention_mask, head_mask, encoder_hidden_states, encoder_attention_mask, past_key_value, output_attentions)\u001B[0m\n\u001B[1;32m    430\u001B[0m             \u001B[0mencoder_attention_mask\u001B[0m\u001B[0;34m,\u001B[0m\u001B[0;34m\u001B[0m\u001B[0;34m\u001B[0m\u001B[0m\n\u001B[1;32m    431\u001B[0m             \u001B[0mpast_key_value\u001B[0m\u001B[0;34m,\u001B[0m\u001B[0;34m\u001B[0m\u001B[0;34m\u001B[0m\u001B[0m\n\u001B[0;32m--> 432\u001B[0;31m             \u001B[0moutput_attentions\u001B[0m\u001B[0;34m,\u001B[0m\u001B[0;34m\u001B[0m\u001B[0;34m\u001B[0m\u001B[0m\n\u001B[0m\u001B[1;32m    433\u001B[0m         )\n\u001B[1;32m    434\u001B[0m         \u001B[0mattention_output\u001B[0m \u001B[0;34m=\u001B[0m \u001B[0mself\u001B[0m\u001B[0;34m.\u001B[0m\u001B[0moutput\u001B[0m\u001B[0;34m(\u001B[0m\u001B[0mself_outputs\u001B[0m\u001B[0;34m[\u001B[0m\u001B[0;36m0\u001B[0m\u001B[0;34m]\u001B[0m\u001B[0;34m,\u001B[0m \u001B[0mhidden_states\u001B[0m\u001B[0;34m)\u001B[0m\u001B[0;34m\u001B[0m\u001B[0;34m\u001B[0m\u001B[0m\n",
      "\u001B[0;32m/opt/conda/lib/python3.7/site-packages/torch/nn/modules/module.py\u001B[0m in \u001B[0;36m_call_impl\u001B[0;34m(self, *input, **kwargs)\u001B[0m\n\u001B[1;32m   1188\u001B[0m         if not (self._backward_hooks or self._forward_hooks or self._forward_pre_hooks or _global_backward_hooks\n\u001B[1;32m   1189\u001B[0m                 or _global_forward_hooks or _global_forward_pre_hooks):\n\u001B[0;32m-> 1190\u001B[0;31m             \u001B[0;32mreturn\u001B[0m \u001B[0mforward_call\u001B[0m\u001B[0;34m(\u001B[0m\u001B[0;34m*\u001B[0m\u001B[0minput\u001B[0m\u001B[0;34m,\u001B[0m \u001B[0;34m**\u001B[0m\u001B[0mkwargs\u001B[0m\u001B[0;34m)\u001B[0m\u001B[0;34m\u001B[0m\u001B[0;34m\u001B[0m\u001B[0m\n\u001B[0m\u001B[1;32m   1191\u001B[0m         \u001B[0;31m# Do not call functions when jit is used\u001B[0m\u001B[0;34m\u001B[0m\u001B[0;34m\u001B[0m\u001B[0;34m\u001B[0m\u001B[0m\n\u001B[1;32m   1192\u001B[0m         \u001B[0mfull_backward_hooks\u001B[0m\u001B[0;34m,\u001B[0m \u001B[0mnon_full_backward_hooks\u001B[0m \u001B[0;34m=\u001B[0m \u001B[0;34m[\u001B[0m\u001B[0;34m]\u001B[0m\u001B[0;34m,\u001B[0m \u001B[0;34m[\u001B[0m\u001B[0;34m]\u001B[0m\u001B[0;34m\u001B[0m\u001B[0;34m\u001B[0m\u001B[0m\n",
      "\u001B[0;32m/opt/conda/lib/python3.7/site-packages/transformers/models/bert/modeling_bert.py\u001B[0m in \u001B[0;36mforward\u001B[0;34m(self, hidden_states, attention_mask, head_mask, encoder_hidden_states, encoder_attention_mask, past_key_value, output_attentions)\u001B[0m\n\u001B[1;32m    304\u001B[0m             \u001B[0mvalue_layer\u001B[0m \u001B[0;34m=\u001B[0m \u001B[0mtorch\u001B[0m\u001B[0;34m.\u001B[0m\u001B[0mcat\u001B[0m\u001B[0;34m(\u001B[0m\u001B[0;34m[\u001B[0m\u001B[0mpast_key_value\u001B[0m\u001B[0;34m[\u001B[0m\u001B[0;36m1\u001B[0m\u001B[0;34m]\u001B[0m\u001B[0;34m,\u001B[0m \u001B[0mvalue_layer\u001B[0m\u001B[0;34m]\u001B[0m\u001B[0;34m,\u001B[0m \u001B[0mdim\u001B[0m\u001B[0;34m=\u001B[0m\u001B[0;36m2\u001B[0m\u001B[0;34m)\u001B[0m\u001B[0;34m\u001B[0m\u001B[0;34m\u001B[0m\u001B[0m\n\u001B[1;32m    305\u001B[0m         \u001B[0;32melse\u001B[0m\u001B[0;34m:\u001B[0m\u001B[0;34m\u001B[0m\u001B[0;34m\u001B[0m\u001B[0m\n\u001B[0;32m--> 306\u001B[0;31m             \u001B[0mkey_layer\u001B[0m \u001B[0;34m=\u001B[0m \u001B[0mself\u001B[0m\u001B[0;34m.\u001B[0m\u001B[0mtranspose_for_scores\u001B[0m\u001B[0;34m(\u001B[0m\u001B[0mself\u001B[0m\u001B[0;34m.\u001B[0m\u001B[0mkey\u001B[0m\u001B[0;34m(\u001B[0m\u001B[0mhidden_states\u001B[0m\u001B[0;34m)\u001B[0m\u001B[0;34m)\u001B[0m\u001B[0;34m\u001B[0m\u001B[0;34m\u001B[0m\u001B[0m\n\u001B[0m\u001B[1;32m    307\u001B[0m             \u001B[0mvalue_layer\u001B[0m \u001B[0;34m=\u001B[0m \u001B[0mself\u001B[0m\u001B[0;34m.\u001B[0m\u001B[0mtranspose_for_scores\u001B[0m\u001B[0;34m(\u001B[0m\u001B[0mself\u001B[0m\u001B[0;34m.\u001B[0m\u001B[0mvalue\u001B[0m\u001B[0;34m(\u001B[0m\u001B[0mhidden_states\u001B[0m\u001B[0;34m)\u001B[0m\u001B[0;34m)\u001B[0m\u001B[0;34m\u001B[0m\u001B[0;34m\u001B[0m\u001B[0m\n\u001B[1;32m    308\u001B[0m \u001B[0;34m\u001B[0m\u001B[0m\n",
      "\u001B[0;32m/opt/conda/lib/python3.7/site-packages/torch/nn/modules/module.py\u001B[0m in \u001B[0;36m_call_impl\u001B[0;34m(self, *input, **kwargs)\u001B[0m\n\u001B[1;32m   1188\u001B[0m         if not (self._backward_hooks or self._forward_hooks or self._forward_pre_hooks or _global_backward_hooks\n\u001B[1;32m   1189\u001B[0m                 or _global_forward_hooks or _global_forward_pre_hooks):\n\u001B[0;32m-> 1190\u001B[0;31m             \u001B[0;32mreturn\u001B[0m \u001B[0mforward_call\u001B[0m\u001B[0;34m(\u001B[0m\u001B[0;34m*\u001B[0m\u001B[0minput\u001B[0m\u001B[0;34m,\u001B[0m \u001B[0;34m**\u001B[0m\u001B[0mkwargs\u001B[0m\u001B[0;34m)\u001B[0m\u001B[0;34m\u001B[0m\u001B[0;34m\u001B[0m\u001B[0m\n\u001B[0m\u001B[1;32m   1191\u001B[0m         \u001B[0;31m# Do not call functions when jit is used\u001B[0m\u001B[0;34m\u001B[0m\u001B[0;34m\u001B[0m\u001B[0;34m\u001B[0m\u001B[0m\n\u001B[1;32m   1192\u001B[0m         \u001B[0mfull_backward_hooks\u001B[0m\u001B[0;34m,\u001B[0m \u001B[0mnon_full_backward_hooks\u001B[0m \u001B[0;34m=\u001B[0m \u001B[0;34m[\u001B[0m\u001B[0;34m]\u001B[0m\u001B[0;34m,\u001B[0m \u001B[0;34m[\u001B[0m\u001B[0;34m]\u001B[0m\u001B[0;34m\u001B[0m\u001B[0;34m\u001B[0m\u001B[0m\n",
      "\u001B[0;32m/opt/conda/lib/python3.7/site-packages/torch/nn/modules/linear.py\u001B[0m in \u001B[0;36mforward\u001B[0;34m(self, input)\u001B[0m\n\u001B[1;32m    112\u001B[0m \u001B[0;34m\u001B[0m\u001B[0m\n\u001B[1;32m    113\u001B[0m     \u001B[0;32mdef\u001B[0m \u001B[0mforward\u001B[0m\u001B[0;34m(\u001B[0m\u001B[0mself\u001B[0m\u001B[0;34m,\u001B[0m \u001B[0minput\u001B[0m\u001B[0;34m:\u001B[0m \u001B[0mTensor\u001B[0m\u001B[0;34m)\u001B[0m \u001B[0;34m->\u001B[0m \u001B[0mTensor\u001B[0m\u001B[0;34m:\u001B[0m\u001B[0;34m\u001B[0m\u001B[0;34m\u001B[0m\u001B[0m\n\u001B[0;32m--> 114\u001B[0;31m         \u001B[0;32mreturn\u001B[0m \u001B[0mF\u001B[0m\u001B[0;34m.\u001B[0m\u001B[0mlinear\u001B[0m\u001B[0;34m(\u001B[0m\u001B[0minput\u001B[0m\u001B[0;34m,\u001B[0m \u001B[0mself\u001B[0m\u001B[0;34m.\u001B[0m\u001B[0mweight\u001B[0m\u001B[0;34m,\u001B[0m \u001B[0mself\u001B[0m\u001B[0;34m.\u001B[0m\u001B[0mbias\u001B[0m\u001B[0;34m)\u001B[0m\u001B[0;34m\u001B[0m\u001B[0;34m\u001B[0m\u001B[0m\n\u001B[0m\u001B[1;32m    115\u001B[0m \u001B[0;34m\u001B[0m\u001B[0m\n\u001B[1;32m    116\u001B[0m     \u001B[0;32mdef\u001B[0m \u001B[0mextra_repr\u001B[0m\u001B[0;34m(\u001B[0m\u001B[0mself\u001B[0m\u001B[0;34m)\u001B[0m \u001B[0;34m->\u001B[0m \u001B[0mstr\u001B[0m\u001B[0;34m:\u001B[0m\u001B[0;34m\u001B[0m\u001B[0;34m\u001B[0m\u001B[0m\n",
      "\u001B[0;31mKeyboardInterrupt\u001B[0m: "
     ],
     "ename": "KeyboardInterrupt",
     "evalue": "",
     "output_type": "error"
    }
   ]
  },
  {
   "cell_type": "markdown",
   "source": [
    "#### Evaluation"
   ],
   "metadata": {}
  },
  {
   "cell_type": "code",
   "source": [
    "import matplotlib.pyplot as plt"
   ],
   "metadata": {
    "execution": {
     "iopub.status.busy": "2023-03-16T20:01:54.647306Z",
     "iopub.execute_input": "2023-03-16T20:01:54.648407Z",
     "iopub.status.idle": "2023-03-16T20:01:54.663718Z",
     "shell.execute_reply.started": "2023-03-16T20:01:54.648369Z",
     "shell.execute_reply": "2023-03-16T20:01:54.662603Z"
    },
    "trusted": true
   },
   "execution_count": 31,
   "outputs": []
  },
  {
   "cell_type": "code",
   "source": [
    "# Plot training and validation losses\n",
    "plt.plot(train_losses, label='Training Loss')\n",
    "plt.plot(val_losses, label='Validation Loss')\n",
    "plt.xlabel('Epoch')\n",
    "plt.ylabel('Loss')\n",
    "plt.title('Loss per epoch')\n",
    "plt.legend()\n",
    "plt.show()"
   ],
   "metadata": {
    "execution": {
     "iopub.status.busy": "2023-03-16T20:08:22.318352Z",
     "iopub.execute_input": "2023-03-16T20:08:22.318721Z",
     "iopub.status.idle": "2023-03-16T20:08:22.530354Z",
     "shell.execute_reply.started": "2023-03-16T20:08:22.318685Z",
     "shell.execute_reply": "2023-03-16T20:08:22.529361Z"
    },
    "trusted": true
   },
   "execution_count": 37,
   "outputs": [
    {
     "output_type": "display_data",
     "data": {
      "text/plain": "<Figure size 640x480 with 1 Axes>",
      "image/png": "[encoded data removed]"
     },
     "metadata": {}
    }
   ]
  },
  {
   "cell_type": "code",
   "source": [
    "# Plot training and validation accuracies\n",
    "plt.plot(val_accuracies, label='Training Loss')\n",
    "plt.plot(train_accuracies, label='Validation Loss')\n",
    "plt.xlabel('Epoch')\n",
    "plt.ylabel('Accuracy')\n",
    "plt.title('Accuracy per epoch')\n",
    "plt.legend()\n",
    "plt.show()"
   ],
   "metadata": {
    "execution": {
     "iopub.status.busy": "2023-03-16T20:09:12.339837Z",
     "iopub.execute_input": "2023-03-16T20:09:12.340560Z",
     "iopub.status.idle": "2023-03-16T20:09:12.552226Z",
     "shell.execute_reply.started": "2023-03-16T20:09:12.340522Z",
     "shell.execute_reply": "2023-03-16T20:09:12.551155Z"
    },
    "trusted": true
   },
   "execution_count": 39,
   "outputs": [
    {
     "output_type": "display_data",
     "data": {
      "text/plain": "<Figure size 640x480 with 1 Axes>",
      "image/png": "[encoded data removed]"
     },
     "metadata": {}
    }
   ]
  },
  {
   "cell_type": "code",
   "source": [
    "torch.save(model.state_dict(), 'speaker_context_gru_model.pt')"
   ],
   "metadata": {
    "execution": {
     "iopub.status.busy": "2023-03-16T20:01:54.986609Z",
     "iopub.execute_input": "2023-03-16T20:01:54.987691Z",
     "iopub.status.idle": "2023-03-16T20:01:55.617210Z",
     "shell.execute_reply.started": "2023-03-16T20:01:54.987649Z",
     "shell.execute_reply": "2023-03-16T20:01:55.616114Z"
    },
    "trusted": true
   },
   "execution_count": 33,
   "outputs": []
  },
  {
   "cell_type": "markdown",
   "source": [
    "### Load model"
   ],
   "metadata": {}
  },
  {
   "cell_type": "code",
   "source": [
    "mode_name = '/kaggle/input/grumodel/speaker_context_gru_model.pt'"
   ],
   "metadata": {
    "execution": {
     "iopub.status.busy": "2023-03-17T17:31:44.327625Z",
     "iopub.execute_input": "2023-03-17T17:31:44.328527Z",
     "iopub.status.idle": "2023-03-17T17:31:44.333559Z",
     "shell.execute_reply.started": "2023-03-17T17:31:44.328473Z",
     "shell.execute_reply": "2023-03-17T17:31:44.332534Z"
    },
    "trusted": true
   },
   "execution_count": 20,
   "outputs": []
  },
  {
   "cell_type": "code",
   "source": [
    "model_state_dict = torch.load(mode_name, map_location=torch.device('cpu'))\n",
    "model.load_state_dict(model_state_dict)"
   ],
   "metadata": {
    "execution": {
     "iopub.status.busy": "2023-03-17T17:31:45.614665Z",
     "iopub.execute_input": "2023-03-17T17:31:45.615372Z",
     "iopub.status.idle": "2023-03-17T17:31:48.711388Z",
     "shell.execute_reply.started": "2023-03-17T17:31:45.615333Z",
     "shell.execute_reply": "2023-03-17T17:31:48.710216Z"
    },
    "trusted": true
   },
   "execution_count": 21,
   "outputs": [
    {
     "execution_count": 21,
     "output_type": "execute_result",
     "data": {
      "text/plain": "<All keys matched successfully>"
     },
     "metadata": {}
    }
   ]
  },
  {
   "cell_type": "markdown",
   "source": [
    "#### Inference"
   ],
   "metadata": {}
  },
  {
   "cell_type": "code",
   "source": [
    "test_dataset = SWDADataset(swda['test'], tokenizer, max_seq_length=128)\n",
    "test_loader= DataLoader(test_dataset, batch_size=64, shuffle=True)"
   ],
   "metadata": {
    "execution": {
     "iopub.status.busy": "2023-03-17T17:30:20.286723Z",
     "iopub.execute_input": "2023-03-17T17:30:20.287941Z",
     "iopub.status.idle": "2023-03-17T17:30:20.293652Z",
     "shell.execute_reply.started": "2023-03-17T17:30:20.287900Z",
     "shell.execute_reply": "2023-03-17T17:30:20.292609Z"
    },
    "trusted": true
   },
   "execution_count": 18,
   "outputs": []
  },
  {
   "cell_type": "code",
   "source": [
    "import pandas as pd\n",
    "from sklearn.metrics import precision_recall_fscore_support\n",
    "import torch model.eval()\n",
    "test_loss = 0\n",
    "test_acc = 0\n",
    "all_true_labels = []\n",
    "all_predicted_labels = [] with torch.no_grad():\n",
    "    for input_text, context, labels in test_loader:\n",
    "        input_text = {\n",
    "            'input_ids': input_text['input_ids'].squeeze(1),\n",
    "            'attention_mask': input_text['attention_mask'].squeeze(1),\n",
    "            'token_type_ids': input_text['token_type_ids'].squeeze(1)\n",
    "            }\n",
    "        labels = labels.to(device)\n",
    "        output = model(input_ids=input_text['input_ids'].squeeze(1), \n",
    "                       attention_mask=input_text['attention_mask'].squeeze(1), \n",
    "                       token_type_ids=input_text['token_type_ids'].squeeze(1))\n",
    "        loss = criterion(output, labels)         \n",
    "        test_loss += loss.item() * input_text[\"input_ids\"].size(0)         # Compute accuracy for this batch\n",
    "        predicted_labels = output.argmax(dim=1)\n",
    "        num_correct = (predicted_labels == labels).sum().item()\n",
    "        acc = num_correct / len(labels)\n",
    "        test_acc += acc         # Store true and predicted labels for this batch\n",
    "        all_true_labels.extend(labels.cpu().numpy())\n",
    "        all_predicted_labels.extend(predicted_labels.cpu().numpy()) # Compute average test loss and accuracy\n",
    "test_loss /= len(test_loader)\n",
    "test_acc /= len(test_loader) # Calculate precision, recall, F1-score, and support\n",
    "precision, recall, f1_score, support = precision_recall_fscore_support(all_true_labels, all_predicted_labels, average='weighted', zero_division=0) # Create a DataFrame with the metrics\n",
    "metrics_data = {\n",
    "    'Test Accuracy': [test_acc],\n",
    "    'Weighted Avg Precision': [precision],\n",
    "    'Weighted Avg Recall': [recall],\n",
    "    'Weighted Avg F1-score': [f1_score],\n",
    "} metrics_df = pd.DataFrame(metrics_data) print(f'Test Loss: {test_loss:.4f}')\n",
    "print(metrics_df)\n",
    "\n"
   ],
   "metadata": {},
   "execution_count": null,
   "outputs": []
  },
  {
   "cell_type": "code",
   "source": [
    "import pandas as pd\n",
    "from sklearn.metrics import precision_recall_fscore_support\n",
    "\n",
    "model.eval()\n",
    "test_loss = 0\n",
    "test_acc = 0\n",
    "all_true_labels = []\n",
    "all_predicted_labels = []\n",
    "with torch.no_grad():\n",
    "    for input_text, context, speakers, labels in test_loader:\n",
    "        input_text = {'input_ids': input_text['input_ids'].squeeze(1),\n",
    "                      'attention_mask': input_text['attention_mask'].squeeze(1),\n",
    "                      'token_type_ids': input_text['token_type_ids'].squeeze(1)\n",
    "                     }        \n",
    "        context = {'input_ids': context['input_ids'].squeeze(1),\n",
    "                   'attention_mask': context['attention_mask'].squeeze(1),\n",
    "                   'token_type_ids': context['token_type_ids'].squeeze(1)\n",
    "                  }        \n",
    "        labels = labels.to(device)        \n",
    "        output = model(input_text,speakers, context)        \n",
    "        \n",
    "        loss = criterion(output, labels)\n",
    "        test_loss += loss.item() * input_text[\"input_ids\"].size(0)\n",
    "        predicted_labels = output.argmax(dim=1)\n",
    "        num_correct = (predicted_labels == labels).sum().item()\n",
    "        acc = num_correct / len(labels)\n",
    "        test_acc += acc\n",
    "        \n",
    "        all_true_labels.extend(labels.cpu().numpy())\n",
    "        all_predicted_labels.extend(predicted_labels.cpu().numpy())\n",
    "test_loss /= len(test_loader)\n",
    "test_acc /= len(test_loader)"
   ],
   "metadata": {
    "execution": {
     "iopub.status.busy": "2023-03-17T17:36:51.607749Z",
     "iopub.execute_input": "2023-03-17T17:36:51.608367Z",
     "iopub.status.idle": "2023-03-17T17:37:36.092661Z",
     "shell.execute_reply.started": "2023-03-17T17:36:51.608327Z",
     "shell.execute_reply": "2023-03-17T17:37:36.091629Z"
    },
    "trusted": true
   },
   "execution_count": 32,
   "outputs": []
  },
  {
   "cell_type": "code",
   "source": [
    "print('test loss: %.3f, test accuracy: %.3f%%' %\n",
    "      (test_loss, test_acc))"
   ],
   "metadata": {
    "execution": {
     "iopub.status.busy": "2023-03-17T17:38:11.255659Z",
     "iopub.execute_input": "2023-03-17T17:38:11.256702Z",
     "iopub.status.idle": "2023-03-17T17:38:11.262858Z",
     "shell.execute_reply.started": "2023-03-17T17:38:11.256660Z",
     "shell.execute_reply": "2023-03-17T17:38:11.261741Z"
    },
    "trusted": true
   },
   "execution_count": 33,
   "outputs": [
    {
     "name": "stdout",
     "text": "test loss: 77.276, test accuracy: 0.613%\n",
     "output_type": "stream"
    }
   ]
  },
  {
   "cell_type": "code",
   "source": [
    "# Calculate precision, recall, F1-score, and support\n",
    "precision, recall, f1_score, support = precision_recall_fscore_support(all_true_labels, all_predicted_labels, average='weighted',zero_division=1)\n",
    "# Create a DataFrame with the metrics\n",
    "metrics_data = { 'Weighted Avg Precision': [precision],\n",
    "                'Weighted Avg Recall': [recall],\n",
    "                'Weighted Avg F1-score': [f1_score]\n",
    "               }\n",
    "metrics_df = pd.DataFrame(metrics_data)\n",
    "\n",
    "# Display the metrics DataFrame\n",
    "print(metrics_df)"
   ],
   "metadata": {
    "execution": {
     "iopub.status.busy": "2023-03-16T20:25:56.388316Z",
     "iopub.execute_input": "2023-03-16T20:25:56.389574Z",
     "iopub.status.idle": "2023-03-16T20:25:56.406546Z",
     "shell.execute_reply.started": "2023-03-16T20:25:56.389522Z",
     "shell.execute_reply": "2023-03-16T20:25:56.405184Z"
    },
    "trusted": true
   },
   "execution_count": 56,
   "outputs": [
    {
     "name": "stdout",
     "text": "   Weighted Avg Precision  Weighted Avg Recall  Weighted Avg F1-score\n0                0.637928             0.612317               0.583538\n",
     "output_type": "stream"
    }
   ]
  }
 ]
}
